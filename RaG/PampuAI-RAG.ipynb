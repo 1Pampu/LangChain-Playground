{
 "cells": [
  {
   "cell_type": "code",
   "execution_count": 1,
   "metadata": {},
   "outputs": [],
   "source": [
    "from langchain_community.document_loaders import UnstructuredODTLoader\n",
    "from langchain_text_splitters import RecursiveCharacterTextSplitter\n",
    "from langchain_chroma import Chroma\n",
    "from langchain_huggingface import ChatHuggingFace, HuggingFaceEndpoint\n",
    "from langchain.embeddings import HuggingFaceBgeEmbeddings\n",
    "from dotenv import load_dotenv\n",
    "from langchain_core.prompts import ChatPromptTemplate\n",
    "import os\n",
    "from langchain_core.output_parsers import StrOutputParser\n",
    "from langchain_core.runnables import RunnablePassthrough"
   ]
  },
  {
   "cell_type": "code",
   "execution_count": 2,
   "metadata": {},
   "outputs": [
    {
     "name": "stdout",
     "output_type": "stream",
     "text": [
      "1\n",
      "[Document(metadata={'source': 'content/MartinCV.odt'}, page_content='Contacto\\n\\nArgentina, Buenos Aires, Punta Alta ● telefono celular: +54 2932 45-8108 Correo electronico email: piampianimartin@gmail.com ● linkedin.com/in/martin-piampiani ● github.com/1Pampu\\n\\nRESUMEN\\n\\nGraduado en Programación por la Universidad Provincial del Sudoeste, donde fortalecí mis habilidades técnicas y adquirí una sólida base en desarrollo de software. Con un nivel de inglés B2 certificado, me especializo en el desarrollo Backend y destaco por mi capacidad de adaptación y flexibilidad.\\n\\n  HABILIDADES TÉCNICAS - TECNOLOGIAS\\n\\n● Python ● C# ● JavaScript ● Docker ● Django ● .NET Framework ● HTML5 ● Linux ● Flask ● SQL ● CSS ● API REST ● FastAPI ● MySQL ● GIT ● OOP\\n\\n  FORMACIÓN ACADÉMICA - ESTUDIOS\\n\\nTecnicatura Universitaria en Tecnologías de la Programación ●Universidad Provincial del Sudoeste 2021-2023\\n\\nPrograma de estudios enfocado en la iniciación en el desarrollo fullstack, bases de datos, análisis de datos, machine learning y programación orientada a objetos.\\n\\nUpper Intermediate B2 Level ●Instituto de Inglés John H. Newman 2011-2019\\n\\nPrograma completo de inglés que cubre habilidades auditivas, expresión oral, lectura y escritura.\\n\\n  Experiencia laboral\\n\\n Freelance developer 01/2024 – Ahora\\n\\n A pesar de no tener experiencia laboral formal, trabajo de forma freelance para pequeños clientes que hice con el tiempo, en su mayoria para realizar web apps.\\n\\n“No Country” - Simulación Laboral\\n\\nParticipé como desarrollador backend en una de las simulaciones laborales ofrecidas por la startup \"No Country\". Junto con un equipo, desarrollamos una aplicación completamente funcional desde cero. Durante esta simulación, aplicamos metodologías ágiles, incluyendo reuniones diarias de Scrum y planificación de sprints.\\n\\n  PROYECTOS\\n\\nGestor de contratos\\n\\nDesarrollo un sistema de gestión de contratos para un cliente, incluyendo la creación de\\n\\ncontratos desde datos de personas e inmuebles, y la capacidad de hacer y restaurar backups.\\n\\nAunque sigue en curso, ya completé la creación de backups y la funcionalidad principal de\\n\\ncontratos, y estoy finalizando la implementación del seguimiento de pagos.\\n\\nSistema de control de stock\\n\\nComo parte de un equipo de desarrollo, lideré la creación del backend (API) para un sistema de\\n\\ncontrol de stock, además de colaborar en el diseño de la base de datos. Este proyecto final incluyó funciones clave como el seguimiento de inventario y la generación de facturas.')]\n"
     ]
    }
   ],
   "source": [
    "file_path = (\n",
    "    \"content/MartinCV.odt\"\n",
    ")\n",
    "loader = UnstructuredODTLoader(file_path)\n",
    "pages = loader.load()\n",
    "\n",
    "print(len(pages))\n",
    "print(pages)"
   ]
  },
  {
   "cell_type": "code",
   "execution_count": 3,
   "metadata": {},
   "outputs": [
    {
     "name": "stdout",
     "output_type": "stream",
     "text": [
      "6\n",
      "chunk # 0 len: 498: Contacto\n",
      "\n",
      "Argentina, Buenos Aires, Punta Alta ● telefono celular: +54 2932 45-8108 Correo electronico email: piampianimartin@gmail.com ● linkedin.com/in/martin-piampiani ● github.com/1Pampu\n",
      "\n",
      "RESUMEN\n",
      "\n",
      "Graduado en Programación por la Universidad Provincial del Sudoeste, donde fortalecí mis habilidades técnicas y adquirí una sólida base en desarrollo de software. Con un nivel de inglés B2 certificado, me especializo en el desarrollo Backend y destaco por mi capacidad de adaptación y flexibilidad.\n",
      "chunk # 1 len: 480: HABILIDADES TÉCNICAS - TECNOLOGIAS\n",
      "\n",
      "● Python ● C# ● JavaScript ● Docker ● Django ● .NET Framework ● HTML5 ● Linux ● Flask ● SQL ● CSS ● API REST ● FastAPI ● MySQL ● GIT ● OOP\n",
      "\n",
      "  FORMACIÓN ACADÉMICA - ESTUDIOS\n",
      "\n",
      "Tecnicatura Universitaria en Tecnologías de la Programación ●Universidad Provincial del Sudoeste 2021-2023\n",
      "\n",
      "Programa de estudios enfocado en la iniciación en el desarrollo fullstack, bases de datos, análisis de datos, machine learning y programación orientada a objetos.\n",
      "chunk # 2 len: 430: Upper Intermediate B2 Level ●Instituto de Inglés John H. Newman 2011-2019\n",
      "\n",
      "Programa completo de inglés que cubre habilidades auditivas, expresión oral, lectura y escritura.\n",
      "\n",
      "  Experiencia laboral\n",
      "\n",
      " Freelance developer 01/2024 – Ahora\n",
      "\n",
      " A pesar de no tener experiencia laboral formal, trabajo de forma freelance para pequeños clientes que hice con el tiempo, en su mayoria para realizar web apps.\n",
      "\n",
      "“No Country” - Simulación Laboral\n",
      "chunk # 3 len: 479: “No Country” - Simulación Laboral\n",
      "\n",
      "Participé como desarrollador backend en una de las simulaciones laborales ofrecidas por la startup \"No Country\". Junto con un equipo, desarrollamos una aplicación completamente funcional desde cero. Durante esta simulación, aplicamos metodologías ágiles, incluyendo reuniones diarias de Scrum y planificación de sprints.\n",
      "\n",
      "  PROYECTOS\n",
      "\n",
      "Gestor de contratos\n",
      "\n",
      "Desarrollo un sistema de gestión de contratos para un cliente, incluyendo la creación de\n",
      "chunk # 4 len: 473: Desarrollo un sistema de gestión de contratos para un cliente, incluyendo la creación de\n",
      "\n",
      "contratos desde datos de personas e inmuebles, y la capacidad de hacer y restaurar backups.\n",
      "\n",
      "Aunque sigue en curso, ya completé la creación de backups y la funcionalidad principal de\n",
      "\n",
      "contratos, y estoy finalizando la implementación del seguimiento de pagos.\n",
      "\n",
      "Sistema de control de stock\n",
      "\n",
      "Como parte de un equipo de desarrollo, lideré la creación del backend (API) para un sistema de\n",
      "chunk # 5 len: 274: Como parte de un equipo de desarrollo, lideré la creación del backend (API) para un sistema de\n",
      "\n",
      "control de stock, además de colaborar en el diseño de la base de datos. Este proyecto final incluyó funciones clave como el seguimiento de inventario y la generación de facturas.\n",
      "[Document(metadata={'source': 'content/MartinCV.odt'}, page_content='Contacto\\n\\nArgentina, Buenos Aires, Punta Alta ● telefono celular: +54 2932 45-8108 Correo electronico email: piampianimartin@gmail.com ● linkedin.com/in/martin-piampiani ● github.com/1Pampu\\n\\nRESUMEN\\n\\nGraduado en Programación por la Universidad Provincial del Sudoeste, donde fortalecí mis habilidades técnicas y adquirí una sólida base en desarrollo de software. Con un nivel de inglés B2 certificado, me especializo en el desarrollo Backend y destaco por mi capacidad de adaptación y flexibilidad.'), Document(metadata={'source': 'content/MartinCV.odt'}, page_content='HABILIDADES TÉCNICAS - TECNOLOGIAS\\n\\n● Python ● C# ● JavaScript ● Docker ● Django ● .NET Framework ● HTML5 ● Linux ● Flask ● SQL ● CSS ● API REST ● FastAPI ● MySQL ● GIT ● OOP\\n\\n  FORMACIÓN ACADÉMICA - ESTUDIOS\\n\\nTecnicatura Universitaria en Tecnologías de la Programación ●Universidad Provincial del Sudoeste 2021-2023\\n\\nPrograma de estudios enfocado en la iniciación en el desarrollo fullstack, bases de datos, análisis de datos, machine learning y programación orientada a objetos.'), Document(metadata={'source': 'content/MartinCV.odt'}, page_content='Upper Intermediate B2 Level ●Instituto de Inglés John H. Newman 2011-2019\\n\\nPrograma completo de inglés que cubre habilidades auditivas, expresión oral, lectura y escritura.\\n\\n  Experiencia laboral\\n\\n Freelance developer 01/2024 – Ahora\\n\\n A pesar de no tener experiencia laboral formal, trabajo de forma freelance para pequeños clientes que hice con el tiempo, en su mayoria para realizar web apps.\\n\\n“No Country” - Simulación Laboral'), Document(metadata={'source': 'content/MartinCV.odt'}, page_content='“No Country” - Simulación Laboral\\n\\nParticipé como desarrollador backend en una de las simulaciones laborales ofrecidas por la startup \"No Country\". Junto con un equipo, desarrollamos una aplicación completamente funcional desde cero. Durante esta simulación, aplicamos metodologías ágiles, incluyendo reuniones diarias de Scrum y planificación de sprints.\\n\\n  PROYECTOS\\n\\nGestor de contratos\\n\\nDesarrollo un sistema de gestión de contratos para un cliente, incluyendo la creación de'), Document(metadata={'source': 'content/MartinCV.odt'}, page_content='Desarrollo un sistema de gestión de contratos para un cliente, incluyendo la creación de\\n\\ncontratos desde datos de personas e inmuebles, y la capacidad de hacer y restaurar backups.\\n\\nAunque sigue en curso, ya completé la creación de backups y la funcionalidad principal de\\n\\ncontratos, y estoy finalizando la implementación del seguimiento de pagos.\\n\\nSistema de control de stock\\n\\nComo parte de un equipo de desarrollo, lideré la creación del backend (API) para un sistema de'), Document(metadata={'source': 'content/MartinCV.odt'}, page_content='Como parte de un equipo de desarrollo, lideré la creación del backend (API) para un sistema de\\n\\ncontrol de stock, además de colaborar en el diseño de la base de datos. Este proyecto final incluyó funciones clave como el seguimiento de inventario y la generación de facturas.')]\n"
     ]
    }
   ],
   "source": [
    "spliter = RecursiveCharacterTextSplitter(\n",
    "    chunk_size=500,\n",
    "    chunk_overlap=100,\n",
    ")\n",
    "\n",
    "chunks = spliter.split_documents(pages)\n",
    "print(len(chunks))\n",
    "for i, _ in enumerate(chunks):\n",
    "    print(f'chunk # {i} len: {len(chunks[i].page_content)}: {chunks[i].page_content}')\n",
    "print(chunks)"
   ]
  },
  {
   "cell_type": "code",
   "execution_count": 4,
   "metadata": {},
   "outputs": [
    {
     "name": "stderr",
     "output_type": "stream",
     "text": [
      "d:\\02-NextCloud\\github\\LangChain-Playground\\.venv\\lib\\site-packages\\sentence_transformers\\cross_encoder\\CrossEncoder.py:11: TqdmWarning: IProgress not found. Please update jupyter and ipywidgets. See https://ipywidgets.readthedocs.io/en/stable/user_install.html\n",
      "  from tqdm.autonotebook import tqdm, trange\n"
     ]
    }
   ],
   "source": [
    "model_name = \"BAAI/bge-base-en-v1.5\"\n",
    "model_kwargs = {\"device\": \"cpu\"}\n",
    "encode_kwargs = {\"normalize_embeddings\": True}\n",
    "\n",
    "hf = HuggingFaceBgeEmbeddings(\n",
    "    model_name=model_name,\n",
    "    model_kwargs=model_kwargs,\n",
    "    encode_kwargs=encode_kwargs\n",
    ")\n",
    "\n",
    "vectorstore = Chroma.from_documents(\n",
    "    chunks,\n",
    "    embedding=hf,\n",
    ")"
   ]
  },
  {
   "cell_type": "code",
   "execution_count": 5,
   "metadata": {},
   "outputs": [
    {
     "name": "stdout",
     "output_type": "stream",
     "text": [
      "2\n",
      "Upper Intermediate B2 Level ●Instituto de Inglés John H. Newman 2011-2019\n",
      "\n",
      "Programa completo de inglés que cubre habilidades auditivas, expresión oral, lectura y escritura.\n",
      "\n",
      "  Experiencia laboral\n",
      "\n",
      " Freelance developer 01/2024 – Ahora\n",
      "\n",
      " A pesar de no tener experiencia laboral formal, trabajo de forma freelance para pequeños clientes que hice con el tiempo, en su mayoria para realizar web apps.\n",
      "\n",
      "“No Country” - Simulación Laboral\n",
      "“No Country” - Simulación Laboral\n",
      "\n",
      "Participé como desarrollador backend en una de las simulaciones laborales ofrecidas por la startup \"No Country\". Junto con un equipo, desarrollamos una aplicación completamente funcional desde cero. Durante esta simulación, aplicamos metodologías ágiles, incluyendo reuniones diarias de Scrum y planificación de sprints.\n",
      "\n",
      "  PROYECTOS\n",
      "\n",
      "Gestor de contratos\n",
      "\n",
      "Desarrollo un sistema de gestión de contratos para un cliente, incluyendo la creación de\n"
     ]
    }
   ],
   "source": [
    "retriever = vectorstore.as_retriever(search_type=\"similarity\", search_kwargs={\"k\":2})\n",
    "\n",
    "retrieved_docs = retriever.invoke(\"tiene alguna experiencia laboral?\")\n",
    "\n",
    "print(len(retrieved_docs))\n",
    "for doc in retrieved_docs:\n",
    "    print(doc.page_content)"
   ]
  },
  {
   "cell_type": "code",
   "execution_count": 6,
   "metadata": {},
   "outputs": [
    {
     "name": "stdout",
     "output_type": "stream",
     "text": [
      "The token has not been saved to the git credentials helper. Pass `add_to_git_credential=True` in this function directly or `--add-to-git-credential` if using via `huggingface-cli` if you want to set the git credential as well.\n",
      "Token is valid (permission: write).\n",
      "Your token has been saved to C:\\Users\\piamp\\.cache\\huggingface\\token\n",
      "Login successful\n"
     ]
    },
    {
     "name": "stderr",
     "output_type": "stream",
     "text": [
      "Special tokens have been added in the vocabulary, make sure the associated word embeddings are fine-tuned or trained.\n"
     ]
    }
   ],
   "source": [
    "load_dotenv()\n",
    "hf_token = os.getenv(\"HF_TOKEN\")\n",
    "\n",
    "llm = HuggingFaceEndpoint(\n",
    "    repo_id=\"meta-llama/Meta-Llama-3-8B-Instruct\",\n",
    "    task=\"text-generation\",\n",
    "    max_new_tokens=512,\n",
    "    do_sample=False,\n",
    "    repetition_penalty=1.03,\n",
    "    huggingfacehub_api_token=hf_token\n",
    ")\n",
    "llama = ChatHuggingFace(llm=llm)"
   ]
  },
  {
   "cell_type": "code",
   "execution_count": 7,
   "metadata": {},
   "outputs": [],
   "source": [
    "sistem_template = \"\"\"Sos PampuAI creado por martin piampiani para responder preguntas sobre su CV.\n",
    "Responde unicamente a la pregunta que se te hace unicamente con el contexto que se te proporciona, si no sabes la respuesta solo deci que no sabes la respuesta.\n",
    "Da una respuesta completa, no omitas cosas, y cuando puedas da ejemplos.\n",
    "\"\"\"\n",
    "\n",
    "message_template = \"\"\"\n",
    "{question}\n",
    "\n",
    "Context:\n",
    "{context}\n",
    "\"\"\"\n",
    "prompt = ChatPromptTemplate.from_messages([(\"system\", sistem_template),(\"human\", message_template)])"
   ]
  },
  {
   "cell_type": "code",
   "execution_count": 9,
   "metadata": {},
   "outputs": [
    {
     "name": "stdout",
     "output_type": "stream",
     "text": [
      "Según la información proporcionada, Martin maneja las siguientes tecnologías:\n",
      "\n",
      "1. Lenguajes de programación:\n",
      "\t* Python\n",
      "\t* C#\n",
      "\t* JavaScript\n",
      "2. Frameworks y bibliotecas:\n",
      "\t* Django\n",
      "\t*.NET Framework\n",
      "\t* Flask\n",
      "\t* FastAPI\n",
      "3. Base de datos:\n",
      "\t* SQL\n",
      "\t* MySQL\n",
      "4. Herramientas de desarrollo:\n",
      "\t* Git\n",
      "5. Otras tecnologías:\n",
      "\t\n"
     ]
    }
   ],
   "source": [
    "chain = {\"context\": retriever, \"question\": RunnablePassthrough()} | prompt | llama | StrOutputParser()\n",
    "print(chain.invoke(input(\"\")))"
   ]
  }
 ],
 "metadata": {
  "kernelspec": {
   "display_name": ".venv",
   "language": "python",
   "name": "python3"
  },
  "language_info": {
   "codemirror_mode": {
    "name": "ipython",
    "version": 3
   },
   "file_extension": ".py",
   "mimetype": "text/x-python",
   "name": "python",
   "nbconvert_exporter": "python",
   "pygments_lexer": "ipython3",
   "version": "3.10.11"
  }
 },
 "nbformat": 4,
 "nbformat_minor": 2
}
