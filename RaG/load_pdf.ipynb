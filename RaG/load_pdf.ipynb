{
 "cells": [
  {
   "cell_type": "code",
   "execution_count": 25,
   "metadata": {},
   "outputs": [
    {
     "name": "stdout",
     "output_type": "stream",
     "text": [
      "4\n",
      "[Document(metadata={'source': 'content/jison.pdf', 'page': 0}, page_content='LOS SISTEMAS DE INFORMACIÓN: \\nIMPORTANCIA, FUNDAMENTOS, CALIDAD Y \\nGESTIÓN ESTRATÉGICA DE LAS TECNOLOGÍAS \\nDE LA INFORMACIÓN  \\nJavier Garzás  \\n \\n1. EL CONCEPTO DE SISTEMA DE  INFORMACIÓN  \\n1.1. DEFINICIÓN  \\nSegún el diccionario de María Moliner (Moliner, 1990), sistema es el “Conjunto \\nordenado de normas y procedimientos con que funciona o se hace funcionar una cosa. \\nConjunto de cosas que se mueven, actúan u obran coordenadamente” . Esta definición \\ntan amplia c ombina los elementos estáticos con los dinámicos, al mismo tiempo que por \\nun lado las normas y por otro los elementos. Esencialmente, con respecto a la definición \\nde sistema debemos destacar  que:  \\n\\uf0b7 Los sistemas están limitados, natural o  artificialmente.  \\n\\uf0b7 Todo lo que está situado fuera de los límites del sistema se denomina  entorno  \\n\\uf0b7 El sistema toma elementos del entorno, entradas, como materias primas \\npara elaborar los productos que se devuelven al entorno,  salidas.  \\n\\uf0b7 Los sistemas pueden ser naturales o artificiales, si son debidos al hombre. \\nUn sistema de información es un sistema  artificial.  \\nCon todo, podemos definir a un sistema de información como una colección organizada \\nde personas, información y procesos de negoc io diseñados para transformar entradas en \\nsalidas y lograr un objetivo. Funciones, elementos o componentes interrelacionados y que \\ninteractúan entre si, formando un todo.  \\nContiene información de sus procesos y su entorno.  \\nEn palabras de (Laudon & Laudon, 2 001) “Un conjunto de componentes \\ninterrelacionados que permiten capturar, procesar, almacenar y distribuir la información \\npara apoyar la toma de decisiones y el control en una institución”.  \\n1.2. ACTIVIDADES  \\nUn sistema de información comprende un conjunto de ele mentos que interactúan entre si \\ncon el fin de acceder, crear, encontrar almacenar y transformar la información \\nnecesaria, para respaldar las actividades de la empresa, sirviendo de apoyo para la toma \\nde decisiones.  \\nLos sistemas de información llevan a cabo  tres actividades básicas (ver Figura 1): \\nentrada, procesamiento y salida. La retroalimentación consiste en entradas que son \\ndevueltas para ser evaluadas perfeccionadas.  \\nLa entrada de información se refiere al proceso en el que el sistema de información'), Document(metadata={'source': 'content/jison.pdf', 'page': 1}, page_content='recopila los datos que se necesitan para procesar la información, estas entradas pueden \\nser manuales que son suministradas al usuario directamente o automáticas que se \\nobtienen de otros sistemas, por ejemplo los datos de un cliente.  \\nEl procesamiento de la in formación se refiere a que con una secuencia de datos \\npreviamente establecida el sistema lleve a cabo cálculos que pueden confeccionarse con \\ndatos recién introducidos o que ya han sido almacenados, lo que hace que los datos \\nfuente se puedan transformar en información, para poder ser usada en el proceso de toma \\nde decisiones, por ejemplo el cálculo del saldo de un cliente.  \\nFinalmente la salida de la información es obtener información procesada, que puede ser la \\nentrada de otro sistema, por ejemplo, un estado de cuenta.  \\n \\n \\nREALIMENTACIÓN  \\nFigura 1. Esquema de un Sistema \\nde Información  \\n1.3. COMPONENTES  \\nDe manera general, los compone ntes de un sistema de información son los siguientes:  \\n• Información. Es el principal componente de todo sistema y su razón de ser, debe \\nser adaptable a las personas que lo utilizan y al equipo disponible, de acuerdo a \\nlos procedimientos de  trabajo para que l as tareas se lleven a cabo de forma  \\neficaz.  \\n• Usuarios. Pueden ser informáticos o no informáticos, es decir, son los individuos \\no las unidades de la empresa que procesan la información para la realización de \\nsus actividades en función de los procesos de trab ajo establecidos.  \\n• Soporte. Es utilizado para el procesamiento y el almacenamiento de \\ninformación, incluye el hardware, por ejemplo la unidad central de procesos \\ny el software que puede ser el sistema operativo.  \\nPosteriormente, en la sección 1.5 veremos como estos componentes pueden ser muchos \\notros cuando hablamos de un tipo específico de SI como es el SI basado en \\ncomputador.  \\n1.4. CONTEXTO  \\nToda organización necesita, para su funcionamiento, un conjunto de información  \\nque se ha de transmitir entre sus elementos y desde y hacia el exterior del \\nsistema.  \\n\\uf0b7 Una parte de esta comunicación que se realiza por medio de contactos \\ninterpersonales entre los empleados, es el sistema de información  informal . \\n \\nPROCESO  \\n \\nENTRADA  \\n \\nSALIDA'), Document(metadata={'source': 'content/jison.pdf', 'page': 2}, page_content='\\uf0b7 Cuando se trata de organi smos complejos, este tipo de flujo de información \\nes insuficiente y costoso, por lo que se hace necesario un sistema de \\ninformación formal u  organizacional . \\n\\uf0b7 Un sistema de Información toma datos del entorno y devuelve como resultado la \\ninformación que la or ganización requiere para su gestión y toma de  decisiones.  \\n\\uf0b7 La organización debe marcar objetivos y directrices que permitan regular al  SI. \\n\\uf0b7 Se denomina Sistema Objeto a la parte de la organización de la cual se nutre \\nel SI y a la cual revierten sus resultado s. Los SI son sistemas eminentemente  \\ndinámicos.  \\n1.5. SISTEMAS DE INFORMACIÓN BASADOS EN COMPUTADOR  \\nActualmente los sistemas de información basados en computador son \\nindispensables en toda organización, debido al uso indispensable del PC. Este \\ntipo de sistemas se caracterizan por:  \\n\\uf0b7 Una definición conocida y fija de datos y  procedimientos  \\n\\uf0b7 Recogen, almacena n, procesan, distribuyen y utilizan esos  datos  \\n\\uf0b7 Están estructurados, es decir, funcionan según reglas predefinidas, \\nrelativamente fijas y no se modifican con  facilidad  \\nEn el resto del capítulo haremos referencia a los SI basados en computador.  \\nEn un SI basa do en computador pueden identificarse cuatro elementos básicos:  \\n\\uf0b7 Hardware, que constituye la parte tangible del SI. Conjunto de equipos, \\ndispositivos y  periféricos utilizados como infraestructura para procesar, almacenar \\ny mostrar  información.  \\n\\uf0b7 Software, pro gramas que permiten que el hardware realice los procesos  necesarios.  \\n\\uf0b7 Almacén o base de datos, conjunto de datos que se almacenan en un sistema \\ninformático y sobre los cuales es posible efectuar diferentes  operaciones.  \\n\\uf0b7 Red, para compartir recursos con otros  SI.'), Document(metadata={'source': 'content/jison.pdf', 'page': 3}, page_content='Figura 2. Componentes de un SI  \\n \\nS  \\nI  \\nS \\nT \\nE \\nM \\nA \\n \\n \\n \\n \\n \\n \\n \\n  \\n \\n \\nD \\nE \\n \\nI \\nN \\nF \\nO \\nR \\nM \\nA \\nC \\n I \\nO \\nN')]\n"
     ]
    }
   ],
   "source": [
    "from langchain_community.document_loaders import PyPDFLoader\n",
    "\n",
    "file_path = (\n",
    "    \"content/jison.pdf\"\n",
    ")\n",
    "loader = PyPDFLoader(file_path)\n",
    "pages = loader.load_and_split()\n",
    "\n",
    "print(len(pages))\n",
    "print(pages)"
   ]
  },
  {
   "cell_type": "code",
   "execution_count": 14,
   "metadata": {},
   "outputs": [
    {
     "name": "stdout",
     "output_type": "stream",
     "text": [
      "15\n",
      "chunk # 0 len: 453: LOS SISTEMAS DE INFORMACIÓN: \n",
      "IMPORTANCIA, FUNDAMENTOS, CALIDAD Y \n",
      "GESTIÓN ESTRATÉGICA DE LAS TECNOLOGÍAS \n",
      "DE LA INFORMACIÓN  \n",
      "Javier Garzás  \n",
      " \n",
      "1. EL CONCEPTO DE SISTEMA DE  INFORMACIÓN  \n",
      "1.1. DEFINICIÓN  \n",
      "Según el diccionario de María Moliner (Moliner, 1990), sistema es el “Conjunto \n",
      "ordenado de normas y procedimientos con que funciona o se hace funcionar una cosa. \n",
      "Conjunto de cosas que se mueven, actúan u obran coordenadamente” . Esta definición\n",
      "chunk # 1 len: 430: tan amplia c ombina los elementos estáticos con los dinámicos, al mismo tiempo que por \n",
      "un lado las normas y por otro los elementos. Esencialmente, con respecto a la definición \n",
      "de sistema debemos destacar  que:  \n",
      " Los sistemas están limitados, natural o  artificialmente.  \n",
      " Todo lo que está situado fuera de los límites del sistema se denomina  entorno  \n",
      " El sistema toma elementos del entorno, entradas, como materias primas\n",
      "chunk # 2 len: 464: para elaborar los productos que se devuelven al entorno,  salidas.  \n",
      " Los sistemas pueden ser naturales o artificiales, si son debidos al hombre. \n",
      "Un sistema de información es un sistema  artificial.  \n",
      "Con todo, podemos definir a un sistema de información como una colección organizada \n",
      "de personas, información y procesos de negoc io diseñados para transformar entradas en \n",
      "salidas y lograr un objetivo. Funciones, elementos o componentes interrelacionados y que\n",
      "chunk # 3 len: 429: interactúan entre si, formando un todo.  \n",
      "Contiene información de sus procesos y su entorno.  \n",
      "En palabras de (Laudon & Laudon, 2 001) “Un conjunto de componentes \n",
      "interrelacionados que permiten capturar, procesar, almacenar y distribuir la información \n",
      "para apoyar la toma de decisiones y el control en una institución”.  \n",
      "1.2. ACTIVIDADES  \n",
      "Un sistema de información comprende un conjunto de ele mentos que interactúan entre si\n",
      "chunk # 4 len: 486: con el fin de acceder, crear, encontrar almacenar y transformar la información \n",
      "necesaria, para respaldar las actividades de la empresa, sirviendo de apoyo para la toma \n",
      "de decisiones.  \n",
      "Los sistemas de información llevan a cabo  tres actividades básicas (ver Figura 1): \n",
      "entrada, procesamiento y salida. La retroalimentación consiste en entradas que son \n",
      "devueltas para ser evaluadas perfeccionadas.  \n",
      "La entrada de información se refiere al proceso en el que el sistema de información\n",
      "chunk # 5 len: 488: recopila los datos que se necesitan para procesar la información, estas entradas pueden \n",
      "ser manuales que son suministradas al usuario directamente o automáticas que se \n",
      "obtienen de otros sistemas, por ejemplo los datos de un cliente.  \n",
      "El procesamiento de la in formación se refiere a que con una secuencia de datos \n",
      "previamente establecida el sistema lleve a cabo cálculos que pueden confeccionarse con \n",
      "datos recién introducidos o que ya han sido almacenados, lo que hace que los datos\n",
      "chunk # 6 len: 480: fuente se puedan transformar en información, para poder ser usada en el proceso de toma \n",
      "de decisiones, por ejemplo el cálculo del saldo de un cliente.  \n",
      "Finalmente la salida de la información es obtener información procesada, que puede ser la \n",
      "entrada de otro sistema, por ejemplo, un estado de cuenta.  \n",
      " \n",
      " \n",
      "REALIMENTACIÓN  \n",
      "Figura 1. Esquema de un Sistema \n",
      "de Información  \n",
      "1.3. COMPONENTES  \n",
      "De manera general, los compone ntes de un sistema de información son los siguientes:\n",
      "chunk # 7 len: 490: • Información. Es el principal componente de todo sistema y su razón de ser, debe \n",
      "ser adaptable a las personas que lo utilizan y al equipo disponible, de acuerdo a \n",
      "los procedimientos de  trabajo para que l as tareas se lleven a cabo de forma  \n",
      "eficaz.  \n",
      "• Usuarios. Pueden ser informáticos o no informáticos, es decir, son los individuos \n",
      "o las unidades de la empresa que procesan la información para la realización de \n",
      "sus actividades en función de los procesos de trab ajo establecidos.\n",
      "chunk # 8 len: 466: • Soporte. Es utilizado para el procesamiento y el almacenamiento de \n",
      "información, incluye el hardware, por ejemplo la unidad central de procesos \n",
      "y el software que puede ser el sistema operativo.  \n",
      "Posteriormente, en la sección 1.5 veremos como estos componentes pueden ser muchos \n",
      "otros cuando hablamos de un tipo específico de SI como es el SI basado en \n",
      "computador.  \n",
      "1.4. CONTEXTO  \n",
      "Toda organización necesita, para su funcionamiento, un conjunto de información\n",
      "chunk # 9 len: 271: que se ha de transmitir entre sus elementos y desde y hacia el exterior del \n",
      "sistema.  \n",
      " Una parte de esta comunicación que se realiza por medio de contactos \n",
      "interpersonales entre los empleados, es el sistema de información  informal . \n",
      " \n",
      "PROCESO  \n",
      " \n",
      "ENTRADA  \n",
      " \n",
      "SALIDA\n",
      "chunk # 10 len: 436:  Cuando se trata de organi smos complejos, este tipo de flujo de información \n",
      "es insuficiente y costoso, por lo que se hace necesario un sistema de \n",
      "información formal u  organizacional . \n",
      " Un sistema de Información toma datos del entorno y devuelve como resultado la \n",
      "información que la or ganización requiere para su gestión y toma de  decisiones.  \n",
      " La organización debe marcar objetivos y directrices que permitan regular al  SI.\n",
      "chunk # 11 len: 472:  Se denomina Sistema Objeto a la parte de la organización de la cual se nutre \n",
      "el SI y a la cual revierten sus resultado s. Los SI son sistemas eminentemente  \n",
      "dinámicos.  \n",
      "1.5. SISTEMAS DE INFORMACIÓN BASADOS EN COMPUTADOR  \n",
      "Actualmente los sistemas de información basados en computador son \n",
      "indispensables en toda organización, debido al uso indispensable del PC. Este \n",
      "tipo de sistemas se caracterizan por:  \n",
      " Una definición conocida y fija de datos y  procedimientos\n",
      "chunk # 12 len: 427:  Recogen, almacena n, procesan, distribuyen y utilizan esos  datos  \n",
      " Están estructurados, es decir, funcionan según reglas predefinidas, \n",
      "relativamente fijas y no se modifican con  facilidad  \n",
      "En el resto del capítulo haremos referencia a los SI basados en computador.  \n",
      "En un SI basa do en computador pueden identificarse cuatro elementos básicos:  \n",
      " Hardware, que constituye la parte tangible del SI. Conjunto de equipos,\n",
      "chunk # 13 len: 400: dispositivos y  periféricos utilizados como infraestructura para procesar, almacenar \n",
      "y mostrar  información.  \n",
      " Software, pro gramas que permiten que el hardware realice los procesos  necesarios.  \n",
      " Almacén o base de datos, conjunto de datos que se almacenan en un sistema \n",
      "informático y sobre los cuales es posible efectuar diferentes  operaciones.  \n",
      " Red, para compartir recursos con otros  SI.\n",
      "chunk # 14 len: 119: Figura 2. Componentes de un SI  \n",
      " \n",
      "S  \n",
      "I  \n",
      "S \n",
      "T \n",
      "E \n",
      "M \n",
      "A \n",
      " \n",
      " \n",
      " \n",
      " \n",
      " \n",
      " \n",
      " \n",
      "  \n",
      " \n",
      " \n",
      "D \n",
      "E \n",
      " \n",
      "I \n",
      "N \n",
      "F \n",
      "O \n",
      "R \n",
      "M \n",
      "A \n",
      "C \n",
      " I \n",
      "O \n",
      "N\n"
     ]
    }
   ],
   "source": [
    "from langchain_text_splitters import RecursiveCharacterTextSplitter\n",
    "\n",
    "spliter = RecursiveCharacterTextSplitter(\n",
    "    chunk_size=500,\n",
    "    chunk_overlap=0,\n",
    "    length_function=len\n",
    ")\n",
    "\n",
    "chunks = spliter.split_documents(pages)\n",
    "print(len(chunks))\n",
    "for i, _ in enumerate(chunks):\n",
    "    print(f'chunk # {i} len: {len(chunks[i].page_content)}: {chunks[i].page_content}')"
   ]
  },
  {
   "cell_type": "markdown",
   "metadata": {},
   "source": [
    "Chunks mal partidos, ¿Por que? El pdf loader esta detectando saltos de linea donde no los hay (\"\\n\"), cortando a la mitad oraciones y confundiendo al spliter."
   ]
  },
  {
   "cell_type": "code",
   "execution_count": 18,
   "metadata": {},
   "outputs": [
    {
     "name": "stderr",
     "output_type": "stream",
     "text": [
      "d:\\02-NextCloud\\github\\LangChain-Playground\\.venv\\lib\\site-packages\\sentence_transformers\\cross_encoder\\CrossEncoder.py:11: TqdmWarning: IProgress not found. Please update jupyter and ipywidgets. See https://ipywidgets.readthedocs.io/en/stable/user_install.html\n",
      "  from tqdm.autonotebook import tqdm, trange\n"
     ]
    }
   ],
   "source": [
    "from langchain_chroma import Chroma\n",
    "from langchain_huggingface import HuggingFaceEmbeddings\n",
    "\n",
    "vectorstore = Chroma.from_documents(\n",
    "    chunks,\n",
    "    embedding=HuggingFaceEmbeddings(),\n",
    ")"
   ]
  },
  {
   "cell_type": "code",
   "execution_count": 23,
   "metadata": {},
   "outputs": [
    {
     "name": "stdout",
     "output_type": "stream",
     "text": [
      "2\n",
      "para elaborar los productos que se devuelven al entorno,  salidas.  \n",
      " Los sistemas pueden ser naturales o artificiales, si son debidos al hombre. \n",
      "Un sistema de información es un sistema  artificial.  \n",
      "Con todo, podemos definir a un sistema de información como una colección organizada \n",
      "de personas, información y procesos de negoc io diseñados para transformar entradas en \n",
      "salidas y lograr un objetivo. Funciones, elementos o componentes interrelacionados y que\n",
      "• Información. Es el principal componente de todo sistema y su razón de ser, debe \n",
      "ser adaptable a las personas que lo utilizan y al equipo disponible, de acuerdo a \n",
      "los procedimientos de  trabajo para que l as tareas se lleven a cabo de forma  \n",
      "eficaz.  \n",
      "• Usuarios. Pueden ser informáticos o no informáticos, es decir, son los individuos \n",
      "o las unidades de la empresa que procesan la información para la realización de \n",
      "sus actividades en función de los procesos de trab ajo establecidos.\n"
     ]
    }
   ],
   "source": [
    "retriever = vectorstore.as_retriever(search_type=\"similarity\", search_kwargs={\"k\": 2})\n",
    "\n",
    "retrieved_docs = retriever.invoke(\"Que comprende un sistema de informacion?\")\n",
    "\n",
    "print(len(retrieved_docs))\n",
    "for doc in retrieved_docs:\n",
    "    print(doc.page_content)"
   ]
  },
  {
   "cell_type": "markdown",
   "metadata": {},
   "source": [
    "### Test con otro pdf"
   ]
  },
  {
   "cell_type": "code",
   "execution_count": 29,
   "metadata": {},
   "outputs": [
    {
     "name": "stdout",
     "output_type": "stream",
     "text": [
      "2\n",
      "[Document(metadata={'source': 'content/LoremIpsum.pdf', 'page': 0}, page_content='Lorem ipsum dolor sit amet, consectetur adipiscing elit. Morbi pretium pellentesque condimentum. Duis  \\nvel metus ultricies, laoreet dolor id, ultricies dolor. In leo ligula, dignissim in risus a, dignissim pulvinar  \\nodio. Nulla at ultricies lorem. Aliquam suscipit condimentum lorem, in convallis metus lobortis porta.  \\nInteger varius quis diam vulputate efficitur. Sed auctor quam at lacus tempor cursus. Cras vitae erat  \\nbibendum, maximus mi nec, interdum nibh. Aliquam eros metus, maximus a faucibus eget, molestie at  \\ndui. Vivamus semper aliquet auctor. Praesent elementum malesuada sollicitudin. Sed at aliquet tortor.  \\nPellentesque ac sapien blandit, mattis arcu eget, ullamcorper arcu. Nam aliquam pharetra mi ut rutrum.  \\nVestibulum eu placerat enim, sit amet cursus ligula.\\nPellentesque dignissim risus ex,  eget tempus nulla ultricies vel. Pellentesque vestibulum aliquam  \\ncommodo.  Sed  condimentum  consequat  neque  eget  semper.  Etiam  ut  fermentum  elit.  Nullam  \\nfermentum quam sapien, id volutpat felis dapibus sed. Mauris vel euismod tortor. Curabitur pulvinar at  \\nvelit a ornare. Fusce sed finibus velit. Proin non risus tortor. Maecenas vitae bibendum purus. Sed vitae  \\ndolor mauris. Phasellus in metus ornare, dapibus mauris id, molestie risus.\\nMorbi tristique velit eget magna bibendum ullamcorper. Donec non viverra massa. Vestibulum fringilla,  \\nnibh eget iaculis vehicula, erat dolor ullamcorper lacus, ut dictum odio metus a magna. Donec tempor  \\nac leo vel euismod. Sed tempor purus neque, a pellentesque nibh scelerisque id. Proin facilisis orci in  \\ntempus varius. Quisque gravida tellus ut augue maximus, non gravida est commodo.\\nNunc congue consequat dui, at vestibulum dolor molestie et. Nunc pretium, est vel accumsan tempor,  \\ntortor augue consequat risus, non malesuada ex augue id odio. Sed ut malesuada lectus, id malesuada  \\ntellus. Aliquam elit sem, consequat vitae varius ut, efficitur et sapien. Fusce faucibus lectus efficitur sem  \\ndignissim, vitae malesuada mi porta. Nulla fermentum vitae felis id efficitur. Curabitur imperdiet sapien  \\nmi, eu dapibus leo vulputate faucibus. Nam facilisis neque a orci aliquam consequat. Etiam volutpat  \\nultrices porta. Curabitur volutpat porta neque efficitur vehicula. Sed porttitor efficitur ante ut pulvinar.\\nNam accumsan, lectus a pulvinar tempor, risus erat tincidunt urna, quis cursus lorem urna id mauris.  \\nAenean sollicitudin turpis auctor enim varius, et facilisis ante tincidunt. Quisque eleifend scelerisque  \\ndui, id mattis leo volutpat sit amet. Sed faucibus ultricies quam, nec accumsan erat egestas et. Fusce  \\nac nibh ut justo finibus sagittis. In semper faucibus sapien, in euismod felis sodales nec. Proin vel ligula  \\nnon  lacus  venenatis  aliquet.  Sed  vehicula  interdum  augue,  id  imperdiet  eros  condimentum  ac.  \\nSuspendisse potenti. Proin tempor, lectus id cursus mollis, leo lorem commodo nulla, sed aliquam odio  \\nnibh sed ipsum. Etiam aliquet lacinia libero, vel dignissim tortor imperdiet eu.\\nMauris fringilla nisl dolor, vel facilisis quam accumsan nec. Vivamus iaculis a arcu ut consequat. Nunc  \\nconsectetur augue vitae eleifend semper. Nunc nulla orci, suscipit id placerat vel, vulputate ac nulla.  \\nNulla eu ipsum vitae libero venenatis consectetur et sodales odio. Nullam sollicitudin, dui ac gravida  \\nimperdiet, justo diam convallis dolor, a bibendum velit lacus sit amet magna. Nunc lacus nisi, ultrices  \\nnon nisi non, ullamcorper feugiat libero. Sed at lorem hendrerit, placerat orci ut, egestas diam.\\nDonec ultrices id quam a venenatis. Donec faucibus lacus eu quam gravida, non vehicula turpis  \\ntempus. Suspendisse nec lectus non magna aliquam commodo. Fusce quis lectus nulla. Fusce at  \\ndignissim dolor. Suspendisse tempus lacinia lobortis. Duis tempus vulputate ultrices. Sed nisl ligula,  \\nmollis nec tortor sit amet, porttitor egestas lectus. In efficitur euismod quam. Duis at fermentum mauris,'), Document(metadata={'source': 'content/LoremIpsum.pdf', 'page': 0}, page_content='mollis nec tortor sit amet, porttitor egestas lectus. In efficitur euismod quam. Duis at fermentum mauris,  \\net efficitur tellus. Praesent nec metus nec sapien sodales sollicitudin. Suspendisse quam magna,  \\naliquam vel mauris eget, commodo vehicula tellus. In faucibus iaculis dolor, in luctus dui placerat at.  \\nDuis vitae enim dictum, ultricies augue non, bibendum sapien.\\nEtiam bibendum rutrum nulla, in euismod ipsum mollis sed. Fusce mi turpis, pulvinar nec gravida vitae,  \\nvolutpat vitae turpis. Integer in lectus ultricies, ullamcorper elit ac, tincidunt risus. Praesent accumsan  \\nvel diam in auctor. Cras aliquam lectus et dapibus porta. Vestibulum blandit mollis urna, a facilisis erat.')]\n"
     ]
    }
   ],
   "source": [
    "file_path = (\n",
    "    \"content/LoremIpsum.pdf\"\n",
    ")\n",
    "loader = PyPDFLoader(file_path)\n",
    "pages = loader.load_and_split()\n",
    "\n",
    "print(len(pages))\n",
    "print(pages)"
   ]
  },
  {
   "cell_type": "markdown",
   "metadata": {},
   "source": [
    "mismo resultado"
   ]
  },
  {
   "cell_type": "markdown",
   "metadata": {},
   "source": [
    "### Probando otros cargadores de pdf (mismo resultado)"
   ]
  },
  {
   "cell_type": "code",
   "execution_count": 4,
   "metadata": {},
   "outputs": [
    {
     "name": "stdout",
     "output_type": "stream",
     "text": [
      "1\n",
      "[Document(metadata={'source': 'content/LoremIpsum.pdf'}, page_content='Lorem ipsum dolor sit amet, consectetur adipiscing elit. Morbi pretium pellentesque condimentum. Duis \\nvel metus ultricies, laoreet dolor id, ultricies dolor. In leo ligula, dignissim in risus a, dignissim pulvinar \\nodio. Nulla at ultricies lorem. Aliquam suscipit condimentum lorem, in convallis metus lobortis porta. \\nInteger varius quis diam vulputate efficitur. Sed auctor quam at lacus tempor cursus. Cras vitae erat \\nbibendum, maximus mi nec, interdum nibh. Aliquam eros metus, maximus a faucibus eget, molestie at \\ndui. Vivamus semper aliquet auctor. Praesent elementum malesuada sollicitudin. Sed at aliquet tortor. \\nPellentesque ac sapien blandit, mattis arcu eget, ullamcorper arcu. Nam aliquam pharetra mi ut rutrum. \\nVestibulum eu placerat enim, sit amet cursus ligula.\\n\\nPellentesque   dignissim   risus   ex,   eget   tempus   nulla   ultricies   vel.   Pellentesque   vestibulum   aliquam \\ncommodo.   Sed   condimentum   consequat   neque   eget   semper.   Etiam   ut   fermentum   elit.   Nullam \\nfermentum quam sapien, id volutpat felis dapibus sed. Mauris vel euismod tortor. Curabitur pulvinar at \\nvelit a ornare. Fusce sed finibus velit. Proin non risus tortor. Maecenas vitae bibendum purus. Sed vitae \\ndolor mauris. Phasellus in metus ornare, dapibus mauris id, molestie risus.\\n\\nMorbi tristique velit eget magna bibendum ullamcorper. Donec non viverra massa. Vestibulum fringilla, \\nnibh eget iaculis vehicula, erat dolor ullamcorper lacus, ut dictum odio metus a magna. Donec tempor \\nac leo vel euismod. Sed tempor purus neque, a pellentesque nibh scelerisque id. Proin facilisis orci in \\ntempus varius. Quisque gravida tellus ut augue maximus, non gravida est commodo.\\n\\nNunc congue consequat dui, at vestibulum dolor molestie et. Nunc pretium, est vel accumsan tempor, \\ntortor augue consequat risus, non malesuada ex augue id odio. Sed ut malesuada lectus, id malesuada \\ntellus. Aliquam elit sem, consequat vitae varius ut, efficitur et sapien. Fusce faucibus lectus efficitur sem \\ndignissim, vitae malesuada mi porta. Nulla fermentum vitae felis id efficitur. Curabitur imperdiet sapien \\nmi, eu dapibus leo vulputate faucibus. Nam facilisis neque a orci aliquam consequat. Etiam volutpat \\nultrices porta. Curabitur volutpat porta neque efficitur vehicula. Sed porttitor efficitur ante ut pulvinar.\\n\\nNam accumsan, lectus a pulvinar tempor, risus erat tincidunt urna, quis cursus lorem urna id mauris. \\nAenean sollicitudin turpis auctor enim varius, et facilisis ante tincidunt. Quisque eleifend scelerisque \\ndui, id mattis leo volutpat sit amet. Sed faucibus ultricies quam, nec accumsan erat egestas et. Fusce \\nac nibh ut justo finibus sagittis. In semper faucibus sapien, in euismod felis sodales nec. Proin vel ligula \\nnon   lacus   venenatis   aliquet.   Sed   vehicula   interdum   augue,   id   imperdiet   eros   condimentum   ac. \\nSuspendisse potenti. Proin tempor, lectus id cursus mollis, leo lorem commodo nulla, sed aliquam odio \\nnibh sed ipsum. Etiam aliquet lacinia libero, vel dignissim tortor imperdiet eu.\\n\\nMauris fringilla nisl dolor, vel facilisis quam accumsan nec. Vivamus iaculis a arcu ut consequat. Nunc \\nconsectetur augue vitae eleifend semper. Nunc nulla orci, suscipit id placerat vel, vulputate ac nulla. \\nNulla eu ipsum vitae libero venenatis consectetur et sodales odio. Nullam sollicitudin, dui ac gravida \\nimperdiet, justo diam convallis dolor, a bibendum velit lacus sit amet magna. Nunc lacus nisi, ultrices \\nnon nisi non, ullamcorper feugiat libero. Sed at lorem hendrerit, placerat orci ut, egestas diam.\\n\\nDonec   ultrices   id   quam   a   venenatis.   Donec   faucibus   lacus   eu   quam   gravida,   non   vehicula   turpis \\ntempus.   Suspendisse   nec   lectus   non   magna   aliquam   commodo.   Fusce   quis   lectus   nulla.   Fusce   at \\ndignissim dolor. Suspendisse tempus lacinia lobortis. Duis tempus vulputate ultrices. Sed nisl ligula, \\nmollis nec tortor sit amet, porttitor egestas lectus. In efficitur euismod quam. Duis at fermentum mauris, \\net   efficitur   tellus.   Praesent   nec   metus   nec   sapien   sodales   sollicitudin.   Suspendisse   quam   magna, \\naliquam vel mauris eget, commodo vehicula tellus. In faucibus iaculis dolor, in luctus dui placerat at. \\nDuis vitae enim dictum, ultricies augue non, bibendum sapien.\\n\\nEtiam bibendum rutrum nulla, in euismod ipsum mollis sed. Fusce mi turpis, pulvinar nec gravida vitae, \\nvolutpat vitae turpis. Integer in lectus ultricies, ullamcorper elit ac, tincidunt risus. Praesent accumsan \\nvel diam in auctor. Cras aliquam lectus et dapibus porta. Vestibulum blandit mollis urna, a facilisis erat.\\n\\n\\x0c')]\n"
     ]
    }
   ],
   "source": [
    "from langchain_community.document_loaders import PDFMinerLoader\n",
    "\n",
    "file_path = (\n",
    "    \"content/LoremIpsum.pdf\"\n",
    ")\n",
    "loader = PDFMinerLoader(file_path)\n",
    "data = loader.load()\n",
    "print(len(data))\n",
    "print(data)"
   ]
  },
  {
   "cell_type": "code",
   "execution_count": 7,
   "metadata": {},
   "outputs": [
    {
     "name": "stdout",
     "output_type": "stream",
     "text": [
      "1\n",
      "[Document(metadata={'source': 'content/LoremIpsum.pdf', 'file_path': 'content/LoremIpsum.pdf', 'page': 0, 'total_pages': 1, 'Creator': 'Writer', 'Producer': 'LibreOffice 24.2', 'CreationDate': \"D:20240801191719-03'00'\"}, page_content='Lorem ipsum dolor sit amet, consectetur adipiscing elit. Morbi pretium pellentesque condimentum. Duis\\nvel metus ultricies, laoreet dolor id, ultricies dolor. In leo ligula, dignissim in risus a, dignissim pulvinar\\nodio. Nulla at ultricies lorem. Aliquam suscipit condimentum lorem, in convallis metus lobortis porta.\\nInteger varius quis diam vulputate efficitur. Sed auctor quam at lacus tempor cursus. Cras vitae erat\\nbibendum, maximus mi nec, interdum nibh. Aliquam eros metus, maximus a faucibus eget, molestie at\\ndui. Vivamus semper aliquet auctor. Praesent elementum malesuada sollicitudin. Sed at aliquet tortor.\\nPellentesque ac sapien blandit, mattis arcu eget, ullamcorper arcu. Nam aliquam pharetra mi ut rutrum.\\nVestibulum eu placerat enim, sit amet cursus ligula.\\nPellentesque dignissim risus ex, eget tempus nulla ultricies vel. Pellentesque vestibulum aliquam\\ncommodo. Sed condimentum consequat neque eget semper. Etiam ut fermentum elit. Nullam\\nfermentum quam sapien, id volutpat felis dapibus sed. Mauris vel euismod tortor. Curabitur pulvinar at\\nvelit a ornare. Fusce sed finibus velit. Proin non risus tortor. Maecenas vitae bibendum purus. Sed vitae\\ndolor mauris. Phasellus in metus ornare, dapibus mauris id, molestie risus.\\nMorbi tristique velit eget magna bibendum ullamcorper. Donec non viverra massa. Vestibulum fringilla,\\nnibh eget iaculis vehicula, erat dolor ullamcorper lacus, ut dictum odio metus a magna. Donec tempor\\nac leo vel euismod. Sed tempor purus neque, a pellentesque nibh scelerisque id. Proin facilisis orci in\\ntempus varius. Quisque gravida tellus ut augue maximus, non gravida est commodo.\\nNunc congue consequat dui, at vestibulum dolor molestie et. Nunc pretium, est vel accumsan tempor,\\ntortor augue consequat risus, non malesuada ex augue id odio. Sed ut malesuada lectus, id malesuada\\ntellus. Aliquam elit sem, consequat vitae varius ut, efficitur et sapien. Fusce faucibus lectus efficitur sem\\ndignissim, vitae malesuada mi porta. Nulla fermentum vitae felis id efficitur. Curabitur imperdiet sapien\\nmi, eu dapibus leo vulputate faucibus. Nam facilisis neque a orci aliquam consequat. Etiam volutpat\\nultrices porta. Curabitur volutpat porta neque efficitur vehicula. Sed porttitor efficitur ante ut pulvinar.\\nNam accumsan, lectus a pulvinar tempor, risus erat tincidunt urna, quis cursus lorem urna id mauris.\\nAenean sollicitudin turpis auctor enim varius, et facilisis ante tincidunt. Quisque eleifend scelerisque\\ndui, id mattis leo volutpat sit amet. Sed faucibus ultricies quam, nec accumsan erat egestas et. Fusce\\nac nibh ut justo finibus sagittis. In semper faucibus sapien, in euismod felis sodales nec. Proin vel ligula\\nnon lacus venenatis aliquet. Sed vehicula interdum augue, id imperdiet eros condimentum ac.\\nSuspendisse potenti. Proin tempor, lectus id cursus mollis, leo lorem commodo nulla, sed aliquam odio\\nnibh sed ipsum. Etiam aliquet lacinia libero, vel dignissim tortor imperdiet eu.\\nMauris fringilla nisl dolor, vel facilisis quam accumsan nec. Vivamus iaculis a arcu ut consequat. Nunc\\nconsectetur augue vitae eleifend semper. Nunc nulla orci, suscipit id placerat vel, vulputate ac nulla.\\nNulla eu ipsum vitae libero venenatis consectetur et sodales odio. Nullam sollicitudin, dui ac gravida\\nimperdiet, justo diam convallis dolor, a bibendum velit lacus sit amet magna. Nunc lacus nisi, ultrices\\nnon nisi non, ullamcorper feugiat libero. Sed at lorem hendrerit, placerat orci ut, egestas diam.\\nDonec ultrices id quam a venenatis. Donec faucibus lacus eu quam gravida, non vehicula turpis\\ntempus. Suspendisse nec lectus non magna aliquam commodo. Fusce quis lectus nulla. Fusce at\\ndignissim dolor. Suspendisse tempus lacinia lobortis. Duis tempus vulputate ultrices. Sed nisl ligula,\\nmollis nec tortor sit amet, porttitor egestas lectus. In efficitur euismod quam. Duis at fermentum mauris,\\net efficitur tellus. Praesent nec metus nec sapien sodales sollicitudin. Suspendisse quam magna,\\naliquam vel mauris eget, commodo vehicula tellus. In faucibus iaculis dolor, in luctus dui placerat at.\\nDuis vitae enim dictum, ultricies augue non, bibendum sapien.\\nEtiam bibendum rutrum nulla, in euismod ipsum mollis sed. Fusce mi turpis, pulvinar nec gravida vitae,\\nvolutpat vitae turpis. Integer in lectus ultricies, ullamcorper elit ac, tincidunt risus. Praesent accumsan\\nvel diam in auctor. Cras aliquam lectus et dapibus porta. Vestibulum blandit mollis urna, a facilisis erat.\\n')]\n"
     ]
    }
   ],
   "source": [
    "from langchain_community.document_loaders import PDFPlumberLoader\n",
    "\n",
    "loader = PDFPlumberLoader(file_path)\n",
    "\n",
    "data = loader.load()\n",
    "print(len(data))\n",
    "print(data)"
   ]
  },
  {
   "cell_type": "markdown",
   "metadata": {},
   "source": [
    "### TEST CON DOCX Y ODT FILES"
   ]
  },
  {
   "cell_type": "markdown",
   "metadata": {},
   "source": [
    "Mejores resultados, no pone saltos de linea donde no van! contras: no identifica las paginas, envia todo en un mismo Document"
   ]
  },
  {
   "cell_type": "code",
   "execution_count": 10,
   "metadata": {},
   "outputs": [
    {
     "name": "stdout",
     "output_type": "stream",
     "text": [
      "1\n",
      "[Document(metadata={'source': 'content/LoremIpsum.odt'}, page_content='Lorem ipsum dolor sit amet, consectetur adipiscing elit. Morbi pretium pellentesque condimentum. Duis vel metus ultricies, laoreet dolor id, ultricies dolor. In leo ligula, dignissim in risus a, dignissim pulvinar odio. Nulla at ultricies lorem. Aliquam suscipit condimentum lorem, in convallis metus lobortis porta. Integer varius quis diam vulputate efficitur. Sed auctor quam at lacus tempor cursus. Cras vitae erat bibendum, maximus mi nec, interdum nibh. Aliquam eros metus, maximus a faucibus eget, molestie at dui. Vivamus semper aliquet auctor. Praesent elementum malesuada sollicitudin. Sed at aliquet tortor. Pellentesque ac sapien blandit, mattis arcu eget, ullamcorper arcu. Nam aliquam pharetra mi ut rutrum. Vestibulum eu placerat enim, sit amet cursus ligula.\\n\\nPellentesque dignissim risus ex, eget tempus nulla ultricies vel. Pellentesque vestibulum aliquam commodo. Sed condimentum consequat neque eget semper. Etiam ut fermentum elit. Nullam fermentum quam sapien, id volutpat felis dapibus sed. Mauris vel euismod tortor. Curabitur pulvinar at velit a ornare. Fusce sed finibus velit. Proin non risus tortor. Maecenas vitae bibendum purus. Sed vitae dolor mauris. Phasellus in metus ornare, dapibus mauris id, molestie risus.\\n\\nMorbi tristique velit eget magna bibendum ullamcorper. Donec non viverra massa. Vestibulum fringilla, nibh eget iaculis vehicula, erat dolor ullamcorper lacus, ut dictum odio metus a magna. Donec tempor ac leo vel euismod. Sed tempor purus neque, a pellentesque nibh scelerisque id. Proin facilisis orci in tempus varius. Quisque gravida tellus ut augue maximus, non gravida est commodo.\\n\\nNunc congue consequat dui, at vestibulum dolor molestie et. Nunc pretium, est vel accumsan tempor, tortor augue consequat risus, non malesuada ex augue id odio. Sed ut malesuada lectus, id malesuada tellus. Aliquam elit sem, consequat vitae varius ut, efficitur et sapien. Fusce faucibus lectus efficitur sem dignissim, vitae malesuada mi porta. Nulla fermentum vitae felis id efficitur. Curabitur imperdiet sapien mi, eu dapibus leo vulputate faucibus. Nam facilisis neque a orci aliquam consequat. Etiam volutpat ultrices porta. Curabitur volutpat porta neque efficitur vehicula. Sed porttitor efficitur ante ut pulvinar.\\n\\nNam accumsan, lectus a pulvinar tempor, risus erat tincidunt urna, quis cursus lorem urna id mauris. Aenean sollicitudin turpis auctor enim varius, et facilisis ante tincidunt. Quisque eleifend scelerisque dui, id mattis leo volutpat sit amet. Sed faucibus ultricies quam, nec accumsan erat egestas et. Fusce ac nibh ut justo finibus sagittis. In semper faucibus sapien, in euismod felis sodales nec. Proin vel ligula non lacus venenatis aliquet. Sed vehicula interdum augue, id imperdiet eros condimentum ac. Suspendisse potenti. Proin tempor, lectus id cursus mollis, leo lorem commodo nulla, sed aliquam odio nibh sed ipsum. Etiam aliquet lacinia libero, vel dignissim tortor imperdiet eu.\\n\\nMauris fringilla nisl dolor, vel facilisis quam accumsan nec. Vivamus iaculis a arcu ut consequat. Nunc consectetur augue vitae eleifend semper. Nunc nulla orci, suscipit id placerat vel, vulputate ac nulla. Nulla eu ipsum vitae libero venenatis consectetur et sodales odio. Nullam sollicitudin, dui ac gravida imperdiet, justo diam convallis dolor, a bibendum velit lacus sit amet magna. Nunc lacus nisi, ultrices non nisi non, ullamcorper feugiat libero. Sed at lorem hendrerit, placerat orci ut, egestas diam.\\n\\nDonec ultrices id quam a venenatis. Donec faucibus lacus eu quam gravida, non vehicula turpis tempus. Suspendisse nec lectus non magna aliquam commodo. Fusce quis lectus nulla. Fusce at dignissim dolor. Suspendisse tempus lacinia lobortis. Duis tempus vulputate ultrices. Sed nisl ligula, mollis nec tortor sit amet, porttitor egestas lectus. In efficitur euismod quam. Duis at fermentum mauris, et efficitur tellus. Praesent nec metus nec sapien sodales sollicitudin. Suspendisse quam magna, aliquam vel mauris eget, commodo vehicula tellus. In faucibus iaculis dolor, in luctus dui placerat at. Duis vitae enim dictum, ultricies augue non, bibendum sapien.\\n\\nEtiam bibendum rutrum nulla, in euismod ipsum mollis sed. Fusce mi turpis, pulvinar nec gravida vitae, volutpat vitae turpis. Integer in lectus ultricies, ullamcorper elit ac, tincidunt risus. Praesent accumsan vel diam in auctor. Cras aliquam lectus et dapibus porta. Vestibulum blandit mollis urna, a facilisis erat.\\n\\nDonec ultrices id quam a venenatis. Donec faucibus lacus eu quam gravida, non vehicula turpis tempus. Suspendisse nec lectus non magna aliquam commodo. Fusce quis lectus nulla. Fusce at dignissim dolor. Suspendisse tempus lacinia lobortis. Duis tempus vulputate ultrices. Sed nisl ligula, mollis nec tortor sit amet, porttitor egestas lectus. In efficitur euismod quam. Duis at fermentum mauris, et efficitur tellus. Praesent nec metus nec sapien sodales sollicitudin. Suspendisse quam magna, aliquam vel mauris eget, commodo vehicula tellus. In faucibus iaculis dolor, in luctus dui placerat at. Duis vitae enim dictum, ultricies augue non, bibendum sapien.\\n\\nEtiam bibendum rutrum nulla, in euismod ipsum mollis sed. Fusce mi turpis, pulvinar nec gravida vitae, volutpat vitae turpis. Integer in lectus ultricies, ullamcorper elit ac, tincidunt risus. Praesent accumsan vel diam in auctor. Cras aliquam lectus et dapibus porta. Vestibulum blandit mollis urna, a facilisis erat.')]\n"
     ]
    }
   ],
   "source": [
    "from langchain_community.document_loaders import UnstructuredODTLoader\n",
    "\n",
    "file_path = (\n",
    "    \"content/LoremIpsum.odt\"\n",
    ")\n",
    "loader = UnstructuredODTLoader(file_path)\n",
    "pages = loader.load()\n",
    "\n",
    "print(len(pages))\n",
    "print(pages)"
   ]
  },
  {
   "cell_type": "code",
   "execution_count": 11,
   "metadata": {},
   "outputs": [
    {
     "name": "stdout",
     "output_type": "stream",
     "text": [
      "1\n",
      "[Document(metadata={'source': 'content/LoremIpsum.docx'}, page_content='Lorem ipsum dolor sit amet, consectetur adipiscing elit. Morbi pretium pellentesque condimentum. Duis vel metus ultricies, laoreet dolor id, ultricies dolor. In leo ligula, dignissim in risus a, dignissim pulvinar odio. Nulla at ultricies lorem. Aliquam suscipit condimentum lorem, in convallis metus lobortis porta. Integer varius quis diam vulputate efficitur. Sed auctor quam at lacus tempor cursus. Cras vitae erat bibendum, maximus mi nec, interdum nibh. Aliquam eros metus, maximus a faucibus eget, molestie at dui. Vivamus semper aliquet auctor. Praesent elementum malesuada sollicitudin. Sed at aliquet tortor. Pellentesque ac sapien blandit, mattis arcu eget, ullamcorper arcu. Nam aliquam pharetra mi ut rutrum. Vestibulum eu placerat enim, sit amet cursus ligula.\\n\\nPellentesque dignissim risus ex, eget tempus nulla ultricies vel. Pellentesque vestibulum aliquam commodo. Sed condimentum consequat neque eget semper. Etiam ut fermentum elit. Nullam fermentum quam sapien, id volutpat felis dapibus sed. Mauris vel euismod tortor. Curabitur pulvinar at velit a ornare. Fusce sed finibus velit. Proin non risus tortor. Maecenas vitae bibendum purus. Sed vitae dolor mauris. Phasellus in metus ornare, dapibus mauris id, molestie risus.\\n\\nMorbi tristique velit eget magna bibendum ullamcorper. Donec non viverra massa. Vestibulum fringilla, nibh eget iaculis vehicula, erat dolor ullamcorper lacus, ut dictum odio metus a magna. Donec tempor ac leo vel euismod. Sed tempor purus neque, a pellentesque nibh scelerisque id. Proin facilisis orci in tempus varius. Quisque gravida tellus ut augue maximus, non gravida est commodo.\\n\\nNunc congue consequat dui, at vestibulum dolor molestie et. Nunc pretium, est vel accumsan tempor, tortor augue consequat risus, non malesuada ex augue id odio. Sed ut malesuada lectus, id malesuada tellus. Aliquam elit sem, consequat vitae varius ut, efficitur et sapien. Fusce faucibus lectus efficitur sem dignissim, vitae malesuada mi porta. Nulla fermentum vitae felis id efficitur. Curabitur imperdiet sapien mi, eu dapibus leo vulputate faucibus. Nam facilisis neque a orci aliquam consequat. Etiam volutpat ultrices porta. Curabitur volutpat porta neque efficitur vehicula. Sed porttitor efficitur ante ut pulvinar.\\n\\nNam accumsan, lectus a pulvinar tempor, risus erat tincidunt urna, quis cursus lorem urna id mauris. Aenean sollicitudin turpis auctor enim varius, et facilisis ante tincidunt. Quisque eleifend scelerisque dui, id mattis leo volutpat sit amet. Sed faucibus ultricies quam, nec accumsan erat egestas et. Fusce ac nibh ut justo finibus sagittis. In semper faucibus sapien, in euismod felis sodales nec. Proin vel ligula non lacus venenatis aliquet. Sed vehicula interdum augue, id imperdiet eros condimentum ac. Suspendisse potenti. Proin tempor, lectus id cursus mollis, leo lorem commodo nulla, sed aliquam odio nibh sed ipsum. Etiam aliquet lacinia libero, vel dignissim tortor imperdiet eu.\\n\\nMauris fringilla nisl dolor, vel facilisis quam accumsan nec. Vivamus iaculis a arcu ut consequat. Nunc consectetur augue vitae eleifend semper. Nunc nulla orci, suscipit id placerat vel, vulputate ac nulla. Nulla eu ipsum vitae libero venenatis consectetur et sodales odio. Nullam sollicitudin, dui ac gravida imperdiet, justo diam convallis dolor, a bibendum velit lacus sit amet magna. Nunc lacus nisi, ultrices non nisi non, ullamcorper feugiat libero. Sed at lorem hendrerit, placerat orci ut, egestas diam.\\n\\nDonec ultrices id quam a venenatis. Donec faucibus lacus eu quam gravida, non vehicula turpis tempus. Suspendisse nec lectus non magna aliquam commodo. Fusce quis lectus nulla. Fusce at dignissim dolor. Suspendisse tempus lacinia lobortis. Duis tempus vulputate ultrices. Sed nisl ligula, mollis nec tortor sit amet, porttitor egestas lectus. In efficitur euismod quam. Duis at fermentum mauris, et efficitur tellus. Praesent nec metus nec sapien sodales sollicitudin. Suspendisse quam magna, aliquam vel mauris eget, commodo vehicula tellus. In faucibus iaculis dolor, in luctus dui placerat at. Duis vitae enim dictum, ultricies augue non, bibendum sapien.\\n\\nEtiam bibendum rutrum nulla, in euismod ipsum mollis sed. Fusce mi turpis, pulvinar nec gravida vitae, volutpat vitae turpis. Integer in lectus ultricies, ullamcorper elit ac, tincidunt risus. Praesent accumsan vel diam in auctor. Cras aliquam lectus et dapibus porta. Vestibulum blandit mollis urna, a facilisis erat.\\n\\nDonec ultrices id quam a venenatis. Donec faucibus lacus eu quam gravida, non vehicula turpis tempus. Suspendisse nec lectus non magna aliquam commodo. Fusce quis lectus nulla. Fusce at dignissim dolor. Suspendisse tempus lacinia lobortis. Duis tempus vulputate ultrices. Sed nisl ligula, mollis nec tortor sit amet, porttitor egestas lectus. In efficitur euismod quam. Duis at fermentum mauris, et efficitur tellus. Praesent nec metus nec sapien sodales sollicitudin. Suspendisse quam magna, aliquam vel mauris eget, commodo vehicula tellus. In faucibus iaculis dolor, in luctus dui placerat at. Duis vitae enim dictum, ultricies augue non, bibendum sapien.\\n\\nEtiam bibendum rutrum nulla, in euismod ipsum mollis sed. Fusce mi turpis, pulvinar nec gravida vitae, volutpat vitae turpis. Integer in lectus ultricies, ullamcorper elit ac, tincidunt risus. Praesent accumsan vel diam in auctor. Cras aliquam lectus et dapibus porta. Vestibulum blandit mollis urna, a facilisis erat.')]\n"
     ]
    }
   ],
   "source": [
    "from langchain_community.document_loaders import UnstructuredWordDocumentLoader\n",
    "\n",
    "loader = UnstructuredWordDocumentLoader(\"content/LoremIpsum.docx\")\n",
    "data = loader.load()\n",
    "\n",
    "print(len(data))\n",
    "print(data)"
   ]
  },
  {
   "cell_type": "code",
   "execution_count": 12,
   "metadata": {},
   "outputs": [
    {
     "name": "stdout",
     "output_type": "stream",
     "text": [
      "1\n",
      "[Document(metadata={'source': 'content/LoremIpsum.docx'}, page_content='Lorem ipsum dolor sit amet, consectetur adipiscing elit. Morbi pretium pellentesque condimentum. Duis vel metus ultricies, laoreet dolor id, ultricies dolor. In leo ligula, dignissim in risus a, dignissim pulvinar odio. Nulla at ultricies lorem. Aliquam suscipit condimentum lorem, in convallis metus lobortis porta. Integer varius quis diam vulputate efficitur. Sed auctor quam at lacus tempor cursus. Cras vitae erat bibendum, maximus mi nec, interdum nibh. Aliquam eros metus, maximus a faucibus eget, molestie at dui. Vivamus semper aliquet auctor. Praesent elementum malesuada sollicitudin. Sed at aliquet tortor. Pellentesque ac sapien blandit, mattis arcu eget, ullamcorper arcu. Nam aliquam pharetra mi ut rutrum. Vestibulum eu placerat enim, sit amet cursus ligula.\\n\\nPellentesque dignissim risus ex, eget tempus nulla ultricies vel. Pellentesque vestibulum aliquam commodo. Sed condimentum consequat neque eget semper. Etiam ut fermentum elit. Nullam fermentum quam sapien, id volutpat felis dapibus sed. Mauris vel euismod tortor. Curabitur pulvinar at velit a ornare. Fusce sed finibus velit. Proin non risus tortor. Maecenas vitae bibendum purus. Sed vitae dolor mauris. Phasellus in metus ornare, dapibus mauris id, molestie risus.\\n\\nMorbi tristique velit eget magna bibendum ullamcorper. Donec non viverra massa. Vestibulum fringilla, nibh eget iaculis vehicula, erat dolor ullamcorper lacus, ut dictum odio metus a magna. Donec tempor ac leo vel euismod. Sed tempor purus neque, a pellentesque nibh scelerisque id. Proin facilisis orci in tempus varius. Quisque gravida tellus ut augue maximus, non gravida est commodo.\\n\\nNunc congue consequat dui, at vestibulum dolor molestie et. Nunc pretium, est vel accumsan tempor, tortor augue consequat risus, non malesuada ex augue id odio. Sed ut malesuada lectus, id malesuada tellus. Aliquam elit sem, consequat vitae varius ut, efficitur et sapien. Fusce faucibus lectus efficitur sem dignissim, vitae malesuada mi porta. Nulla fermentum vitae felis id efficitur. Curabitur imperdiet sapien mi, eu dapibus leo vulputate faucibus. Nam facilisis neque a orci aliquam consequat. Etiam volutpat ultrices porta. Curabitur volutpat porta neque efficitur vehicula. Sed porttitor efficitur ante ut pulvinar.\\n\\nNam accumsan, lectus a pulvinar tempor, risus erat tincidunt urna, quis cursus lorem urna id mauris. Aenean sollicitudin turpis auctor enim varius, et facilisis ante tincidunt. Quisque eleifend scelerisque dui, id mattis leo volutpat sit amet. Sed faucibus ultricies quam, nec accumsan erat egestas et. Fusce ac nibh ut justo finibus sagittis. In semper faucibus sapien, in euismod felis sodales nec. Proin vel ligula non lacus venenatis aliquet. Sed vehicula interdum augue, id imperdiet eros condimentum ac. Suspendisse potenti. Proin tempor, lectus id cursus mollis, leo lorem commodo nulla, sed aliquam odio nibh sed ipsum. Etiam aliquet lacinia libero, vel dignissim tortor imperdiet eu.\\n\\nMauris fringilla nisl dolor, vel facilisis quam accumsan nec. Vivamus iaculis a arcu ut consequat. Nunc consectetur augue vitae eleifend semper. Nunc nulla orci, suscipit id placerat vel, vulputate ac nulla. Nulla eu ipsum vitae libero venenatis consectetur et sodales odio. Nullam sollicitudin, dui ac gravida imperdiet, justo diam convallis dolor, a bibendum velit lacus sit amet magna. Nunc lacus nisi, ultrices non nisi non, ullamcorper feugiat libero. Sed at lorem hendrerit, placerat orci ut, egestas diam.\\n\\nDonec ultrices id quam a venenatis. Donec faucibus lacus eu quam gravida, non vehicula turpis tempus. Suspendisse nec lectus non magna aliquam commodo. Fusce quis lectus nulla. Fusce at dignissim dolor. Suspendisse tempus lacinia lobortis. Duis tempus vulputate ultrices. Sed nisl ligula, mollis nec tortor sit amet, porttitor egestas lectus. In efficitur euismod quam. Duis at fermentum mauris, et efficitur tellus. Praesent nec metus nec sapien sodales sollicitudin. Suspendisse quam magna, aliquam vel mauris eget, commodo vehicula tellus. In faucibus iaculis dolor, in luctus dui placerat at. Duis vitae enim dictum, ultricies augue non, bibendum sapien.\\n\\nEtiam bibendum rutrum nulla, in euismod ipsum mollis sed. Fusce mi turpis, pulvinar nec gravida vitae, volutpat vitae turpis. Integer in lectus ultricies, ullamcorper elit ac, tincidunt risus. Praesent accumsan vel diam in auctor. Cras aliquam lectus et dapibus porta. Vestibulum blandit mollis urna, a facilisis erat.\\n\\nDonec ultrices id quam a venenatis. Donec faucibus lacus eu quam gravida, non vehicula turpis tempus. Suspendisse nec lectus non magna aliquam commodo. Fusce quis lectus nulla. Fusce at dignissim dolor. Suspendisse tempus lacinia lobortis. Duis tempus vulputate ultrices. Sed nisl ligula, mollis nec tortor sit amet, porttitor egestas lectus. In efficitur euismod quam. Duis at fermentum mauris, et efficitur tellus. Praesent nec metus nec sapien sodales sollicitudin. Suspendisse quam magna, aliquam vel mauris eget, commodo vehicula tellus. In faucibus iaculis dolor, in luctus dui placerat at. Duis vitae enim dictum, ultricies augue non, bibendum sapien.\\n\\nEtiam bibendum rutrum nulla, in euismod ipsum mollis sed. Fusce mi turpis, pulvinar nec gravida vitae, volutpat vitae turpis. Integer in lectus ultricies, ullamcorper elit ac, tincidunt risus. Praesent accumsan vel diam in auctor. Cras aliquam lectus et dapibus porta. Vestibulum blandit mollis urna, a facilisis erat.')]\n"
     ]
    }
   ],
   "source": [
    "from langchain_community.document_loaders import Docx2txtLoader\n",
    "\n",
    "loader = Docx2txtLoader(\"content/LoremIpsum.docx\")\n",
    "\n",
    "data = loader.load()\n",
    "\n",
    "print(len(data))\n",
    "print(data)"
   ]
  }
 ],
 "metadata": {
  "kernelspec": {
   "display_name": ".venv",
   "language": "python",
   "name": "python3"
  },
  "language_info": {
   "codemirror_mode": {
    "name": "ipython",
    "version": 3
   },
   "file_extension": ".py",
   "mimetype": "text/x-python",
   "name": "python",
   "nbconvert_exporter": "python",
   "pygments_lexer": "ipython3",
   "version": "3.10.11"
  }
 },
 "nbformat": 4,
 "nbformat_minor": 2
}
