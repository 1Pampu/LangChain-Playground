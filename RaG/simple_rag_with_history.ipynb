{
 "cells": [
  {
   "cell_type": "code",
   "execution_count": 12,
   "metadata": {},
   "outputs": [],
   "source": [
    "from langchain_huggingface import HuggingFaceEndpoint, ChatHuggingFace, HuggingFaceEmbeddings\n",
    "from langchain_community.document_loaders import UnstructuredMarkdownLoader\n",
    "from langchain_core.prompts import ChatPromptTemplate\n",
    "from langchain_core.runnables import RunnablePassthrough\n",
    "from langchain_text_splitters import RecursiveCharacterTextSplitter\n",
    "from langchain_community.vectorstores.utils import filter_complex_metadata\n",
    "from langchain_chroma import Chroma\n",
    "from dotenv import load_dotenv\n",
    "import os"
   ]
  },
  {
   "cell_type": "code",
   "execution_count": 2,
   "metadata": {},
   "outputs": [
    {
     "name": "stderr",
     "output_type": "stream",
     "text": [
      "d:\\02-NextCloud\\github\\LangChain-Playground\\.venv\\lib\\site-packages\\tqdm\\auto.py:21: TqdmWarning: IProgress not found. Please update jupyter and ipywidgets. See https://ipywidgets.readthedocs.io/en/stable/user_install.html\n",
      "  from .autonotebook import tqdm as notebook_tqdm\n"
     ]
    },
    {
     "name": "stdout",
     "output_type": "stream",
     "text": [
      "The token has not been saved to the git credentials helper. Pass `add_to_git_credential=True` in this function directly or `--add-to-git-credential` if using via `huggingface-cli` if you want to set the git credential as well.\n",
      "Token is valid (permission: write).\n",
      "Your token has been saved to C:\\Users\\piamp\\.cache\\huggingface\\token\n",
      "Login successful\n"
     ]
    },
    {
     "name": "stderr",
     "output_type": "stream",
     "text": [
      "Special tokens have been added in the vocabulary, make sure the associated word embeddings are fine-tuned or trained.\n"
     ]
    }
   ],
   "source": [
    "load_dotenv()\n",
    "hf_token = os.getenv(\"HF_TOKEN\")\n",
    "\n",
    "llm = HuggingFaceEndpoint(\n",
    "    repo_id=\"meta-llama/Meta-Llama-3-8B-Instruct\",\n",
    "    task=\"text-generation\",\n",
    "    max_new_tokens=512,\n",
    "    do_sample=False,\n",
    "    repetition_penalty=1.03,\n",
    "    huggingfacehub_api_token=hf_token\n",
    ")\n",
    "llama = ChatHuggingFace(llm=llm)"
   ]
  },
  {
   "cell_type": "markdown",
   "metadata": {},
   "source": [
    "### Load"
   ]
  },
  {
   "cell_type": "code",
   "execution_count": 61,
   "metadata": {},
   "outputs": [
    {
     "name": "stdout",
     "output_type": "stream",
     "text": [
      "26\n",
      "Fixed-Term Shared Deposits\n",
      "{'source': 'content/api_plazos_compartidos.md', 'category_depth': 0, 'last_modified': '2024-07-31T20:45:43', 'languages': ['eng'], 'filetype': 'text/markdown', 'file_directory': 'content', 'filename': 'api_plazos_compartidos.md', 'category': 'Title'}\n"
     ]
    }
   ],
   "source": [
    "markdown_loader = UnstructuredMarkdownLoader(\"content/api_plazos_compartidos.md\", mode=\"elements\")\n",
    "data = markdown_loader.load()\n",
    "print(len(data[0].page_content))\n",
    "print(data[0].page_content[:500])\n",
    "print(data[0].metadata)"
   ]
  },
  {
   "cell_type": "code",
   "execution_count": 62,
   "metadata": {},
   "outputs": [
    {
     "name": "stdout",
     "output_type": "stream",
     "text": [
      "page_content='Fixed-Term Shared Deposits' metadata={'source': 'content/api_plazos_compartidos.md', 'category_depth': 0, 'last_modified': '2024-07-31T20:45:43', 'languages': ['eng'], 'filetype': 'text/markdown', 'file_directory': 'content', 'filename': 'api_plazos_compartidos.md', 'category': 'Title'}\n",
      "page_content='Description' metadata={'source': 'content/api_plazos_compartidos.md', 'category_depth': 1, 'last_modified': '2024-07-31T20:45:43', 'languages': ['eng'], 'parent_id': 'a28cca33de3ece6f894f77c8c3d7a582', 'filetype': 'text/markdown', 'file_directory': 'content', 'filename': 'api_plazos_compartidos.md', 'category': 'Title'}\n",
      "page_content='Fixed-Term Shared Deposits is a comprehensive backend system designed to manage fixed-term deposit accounts. It provides a robust API for creating, updating, and retrieving deposit information, calculating daily interest rates, and handling user authentication and authorization.' metadata={'source': 'content/api_plazos_compartidos.md', 'last_modified': '2024-07-31T20:45:43', 'languages': ['eng'], 'parent_id': 'df59804ee9580707488fc8b2d45dd13e', 'filetype': 'text/markdown', 'file_directory': 'content', 'filename': 'api_plazos_compartidos.md', 'category': 'NarrativeText'}\n",
      "page_content='The system is built using Django REST Framework for the backend logic and API, MySQL for database management, Docker for deployment, and GitHub Actions for continuous integration and deployment. Daily interest calculations are automated using Supercronic, ensuring accurate and timely updates to deposit accounts.' metadata={'source': 'content/api_plazos_compartidos.md', 'last_modified': '2024-07-31T20:45:43', 'languages': ['eng'], 'parent_id': 'df59804ee9580707488fc8b2d45dd13e', 'filetype': 'text/markdown', 'file_directory': 'content', 'filename': 'api_plazos_compartidos.md', 'category': 'NarrativeText'}\n",
      "page_content='Usage' metadata={'source': 'content/api_plazos_compartidos.md', 'category_depth': 1, 'last_modified': '2024-07-31T20:45:43', 'languages': ['eng'], 'parent_id': 'a28cca33de3ece6f894f77c8c3d7a582', 'filetype': 'text/markdown', 'file_directory': 'content', 'filename': 'api_plazos_compartidos.md', 'category': 'Title'}\n",
      "page_content='1. Log In / Register' metadata={'source': 'content/api_plazos_compartidos.md', 'category_depth': 2, 'last_modified': '2024-07-31T20:45:43', 'languages': ['eng'], 'parent_id': '3bd02df0a52b2f93c122c2c6922296f6', 'filetype': 'text/markdown', 'file_directory': 'content', 'filename': 'api_plazos_compartidos.md', 'category': 'Title'}\n",
      "page_content='To start using the application, you first need an account. You can register by providing basic information such as your name, email address, and a secure password. If you already have an account, simply log in with your credentials.' metadata={'source': 'content/api_plazos_compartidos.md', 'last_modified': '2024-07-31T20:45:43', 'languages': ['eng'], 'parent_id': '5b48add78765b95e7a5817b346dc3ba1', 'filetype': 'text/markdown', 'file_directory': 'content', 'filename': 'api_plazos_compartidos.md', 'category': 'NarrativeText'}\n",
      "page_content='2. Create a Term' metadata={'source': 'content/api_plazos_compartidos.md', 'category_depth': 2, 'last_modified': '2024-07-31T20:45:43', 'languages': ['eng'], 'parent_id': '3bd02df0a52b2f93c122c2c6922296f6', 'filetype': 'text/markdown', 'file_directory': 'content', 'filename': 'api_plazos_compartidos.md', 'category': 'Title'}\n",
      "page_content='Once you have logged in, you can create a fixed-term deposit. To do this, navigate to the \"Terms\" section and select \"Create New Term.\" You will need to enter information such as the term name, daily interest rate, initial amount, and start date. Save this information to proceed to the next step.' metadata={'source': 'content/api_plazos_compartidos.md', 'last_modified': '2024-07-31T20:45:43', 'languages': ['eng'], 'parent_id': 'f5e0f44b9d33877f98c45d8f8418dc7b', 'filetype': 'text/markdown', 'file_directory': 'content', 'filename': 'api_plazos_compartidos.md', 'category': 'NarrativeText'}\n",
      "page_content='3. Create Entities within a Term' metadata={'source': 'content/api_plazos_compartidos.md', 'category_depth': 2, 'last_modified': '2024-07-31T20:45:43', 'languages': ['eng'], 'parent_id': '3bd02df0a52b2f93c122c2c6922296f6', 'filetype': 'text/markdown', 'file_directory': 'content', 'filename': 'api_plazos_compartidos.md', 'category': 'Title'}\n",
      "page_content='With the term created, you can add financial entities where you will make deposits. Go to the specific term section and select \"Add Entity.\" Here, you need to provide the entity name and any other relevant information. You can add as many entities as needed within a term.' metadata={'source': 'content/api_plazos_compartidos.md', 'last_modified': '2024-07-31T20:45:43', 'languages': ['eng'], 'parent_id': '5c08bb1b1e93b7353a932d611c518b12', 'filetype': 'text/markdown', 'file_directory': 'content', 'filename': 'api_plazos_compartidos.md', 'category': 'NarrativeText'}\n",
      "page_content='4. Make Deposits and Withdrawals in Entities' metadata={'source': 'content/api_plazos_compartidos.md', 'category_depth': 2, 'last_modified': '2024-07-31T20:45:43', 'languages': ['eng'], 'parent_id': '3bd02df0a52b2f93c122c2c6922296f6', 'filetype': 'text/markdown', 'file_directory': 'content', 'filename': 'api_plazos_compartidos.md', 'category': 'Title'}\n",
      "page_content='Finally, you can start making deposits and withdrawals in the entities you have created within each term. Select the desired entity and choose the \"Make Deposit\" or \"Make Withdrawal\" option. Enter the amount and the date of the transaction. This step will automatically update the term status and calculate the corresponding interest based on the established rate.' metadata={'source': 'content/api_plazos_compartidos.md', 'last_modified': '2024-07-31T20:45:43', 'languages': ['eng'], 'parent_id': '0db2b7fd52d3610e31e1f8d2b758ce13', 'filetype': 'text/markdown', 'file_directory': 'content', 'filename': 'api_plazos_compartidos.md', 'category': 'NarrativeText'}\n",
      "page_content='5. Automatic Interest Calculation' metadata={'source': 'content/api_plazos_compartidos.md', 'category_depth': 2, 'last_modified': '2024-07-31T20:45:43', 'languages': ['eng'], 'parent_id': '3bd02df0a52b2f93c122c2c6922296f6', 'filetype': 'text/markdown', 'file_directory': 'content', 'filename': 'api_plazos_compartidos.md', 'category': 'Title'}\n",
      "page_content='Every day at 00:00 (Argentina time), the application will automatically calculate and add the corresponding interest to each entity within a term. This process ensures that the entities' balances are updated daily according to the established interest rate.' metadata={'source': 'content/api_plazos_compartidos.md', 'last_modified': '2024-07-31T20:45:43', 'languages': ['eng'], 'parent_id': 'f424e5f7c92126be75151ba95c341ef3', 'filetype': 'text/markdown', 'file_directory': 'content', 'filename': 'api_plazos_compartidos.md', 'category': 'NarrativeText'}\n",
      "page_content='6. Retroactive Transactions' metadata={'source': 'content/api_plazos_compartidos.md', 'category_depth': 2, 'last_modified': '2024-07-31T20:45:43', 'languages': ['eng'], 'parent_id': '3bd02df0a52b2f93c122c2c6922296f6', 'filetype': 'text/markdown', 'file_directory': 'content', 'filename': 'api_plazos_compartidos.md', 'category': 'Title'}\n",
      "page_content='If you make a deposit or withdrawal with a date earlier than the current date, the application will automatically recalculate the accumulated interest up to the present date. For example, if you register a deposit made on 3/23 and a withdrawal on 3/26, and today is 4/1, the application will automatically calculate all the interest from those dates to today. This ensures that interest calculations are accurate and up-to-date, regardless of when transactions are registered.' metadata={'source': 'content/api_plazos_compartidos.md', 'last_modified': '2024-07-31T20:45:43', 'languages': ['eng'], 'parent_id': 'f98040493f42d39dbd9cc0f21887f384', 'filetype': 'text/markdown', 'file_directory': 'content', 'filename': 'api_plazos_compartidos.md', 'category': 'NarrativeText'}\n",
      "page_content='7. Limitations' metadata={'source': 'content/api_plazos_compartidos.md', 'category_depth': 2, 'last_modified': '2024-07-31T20:45:43', 'languages': ['eng'], 'parent_id': '3bd02df0a52b2f93c122c2c6922296f6', 'filetype': 'text/markdown', 'file_directory': 'content', 'filename': 'api_plazos_compartidos.md', 'category': 'Title'}\n",
      "page_content='Impossibility to Delete Transactions: Registered transactions (deposits or withdrawals) cannot be deleted once saved.' metadata={'source': 'content/api_plazos_compartidos.md', 'category_depth': 1, 'emphasized_text_contents': ['Impossibility to Delete Transactions:'], 'emphasized_text_tags': ['b'], 'last_modified': '2024-07-31T20:45:43', 'languages': ['eng'], 'parent_id': '54b2e2eb65813dd60a0eecdb86a3b3e8', 'filetype': 'text/markdown', 'file_directory': 'content', 'filename': 'api_plazos_compartidos.md', 'category': 'ListItem'}\n",
      "page_content='Restrictions on Transaction Dates: You cannot make a deposit or withdrawal with a date earlier than an already registered transaction for that entity. For example, if you made a deposit on 3/24, you cannot register a transaction with a date before that.' metadata={'source': 'content/api_plazos_compartidos.md', 'category_depth': 1, 'emphasized_text_contents': ['Restrictions on Transaction Dates:'], 'emphasized_text_tags': ['b'], 'last_modified': '2024-07-31T20:45:43', 'languages': ['eng'], 'parent_id': '54b2e2eb65813dd60a0eecdb86a3b3e8', 'filetype': 'text/markdown', 'file_directory': 'content', 'filename': 'api_plazos_compartidos.md', 'category': 'ListItem'}\n",
      "page_content='API Reference' metadata={'source': 'content/api_plazos_compartidos.md', 'category_depth': 1, 'last_modified': '2024-07-31T20:45:43', 'languages': ['eng'], 'parent_id': 'a28cca33de3ece6f894f77c8c3d7a582', 'filetype': 'text/markdown', 'file_directory': 'content', 'filename': 'api_plazos_compartidos.md', 'category': 'Title'}\n",
      "page_content='Authentication' metadata={'source': 'content/api_plazos_compartidos.md', 'category_depth': 2, 'last_modified': '2024-07-31T20:45:43', 'languages': ['eng'], 'parent_id': 'f344e6e1b6fad3b6ecac2eacffeb241e', 'filetype': 'text/markdown', 'file_directory': 'content', 'filename': 'api_plazos_compartidos.md', 'category': 'Title'}\n",
      "page_content='Usage' metadata={'source': 'content/api_plazos_compartidos.md', 'category_depth': 3, 'last_modified': '2024-07-31T20:45:43', 'languages': ['eng'], 'parent_id': '4922839b731568dc64990dbc801f7240', 'filetype': 'text/markdown', 'file_directory': 'content', 'filename': 'api_plazos_compartidos.md', 'category': 'Title'}\n",
      "page_content='To access the API, you need to include a header with the name \"Authorization\" in each request with a Bearer token.' metadata={'source': 'content/api_plazos_compartidos.md', 'last_modified': '2024-07-31T20:45:43', 'languages': ['eng'], 'parent_id': '92308eeb4154726c8a3d45aeacad1050', 'filetype': 'text/markdown', 'file_directory': 'content', 'filename': 'api_plazos_compartidos.md', 'category': 'NarrativeText'}\n",
      "page_content='Header Type Description Authorization string Required . Bearer token for authentication.' metadata={'source': 'content/api_plazos_compartidos.md', 'text_as_html': '<table><tr><td>Header</td><td>Type</td><td>Description</td></tr><tr><td>Authorization</td><td>string</td><td>Required . Bearer token for authentication.</td></tr></table>', 'last_modified': '2024-07-31T20:45:43', 'languages': ['eng'], 'parent_id': '92308eeb4154726c8a3d45aeacad1050', 'filetype': 'text/markdown', 'file_directory': 'content', 'filename': 'api_plazos_compartidos.md', 'category': 'Table'}\n",
      "page_content='Register' metadata={'source': 'content/api_plazos_compartidos.md', 'category_depth': 3, 'last_modified': '2024-07-31T20:45:43', 'languages': ['eng'], 'parent_id': '4922839b731568dc64990dbc801f7240', 'filetype': 'text/markdown', 'file_directory': 'content', 'filename': 'api_plazos_compartidos.md', 'category': 'Title'}\n",
      "page_content='http POST /api/register' metadata={'source': 'content/api_plazos_compartidos.md', 'category_depth': 0, 'last_modified': '2024-07-31T20:45:43', 'languages': ['eng'], 'filetype': 'text/markdown', 'file_directory': 'content', 'filename': 'api_plazos_compartidos.md', 'category': 'Title'}\n",
      "page_content='Parameter Type Description username string Required .  User's username. email string Required . User's email address. password string Required . User's password. password2 string Required . Confirmation of password.' metadata={'source': 'content/api_plazos_compartidos.md', 'text_as_html': '<table><tr><td>Parameter</td><td>Type</td><td>Description</td></tr><tr><td>username</td><td>string</td><td>Required .  User&#x27;s username.</td></tr><tr><td>email</td><td>string</td><td>Required . User&#x27;s email address.</td></tr><tr><td>password</td><td>string</td><td>Required . User&#x27;s password.</td></tr><tr><td>password2</td><td>string</td><td>Required . Confirmation of password.</td></tr></table>', 'last_modified': '2024-07-31T20:45:43', 'languages': ['eng'], 'parent_id': '2cd8dffbf50d9b49802a13dc61ed2671', 'filetype': 'text/markdown', 'file_directory': 'content', 'filename': 'api_plazos_compartidos.md', 'category': 'Table'}\n",
      "page_content='Login' metadata={'source': 'content/api_plazos_compartidos.md', 'category_depth': 3, 'last_modified': '2024-07-31T20:45:43', 'languages': ['eng'], 'parent_id': '2cd8dffbf50d9b49802a13dc61ed2671', 'filetype': 'text/markdown', 'file_directory': 'content', 'filename': 'api_plazos_compartidos.md', 'category': 'Title'}\n",
      "page_content='http POST /api/login' metadata={'source': 'content/api_plazos_compartidos.md', 'category_depth': 0, 'last_modified': '2024-07-31T20:45:43', 'languages': ['eng'], 'filetype': 'text/markdown', 'file_directory': 'content', 'filename': 'api_plazos_compartidos.md', 'category': 'Title'}\n",
      "page_content='Parameter Type Description email string Required . User's email address. password string Required . User's password.' metadata={'source': 'content/api_plazos_compartidos.md', 'text_as_html': '<table><tr><td>Parameter</td><td>Type</td><td>Description</td></tr><tr><td>email</td><td>string</td><td>Required . User&#x27;s email address.</td></tr><tr><td>password</td><td>string</td><td>Required . User&#x27;s password.</td></tr></table>', 'last_modified': '2024-07-31T20:45:43', 'languages': ['eng'], 'parent_id': '0f7cb9dd211a1623d97f643cb541e00b', 'filetype': 'text/markdown', 'file_directory': 'content', 'filename': 'api_plazos_compartidos.md', 'category': 'Table'}\n",
      "page_content='Plazos' metadata={'source': 'content/api_plazos_compartidos.md', 'category_depth': 2, 'last_modified': '2024-07-31T20:45:43', 'languages': ['eng'], 'parent_id': '0f7cb9dd211a1623d97f643cb541e00b', 'filetype': 'text/markdown', 'file_directory': 'content', 'filename': 'api_plazos_compartidos.md', 'category': 'Title'}\n",
      "page_content='Create Plazo' metadata={'source': 'content/api_plazos_compartidos.md', 'category_depth': 3, 'last_modified': '2024-07-31T20:45:43', 'languages': ['eng'], 'parent_id': '1e07170b44c90261db112224ed22b6cc', 'filetype': 'text/markdown', 'file_directory': 'content', 'filename': 'api_plazos_compartidos.md', 'category': 'Title'}\n",
      "page_content='http POST /api/plazos' metadata={'source': 'content/api_plazos_compartidos.md', 'category_depth': 0, 'last_modified': '2024-07-31T20:45:43', 'languages': ['eng'], 'filetype': 'text/markdown', 'file_directory': 'content', 'filename': 'api_plazos_compartidos.md', 'category': 'Title'}\n",
      "page_content='Parameter Type Description interes float Required . Daily interest rate percentage given. titulo string Required . Identifier. dia integer Required . The day of the month the term starts.' metadata={'source': 'content/api_plazos_compartidos.md', 'text_as_html': '<table><tr><td>Parameter</td><td>Type</td><td>Description</td></tr><tr><td>interes</td><td>float</td><td>Required . Daily interest rate percentage given.</td></tr><tr><td>titulo</td><td>string</td><td>Required . Identifier.</td></tr><tr><td>dia</td><td>integer</td><td>Required . The day of the month the term starts.</td></tr></table>', 'last_modified': '2024-07-31T20:45:43', 'languages': ['eng'], 'parent_id': '112d3ab97ac17ea1d98f6aeb0b9bd291', 'filetype': 'text/markdown', 'file_directory': 'content', 'filename': 'api_plazos_compartidos.md', 'category': 'Table'}\n",
      "page_content='Modify Plazo' metadata={'source': 'content/api_plazos_compartidos.md', 'category_depth': 3, 'last_modified': '2024-07-31T20:45:43', 'languages': ['eng'], 'parent_id': '112d3ab97ac17ea1d98f6aeb0b9bd291', 'filetype': 'text/markdown', 'file_directory': 'content', 'filename': 'api_plazos_compartidos.md', 'category': 'Title'}\n",
      "page_content='http PATCH /api/plazos/${plazo_id}' metadata={'source': 'content/api_plazos_compartidos.md', 'category_depth': 0, 'last_modified': '2024-07-31T20:45:43', 'languages': ['eng'], 'filetype': 'text/markdown', 'file_directory': 'content', 'filename': 'api_plazos_compartidos.md', 'category': 'Title'}\n",
      "page_content='Parameter Type Description interes float Optional . Daily interest rate percentage given. titulo string Optional . Identifier. dia integer Optional . The day of the month the term starts.' metadata={'source': 'content/api_plazos_compartidos.md', 'text_as_html': '<table><tr><td>Parameter</td><td>Type</td><td>Description</td></tr><tr><td>interes</td><td>float</td><td>Optional . Daily interest rate percentage given.</td></tr><tr><td>titulo</td><td>string</td><td>Optional . Identifier.</td></tr><tr><td>dia</td><td>integer</td><td>Optional . The day of the month the term starts.</td></tr></table>', 'last_modified': '2024-07-31T20:45:43', 'languages': ['eng'], 'parent_id': '604a9a36e97a95fc9fbb34150f8a8afa', 'filetype': 'text/markdown', 'file_directory': 'content', 'filename': 'api_plazos_compartidos.md', 'category': 'Table'}\n",
      "page_content='Get All Plazos' metadata={'source': 'content/api_plazos_compartidos.md', 'category_depth': 3, 'last_modified': '2024-07-31T20:45:43', 'languages': ['eng'], 'parent_id': '604a9a36e97a95fc9fbb34150f8a8afa', 'filetype': 'text/markdown', 'file_directory': 'content', 'filename': 'api_plazos_compartidos.md', 'category': 'Title'}\n",
      "page_content='http GET /api/plazos' metadata={'source': 'content/api_plazos_compartidos.md', 'category_depth': 0, 'last_modified': '2024-07-31T20:45:43', 'languages': ['eng'], 'filetype': 'text/markdown', 'file_directory': 'content', 'filename': 'api_plazos_compartidos.md', 'category': 'Title'}\n",
      "page_content='Get Plazo' metadata={'source': 'content/api_plazos_compartidos.md', 'category_depth': 3, 'last_modified': '2024-07-31T20:45:43', 'languages': ['eng'], 'parent_id': '18bc62e4c50d8f3c50babca456bc9fa0', 'filetype': 'text/markdown', 'file_directory': 'content', 'filename': 'api_plazos_compartidos.md', 'category': 'Title'}\n",
      "page_content='http GET /api/plazos/${plazo_id}' metadata={'source': 'content/api_plazos_compartidos.md', 'category_depth': 0, 'last_modified': '2024-07-31T20:45:43', 'languages': ['eng'], 'filetype': 'text/markdown', 'file_directory': 'content', 'filename': 'api_plazos_compartidos.md', 'category': 'Title'}\n",
      "page_content='Delete Plazo' metadata={'source': 'content/api_plazos_compartidos.md', 'category_depth': 3, 'last_modified': '2024-07-31T20:45:43', 'languages': ['eng'], 'parent_id': '9c3b6aa4b210b11844caf065e2ce51ba', 'filetype': 'text/markdown', 'file_directory': 'content', 'filename': 'api_plazos_compartidos.md', 'category': 'Title'}\n",
      "page_content='http DELETE /api/plazos/${plazo_id}' metadata={'source': 'content/api_plazos_compartidos.md', 'category_depth': 0, 'last_modified': '2024-07-31T20:45:43', 'languages': ['eng'], 'filetype': 'text/markdown', 'file_directory': 'content', 'filename': 'api_plazos_compartidos.md', 'category': 'Title'}\n",
      "page_content='Entidades' metadata={'source': 'content/api_plazos_compartidos.md', 'category_depth': 2, 'last_modified': '2024-07-31T20:45:43', 'languages': ['eng'], 'parent_id': 'e3c32288fd06ddc1bb96c12fac985b4b', 'filetype': 'text/markdown', 'file_directory': 'content', 'filename': 'api_plazos_compartidos.md', 'category': 'Title'}\n",
      "page_content='Create Entidad' metadata={'source': 'content/api_plazos_compartidos.md', 'category_depth': 3, 'last_modified': '2024-07-31T20:45:43', 'languages': ['eng'], 'parent_id': 'c20e856e7ddadf6d413a7e88faecce8e', 'filetype': 'text/markdown', 'file_directory': 'content', 'filename': 'api_plazos_compartidos.md', 'category': 'Title'}\n",
      "page_content='http POST /api/plazos/${plazo_id}/entidades' metadata={'source': 'content/api_plazos_compartidos.md', 'category_depth': 0, 'last_modified': '2024-07-31T20:45:43', 'languages': ['eng'], 'filetype': 'text/markdown', 'file_directory': 'content', 'filename': 'api_plazos_compartidos.md', 'category': 'Title'}\n",
      "page_content='Parameter Type Description nombre string Required . Name of the entity or participant.' metadata={'source': 'content/api_plazos_compartidos.md', 'text_as_html': '<table><tr><td>Parameter</td><td>Type</td><td>Description</td></tr><tr><td>nombre</td><td>string</td><td>Required . Name of the entity or participant.</td></tr></table>', 'last_modified': '2024-07-31T20:45:43', 'languages': ['eng'], 'parent_id': '9d83f9ca805f548078ac28448b61e7b9', 'filetype': 'text/markdown', 'file_directory': 'content', 'filename': 'api_plazos_compartidos.md', 'category': 'Table'}\n",
      "page_content='Modify Entidad' metadata={'source': 'content/api_plazos_compartidos.md', 'category_depth': 3, 'last_modified': '2024-07-31T20:45:43', 'languages': ['eng'], 'parent_id': '9d83f9ca805f548078ac28448b61e7b9', 'filetype': 'text/markdown', 'file_directory': 'content', 'filename': 'api_plazos_compartidos.md', 'category': 'Title'}\n",
      "page_content='http PATCH /api/plazos/${plazo_id}/entidades/${entidad_id}' metadata={'source': 'content/api_plazos_compartidos.md', 'category_depth': 0, 'last_modified': '2024-07-31T20:45:43', 'languages': ['eng'], 'filetype': 'text/markdown', 'file_directory': 'content', 'filename': 'api_plazos_compartidos.md', 'category': 'Title'}\n",
      "page_content='Parameter Type Description nombre string Required . Name of the entity or participant.' metadata={'source': 'content/api_plazos_compartidos.md', 'text_as_html': '<table><tr><td>Parameter</td><td>Type</td><td>Description</td></tr><tr><td>nombre</td><td>string</td><td>Required . Name of the entity or participant.</td></tr></table>', 'last_modified': '2024-07-31T20:45:43', 'languages': ['eng'], 'parent_id': '914b10a84578eafc21935758077e9d33', 'filetype': 'text/markdown', 'file_directory': 'content', 'filename': 'api_plazos_compartidos.md', 'category': 'Table'}\n",
      "page_content='Get All Entidades' metadata={'source': 'content/api_plazos_compartidos.md', 'category_depth': 3, 'last_modified': '2024-07-31T20:45:43', 'languages': ['eng'], 'parent_id': '914b10a84578eafc21935758077e9d33', 'filetype': 'text/markdown', 'file_directory': 'content', 'filename': 'api_plazos_compartidos.md', 'category': 'Title'}\n",
      "page_content='http GET /api/plazos/${plazo_id}/entidades' metadata={'source': 'content/api_plazos_compartidos.md', 'category_depth': 0, 'last_modified': '2024-07-31T20:45:43', 'languages': ['eng'], 'filetype': 'text/markdown', 'file_directory': 'content', 'filename': 'api_plazos_compartidos.md', 'category': 'Title'}\n",
      "page_content='Get Entidad' metadata={'source': 'content/api_plazos_compartidos.md', 'category_depth': 3, 'last_modified': '2024-07-31T20:45:43', 'languages': ['eng'], 'parent_id': 'e23c6f6a3f28ad95b999138571497aac', 'filetype': 'text/markdown', 'file_directory': 'content', 'filename': 'api_plazos_compartidos.md', 'category': 'Title'}\n",
      "page_content='http GET /api/plazos/${plazo_id}/entidades/${entidad_id}' metadata={'source': 'content/api_plazos_compartidos.md', 'category_depth': 0, 'last_modified': '2024-07-31T20:45:43', 'languages': ['eng'], 'filetype': 'text/markdown', 'file_directory': 'content', 'filename': 'api_plazos_compartidos.md', 'category': 'Title'}\n",
      "page_content='Delete Entidad' metadata={'source': 'content/api_plazos_compartidos.md', 'category_depth': 3, 'last_modified': '2024-07-31T20:45:43', 'languages': ['eng'], 'parent_id': '4af67ee8a48d1e2aff5094b5bf111e6c', 'filetype': 'text/markdown', 'file_directory': 'content', 'filename': 'api_plazos_compartidos.md', 'category': 'Title'}\n",
      "page_content='http DELETE /api/plazos/${plazo_id}/entidades/${entidad_id}' metadata={'source': 'content/api_plazos_compartidos.md', 'category_depth': 0, 'last_modified': '2024-07-31T20:45:43', 'languages': ['eng'], 'filetype': 'text/markdown', 'file_directory': 'content', 'filename': 'api_plazos_compartidos.md', 'category': 'Title'}\n",
      "page_content='Transactions' metadata={'source': 'content/api_plazos_compartidos.md', 'category_depth': 2, 'last_modified': '2024-07-31T20:45:43', 'languages': ['eng'], 'parent_id': '633c455ba0ce23f227d64653ed20ba0d', 'filetype': 'text/markdown', 'file_directory': 'content', 'filename': 'api_plazos_compartidos.md', 'category': 'Title'}\n",
      "page_content='Create Transactions' metadata={'source': 'content/api_plazos_compartidos.md', 'category_depth': 3, 'last_modified': '2024-07-31T20:45:43', 'languages': ['eng'], 'parent_id': 'a06de848c1e43f853198bbc62d0c6e07', 'filetype': 'text/markdown', 'file_directory': 'content', 'filename': 'api_plazos_compartidos.md', 'category': 'Title'}\n",
      "page_content='http POST /api/plazos/${plazo_id}/operaciones | Parameter | Type | Description | | :-------- | :------- | :------------------------------------------------------------------------------------------------------- | | fecha | date | Required. Date of the transaction. Cannot be earlier than an existing transaction date or in the future. | | monto | float | Required. Amount of the transaction. | | tipo | string | Required. Type of the transaction: either \"Deposito\" or \"Retiro\". |' metadata={'source': 'content/api_plazos_compartidos.md', 'emphasized_text_contents': ['Required', 'Required', 'Required'], 'emphasized_text_tags': ['b', 'b', 'b'], 'last_modified': '2024-07-31T20:45:43', 'languages': ['eng'], 'parent_id': 'b84d4a701dec48c56116f900355b8b64', 'filetype': 'text/markdown', 'file_directory': 'content', 'filename': 'api_plazos_compartidos.md', 'category': 'NarrativeText'}\n",
      "page_content='Get All Transactions' metadata={'source': 'content/api_plazos_compartidos.md', 'category_depth': 3, 'last_modified': '2024-07-31T20:45:43', 'languages': ['eng'], 'parent_id': 'a06de848c1e43f853198bbc62d0c6e07', 'filetype': 'text/markdown', 'file_directory': 'content', 'filename': 'api_plazos_compartidos.md', 'category': 'Title'}\n",
      "page_content='http GET /api/plazos/${plazo_id}/operaciones' metadata={'source': 'content/api_plazos_compartidos.md', 'category_depth': 0, 'last_modified': '2024-07-31T20:45:43', 'languages': ['eng'], 'filetype': 'text/markdown', 'file_directory': 'content', 'filename': 'api_plazos_compartidos.md', 'category': 'Title'}\n",
      "page_content='Get Entity's Transactions' metadata={'source': 'content/api_plazos_compartidos.md', 'category_depth': 3, 'last_modified': '2024-07-31T20:45:43', 'languages': ['eng'], 'parent_id': '72cb5e063db85def93d3e5a17e7ed97a', 'filetype': 'text/markdown', 'file_directory': 'content', 'filename': 'api_plazos_compartidos.md', 'category': 'Title'}\n",
      "page_content='http GET /api/plazos/${plazo_id}/operaciones/${entidad_id}' metadata={'source': 'content/api_plazos_compartidos.md', 'category_depth': 0, 'last_modified': '2024-07-31T20:45:43', 'languages': ['eng'], 'filetype': 'text/markdown', 'file_directory': 'content', 'filename': 'api_plazos_compartidos.md', 'category': 'Title'}\n",
      "page_content='Technologies used:' metadata={'source': 'content/api_plazos_compartidos.md', 'category_depth': 1, 'last_modified': '2024-07-31T20:45:43', 'languages': ['eng'], 'parent_id': '1d4cc146380fd810a7d3452d11ce9219', 'filetype': 'text/markdown', 'file_directory': 'content', 'filename': 'api_plazos_compartidos.md', 'category': 'Title'}\n",
      "page_content='Django REST Framework: Used for the entire backend, including the application logic and the API.' metadata={'source': 'content/api_plazos_compartidos.md', 'category_depth': 1, 'emphasized_text_contents': ['Django REST Framework'], 'emphasized_text_tags': ['b'], 'last_modified': '2024-07-31T20:45:43', 'languages': ['eng'], 'parent_id': '8eb365e7c670348fd6e35d388af3640d', 'filetype': 'text/markdown', 'file_directory': 'content', 'filename': 'api_plazos_compartidos.md', 'category': 'ListItem'}\n",
      "page_content='MySQL: Relational database management system used for storing and managing data.' metadata={'source': 'content/api_plazos_compartidos.md', 'category_depth': 1, 'emphasized_text_contents': ['MySQL'], 'emphasized_text_tags': ['b'], 'last_modified': '2024-07-31T20:45:43', 'languages': ['eng'], 'parent_id': '8eb365e7c670348fd6e35d388af3640d', 'filetype': 'text/markdown', 'file_directory': 'content', 'filename': 'api_plazos_compartidos.md', 'category': 'ListItem'}\n",
      "page_content='Docker: Used for deployment, ensuring the application runs consistently across different environments.' metadata={'source': 'content/api_plazos_compartidos.md', 'category_depth': 1, 'emphasized_text_contents': ['Docker'], 'emphasized_text_tags': ['b'], 'last_modified': '2024-07-31T20:45:43', 'languages': ['eng'], 'parent_id': '8eb365e7c670348fd6e35d388af3640d', 'filetype': 'text/markdown', 'file_directory': 'content', 'filename': 'api_plazos_compartidos.md', 'category': 'ListItem'}\n",
      "page_content='GitHub Actions: Automation platform used to automatically deploy the application on an Ubuntu server in a Docker container and upload the Dockerfile.' metadata={'source': 'content/api_plazos_compartidos.md', 'category_depth': 1, 'emphasized_text_contents': ['GitHub Actions'], 'emphasized_text_tags': ['b'], 'last_modified': '2024-07-31T20:45:43', 'languages': ['eng'], 'parent_id': '8eb365e7c670348fd6e35d388af3640d', 'filetype': 'text/markdown', 'file_directory': 'content', 'filename': 'api_plazos_compartidos.md', 'category': 'ListItem'}\n",
      "page_content='Supercronic: Used to schedule daily interest calculations at midnight.' metadata={'source': 'content/api_plazos_compartidos.md', 'category_depth': 1, 'emphasized_text_contents': ['Supercronic'], 'emphasized_text_tags': ['b'], 'last_modified': '2024-07-31T20:45:43', 'languages': ['eng'], 'parent_id': '8eb365e7c670348fd6e35d388af3640d', 'filetype': 'text/markdown', 'file_directory': 'content', 'filename': 'api_plazos_compartidos.md', 'category': 'ListItem'}\n",
      "page_content='Demo' metadata={'source': 'content/api_plazos_compartidos.md', 'category_depth': 1, 'last_modified': '2024-07-31T20:45:43', 'languages': ['eng'], 'parent_id': '1d4cc146380fd810a7d3452d11ce9219', 'filetype': 'text/markdown', 'file_directory': 'content', 'filename': 'api_plazos_compartidos.md', 'category': 'Title'}\n",
      "page_content='API URL: https://server-martin.duckdns.org:8888' metadata={'source': 'content/api_plazos_compartidos.md', 'category_depth': 0, 'last_modified': '2024-07-31T20:45:43', 'languages': ['eng'], 'filetype': 'text/markdown', 'file_directory': 'content', 'filename': 'api_plazos_compartidos.md', 'category': 'Title'}\n",
      "page_content='Working App with a Visual Interface: Live Preview' metadata={'source': 'content/api_plazos_compartidos.md', 'category_depth': 0, 'link_texts': ['Live Preview'], 'link_urls': ['https://1pampu.github.io/plazos-compartidos-frontend/index.html'], 'last_modified': '2024-07-31T20:45:43', 'languages': ['eng'], 'filetype': 'text/markdown', 'file_directory': 'content', 'filename': 'api_plazos_compartidos.md', 'category': 'Title'}\n",
      "page_content='Repository of the FrontEnd: Repository' metadata={'source': 'content/api_plazos_compartidos.md', 'category_depth': 0, 'link_texts': ['Repository'], 'link_urls': ['https://github.com/1Pampu/plazos-compartidos-frontend'], 'last_modified': '2024-07-31T20:45:43', 'languages': ['eng'], 'filetype': 'text/markdown', 'file_directory': 'content', 'filename': 'api_plazos_compartidos.md', 'category': 'Title'}\n",
      "page_content='🔗 Links' metadata={'source': 'content/api_plazos_compartidos.md', 'category_depth': 1, 'last_modified': '2024-07-31T20:45:43', 'languages': ['eng'], 'parent_id': '52f1f54b7a4f564570513b8664f0699a', 'filetype': 'text/markdown', 'file_directory': 'content', 'filename': 'api_plazos_compartidos.md', 'category': 'Title'}\n"
     ]
    }
   ],
   "source": [
    "for doc in data:\n",
    "    print(doc)"
   ]
  },
  {
   "cell_type": "code",
   "execution_count": 63,
   "metadata": {},
   "outputs": [
    {
     "name": "stdout",
     "output_type": "stream",
     "text": [
      "{'source': 'content/api_plazos_compartidos.md', 'category_depth': 0, 'last_modified': '2024-07-31T20:45:43', 'filetype': 'text/markdown', 'file_directory': 'content', 'filename': 'api_plazos_compartidos.md', 'category': 'Title'}\n"
     ]
    }
   ],
   "source": [
    "filtered_data = filter_complex_metadata(data, allowed_types=(str, int, float, bool))\n",
    "print(filtered_data[0].metadata)"
   ]
  },
  {
   "cell_type": "markdown",
   "metadata": {},
   "source": [
    "### Split"
   ]
  },
  {
   "cell_type": "code",
   "execution_count": 64,
   "metadata": {},
   "outputs": [
    {
     "name": "stdout",
     "output_type": "stream",
     "text": [
      "75\n",
      "26\n",
      "{'source': 'content/api_plazos_compartidos.md', 'category_depth': 0, 'last_modified': '2024-07-31T20:45:43', 'filetype': 'text/markdown', 'file_directory': 'content', 'filename': 'api_plazos_compartidos.md', 'category': 'Title', 'start_index': 0}\n"
     ]
    }
   ],
   "source": [
    "text_splitter = RecursiveCharacterTextSplitter(\n",
    "    chunk_size=1000, chunk_overlap=0, add_start_index=True\n",
    ")\n",
    "all_splits = text_splitter.split_documents(filtered_data)\n",
    "\n",
    "print(len(all_splits))\n",
    "print(len(all_splits[0].page_content))\n",
    "print(all_splits[0].metadata)"
   ]
  },
  {
   "cell_type": "code",
   "execution_count": 65,
   "metadata": {},
   "outputs": [
    {
     "name": "stdout",
     "output_type": "stream",
     "text": [
      "page_content='Fixed-Term Shared Deposits' metadata={'source': 'content/api_plazos_compartidos.md', 'category_depth': 0, 'last_modified': '2024-07-31T20:45:43', 'filetype': 'text/markdown', 'file_directory': 'content', 'filename': 'api_plazos_compartidos.md', 'category': 'Title', 'start_index': 0}\n",
      "page_content='Description' metadata={'source': 'content/api_plazos_compartidos.md', 'category_depth': 1, 'last_modified': '2024-07-31T20:45:43', 'parent_id': 'a28cca33de3ece6f894f77c8c3d7a582', 'filetype': 'text/markdown', 'file_directory': 'content', 'filename': 'api_plazos_compartidos.md', 'category': 'Title', 'start_index': 0}\n",
      "page_content='Fixed-Term Shared Deposits is a comprehensive backend system designed to manage fixed-term deposit accounts. It provides a robust API for creating, updating, and retrieving deposit information, calculating daily interest rates, and handling user authentication and authorization.' metadata={'source': 'content/api_plazos_compartidos.md', 'last_modified': '2024-07-31T20:45:43', 'parent_id': 'df59804ee9580707488fc8b2d45dd13e', 'filetype': 'text/markdown', 'file_directory': 'content', 'filename': 'api_plazos_compartidos.md', 'category': 'NarrativeText', 'start_index': 0}\n",
      "page_content='The system is built using Django REST Framework for the backend logic and API, MySQL for database management, Docker for deployment, and GitHub Actions for continuous integration and deployment. Daily interest calculations are automated using Supercronic, ensuring accurate and timely updates to deposit accounts.' metadata={'source': 'content/api_plazos_compartidos.md', 'last_modified': '2024-07-31T20:45:43', 'parent_id': 'df59804ee9580707488fc8b2d45dd13e', 'filetype': 'text/markdown', 'file_directory': 'content', 'filename': 'api_plazos_compartidos.md', 'category': 'NarrativeText', 'start_index': 0}\n",
      "page_content='Usage' metadata={'source': 'content/api_plazos_compartidos.md', 'category_depth': 1, 'last_modified': '2024-07-31T20:45:43', 'parent_id': 'a28cca33de3ece6f894f77c8c3d7a582', 'filetype': 'text/markdown', 'file_directory': 'content', 'filename': 'api_plazos_compartidos.md', 'category': 'Title', 'start_index': 0}\n",
      "page_content='1. Log In / Register' metadata={'source': 'content/api_plazos_compartidos.md', 'category_depth': 2, 'last_modified': '2024-07-31T20:45:43', 'parent_id': '3bd02df0a52b2f93c122c2c6922296f6', 'filetype': 'text/markdown', 'file_directory': 'content', 'filename': 'api_plazos_compartidos.md', 'category': 'Title', 'start_index': 0}\n",
      "page_content='To start using the application, you first need an account. You can register by providing basic information such as your name, email address, and a secure password. If you already have an account, simply log in with your credentials.' metadata={'source': 'content/api_plazos_compartidos.md', 'last_modified': '2024-07-31T20:45:43', 'parent_id': '5b48add78765b95e7a5817b346dc3ba1', 'filetype': 'text/markdown', 'file_directory': 'content', 'filename': 'api_plazos_compartidos.md', 'category': 'NarrativeText', 'start_index': 0}\n",
      "page_content='2. Create a Term' metadata={'source': 'content/api_plazos_compartidos.md', 'category_depth': 2, 'last_modified': '2024-07-31T20:45:43', 'parent_id': '3bd02df0a52b2f93c122c2c6922296f6', 'filetype': 'text/markdown', 'file_directory': 'content', 'filename': 'api_plazos_compartidos.md', 'category': 'Title', 'start_index': 0}\n",
      "page_content='Once you have logged in, you can create a fixed-term deposit. To do this, navigate to the \"Terms\" section and select \"Create New Term.\" You will need to enter information such as the term name, daily interest rate, initial amount, and start date. Save this information to proceed to the next step.' metadata={'source': 'content/api_plazos_compartidos.md', 'last_modified': '2024-07-31T20:45:43', 'parent_id': 'f5e0f44b9d33877f98c45d8f8418dc7b', 'filetype': 'text/markdown', 'file_directory': 'content', 'filename': 'api_plazos_compartidos.md', 'category': 'NarrativeText', 'start_index': 0}\n",
      "page_content='3. Create Entities within a Term' metadata={'source': 'content/api_plazos_compartidos.md', 'category_depth': 2, 'last_modified': '2024-07-31T20:45:43', 'parent_id': '3bd02df0a52b2f93c122c2c6922296f6', 'filetype': 'text/markdown', 'file_directory': 'content', 'filename': 'api_plazos_compartidos.md', 'category': 'Title', 'start_index': 0}\n",
      "page_content='With the term created, you can add financial entities where you will make deposits. Go to the specific term section and select \"Add Entity.\" Here, you need to provide the entity name and any other relevant information. You can add as many entities as needed within a term.' metadata={'source': 'content/api_plazos_compartidos.md', 'last_modified': '2024-07-31T20:45:43', 'parent_id': '5c08bb1b1e93b7353a932d611c518b12', 'filetype': 'text/markdown', 'file_directory': 'content', 'filename': 'api_plazos_compartidos.md', 'category': 'NarrativeText', 'start_index': 0}\n",
      "page_content='4. Make Deposits and Withdrawals in Entities' metadata={'source': 'content/api_plazos_compartidos.md', 'category_depth': 2, 'last_modified': '2024-07-31T20:45:43', 'parent_id': '3bd02df0a52b2f93c122c2c6922296f6', 'filetype': 'text/markdown', 'file_directory': 'content', 'filename': 'api_plazos_compartidos.md', 'category': 'Title', 'start_index': 0}\n",
      "page_content='Finally, you can start making deposits and withdrawals in the entities you have created within each term. Select the desired entity and choose the \"Make Deposit\" or \"Make Withdrawal\" option. Enter the amount and the date of the transaction. This step will automatically update the term status and calculate the corresponding interest based on the established rate.' metadata={'source': 'content/api_plazos_compartidos.md', 'last_modified': '2024-07-31T20:45:43', 'parent_id': '0db2b7fd52d3610e31e1f8d2b758ce13', 'filetype': 'text/markdown', 'file_directory': 'content', 'filename': 'api_plazos_compartidos.md', 'category': 'NarrativeText', 'start_index': 0}\n",
      "page_content='5. Automatic Interest Calculation' metadata={'source': 'content/api_plazos_compartidos.md', 'category_depth': 2, 'last_modified': '2024-07-31T20:45:43', 'parent_id': '3bd02df0a52b2f93c122c2c6922296f6', 'filetype': 'text/markdown', 'file_directory': 'content', 'filename': 'api_plazos_compartidos.md', 'category': 'Title', 'start_index': 0}\n",
      "page_content='Every day at 00:00 (Argentina time), the application will automatically calculate and add the corresponding interest to each entity within a term. This process ensures that the entities' balances are updated daily according to the established interest rate.' metadata={'source': 'content/api_plazos_compartidos.md', 'last_modified': '2024-07-31T20:45:43', 'parent_id': 'f424e5f7c92126be75151ba95c341ef3', 'filetype': 'text/markdown', 'file_directory': 'content', 'filename': 'api_plazos_compartidos.md', 'category': 'NarrativeText', 'start_index': 0}\n",
      "page_content='6. Retroactive Transactions' metadata={'source': 'content/api_plazos_compartidos.md', 'category_depth': 2, 'last_modified': '2024-07-31T20:45:43', 'parent_id': '3bd02df0a52b2f93c122c2c6922296f6', 'filetype': 'text/markdown', 'file_directory': 'content', 'filename': 'api_plazos_compartidos.md', 'category': 'Title', 'start_index': 0}\n",
      "page_content='If you make a deposit or withdrawal with a date earlier than the current date, the application will automatically recalculate the accumulated interest up to the present date. For example, if you register a deposit made on 3/23 and a withdrawal on 3/26, and today is 4/1, the application will automatically calculate all the interest from those dates to today. This ensures that interest calculations are accurate and up-to-date, regardless of when transactions are registered.' metadata={'source': 'content/api_plazos_compartidos.md', 'last_modified': '2024-07-31T20:45:43', 'parent_id': 'f98040493f42d39dbd9cc0f21887f384', 'filetype': 'text/markdown', 'file_directory': 'content', 'filename': 'api_plazos_compartidos.md', 'category': 'NarrativeText', 'start_index': 0}\n",
      "page_content='7. Limitations' metadata={'source': 'content/api_plazos_compartidos.md', 'category_depth': 2, 'last_modified': '2024-07-31T20:45:43', 'parent_id': '3bd02df0a52b2f93c122c2c6922296f6', 'filetype': 'text/markdown', 'file_directory': 'content', 'filename': 'api_plazos_compartidos.md', 'category': 'Title', 'start_index': 0}\n",
      "page_content='Impossibility to Delete Transactions: Registered transactions (deposits or withdrawals) cannot be deleted once saved.' metadata={'source': 'content/api_plazos_compartidos.md', 'category_depth': 1, 'last_modified': '2024-07-31T20:45:43', 'parent_id': '54b2e2eb65813dd60a0eecdb86a3b3e8', 'filetype': 'text/markdown', 'file_directory': 'content', 'filename': 'api_plazos_compartidos.md', 'category': 'ListItem', 'start_index': 0}\n",
      "page_content='Restrictions on Transaction Dates: You cannot make a deposit or withdrawal with a date earlier than an already registered transaction for that entity. For example, if you made a deposit on 3/24, you cannot register a transaction with a date before that.' metadata={'source': 'content/api_plazos_compartidos.md', 'category_depth': 1, 'last_modified': '2024-07-31T20:45:43', 'parent_id': '54b2e2eb65813dd60a0eecdb86a3b3e8', 'filetype': 'text/markdown', 'file_directory': 'content', 'filename': 'api_plazos_compartidos.md', 'category': 'ListItem', 'start_index': 0}\n",
      "page_content='API Reference' metadata={'source': 'content/api_plazos_compartidos.md', 'category_depth': 1, 'last_modified': '2024-07-31T20:45:43', 'parent_id': 'a28cca33de3ece6f894f77c8c3d7a582', 'filetype': 'text/markdown', 'file_directory': 'content', 'filename': 'api_plazos_compartidos.md', 'category': 'Title', 'start_index': 0}\n",
      "page_content='Authentication' metadata={'source': 'content/api_plazos_compartidos.md', 'category_depth': 2, 'last_modified': '2024-07-31T20:45:43', 'parent_id': 'f344e6e1b6fad3b6ecac2eacffeb241e', 'filetype': 'text/markdown', 'file_directory': 'content', 'filename': 'api_plazos_compartidos.md', 'category': 'Title', 'start_index': 0}\n",
      "page_content='Usage' metadata={'source': 'content/api_plazos_compartidos.md', 'category_depth': 3, 'last_modified': '2024-07-31T20:45:43', 'parent_id': '4922839b731568dc64990dbc801f7240', 'filetype': 'text/markdown', 'file_directory': 'content', 'filename': 'api_plazos_compartidos.md', 'category': 'Title', 'start_index': 0}\n",
      "page_content='To access the API, you need to include a header with the name \"Authorization\" in each request with a Bearer token.' metadata={'source': 'content/api_plazos_compartidos.md', 'last_modified': '2024-07-31T20:45:43', 'parent_id': '92308eeb4154726c8a3d45aeacad1050', 'filetype': 'text/markdown', 'file_directory': 'content', 'filename': 'api_plazos_compartidos.md', 'category': 'NarrativeText', 'start_index': 0}\n",
      "page_content='Header Type Description Authorization string Required . Bearer token for authentication.' metadata={'source': 'content/api_plazos_compartidos.md', 'text_as_html': '<table><tr><td>Header</td><td>Type</td><td>Description</td></tr><tr><td>Authorization</td><td>string</td><td>Required . Bearer token for authentication.</td></tr></table>', 'last_modified': '2024-07-31T20:45:43', 'parent_id': '92308eeb4154726c8a3d45aeacad1050', 'filetype': 'text/markdown', 'file_directory': 'content', 'filename': 'api_plazos_compartidos.md', 'category': 'Table', 'start_index': 0}\n",
      "page_content='Register' metadata={'source': 'content/api_plazos_compartidos.md', 'category_depth': 3, 'last_modified': '2024-07-31T20:45:43', 'parent_id': '4922839b731568dc64990dbc801f7240', 'filetype': 'text/markdown', 'file_directory': 'content', 'filename': 'api_plazos_compartidos.md', 'category': 'Title', 'start_index': 0}\n",
      "page_content='http POST /api/register' metadata={'source': 'content/api_plazos_compartidos.md', 'category_depth': 0, 'last_modified': '2024-07-31T20:45:43', 'filetype': 'text/markdown', 'file_directory': 'content', 'filename': 'api_plazos_compartidos.md', 'category': 'Title', 'start_index': 0}\n",
      "page_content='Parameter Type Description username string Required .  User's username. email string Required . User's email address. password string Required . User's password. password2 string Required . Confirmation of password.' metadata={'source': 'content/api_plazos_compartidos.md', 'text_as_html': '<table><tr><td>Parameter</td><td>Type</td><td>Description</td></tr><tr><td>username</td><td>string</td><td>Required .  User&#x27;s username.</td></tr><tr><td>email</td><td>string</td><td>Required . User&#x27;s email address.</td></tr><tr><td>password</td><td>string</td><td>Required . User&#x27;s password.</td></tr><tr><td>password2</td><td>string</td><td>Required . Confirmation of password.</td></tr></table>', 'last_modified': '2024-07-31T20:45:43', 'parent_id': '2cd8dffbf50d9b49802a13dc61ed2671', 'filetype': 'text/markdown', 'file_directory': 'content', 'filename': 'api_plazos_compartidos.md', 'category': 'Table', 'start_index': 0}\n",
      "page_content='Login' metadata={'source': 'content/api_plazos_compartidos.md', 'category_depth': 3, 'last_modified': '2024-07-31T20:45:43', 'parent_id': '2cd8dffbf50d9b49802a13dc61ed2671', 'filetype': 'text/markdown', 'file_directory': 'content', 'filename': 'api_plazos_compartidos.md', 'category': 'Title', 'start_index': 0}\n",
      "page_content='http POST /api/login' metadata={'source': 'content/api_plazos_compartidos.md', 'category_depth': 0, 'last_modified': '2024-07-31T20:45:43', 'filetype': 'text/markdown', 'file_directory': 'content', 'filename': 'api_plazos_compartidos.md', 'category': 'Title', 'start_index': 0}\n",
      "page_content='Parameter Type Description email string Required . User's email address. password string Required . User's password.' metadata={'source': 'content/api_plazos_compartidos.md', 'text_as_html': '<table><tr><td>Parameter</td><td>Type</td><td>Description</td></tr><tr><td>email</td><td>string</td><td>Required . User&#x27;s email address.</td></tr><tr><td>password</td><td>string</td><td>Required . User&#x27;s password.</td></tr></table>', 'last_modified': '2024-07-31T20:45:43', 'parent_id': '0f7cb9dd211a1623d97f643cb541e00b', 'filetype': 'text/markdown', 'file_directory': 'content', 'filename': 'api_plazos_compartidos.md', 'category': 'Table', 'start_index': 0}\n",
      "page_content='Plazos' metadata={'source': 'content/api_plazos_compartidos.md', 'category_depth': 2, 'last_modified': '2024-07-31T20:45:43', 'parent_id': '0f7cb9dd211a1623d97f643cb541e00b', 'filetype': 'text/markdown', 'file_directory': 'content', 'filename': 'api_plazos_compartidos.md', 'category': 'Title', 'start_index': 0}\n",
      "page_content='Create Plazo' metadata={'source': 'content/api_plazos_compartidos.md', 'category_depth': 3, 'last_modified': '2024-07-31T20:45:43', 'parent_id': '1e07170b44c90261db112224ed22b6cc', 'filetype': 'text/markdown', 'file_directory': 'content', 'filename': 'api_plazos_compartidos.md', 'category': 'Title', 'start_index': 0}\n",
      "page_content='http POST /api/plazos' metadata={'source': 'content/api_plazos_compartidos.md', 'category_depth': 0, 'last_modified': '2024-07-31T20:45:43', 'filetype': 'text/markdown', 'file_directory': 'content', 'filename': 'api_plazos_compartidos.md', 'category': 'Title', 'start_index': 0}\n",
      "page_content='Parameter Type Description interes float Required . Daily interest rate percentage given. titulo string Required . Identifier. dia integer Required . The day of the month the term starts.' metadata={'source': 'content/api_plazos_compartidos.md', 'text_as_html': '<table><tr><td>Parameter</td><td>Type</td><td>Description</td></tr><tr><td>interes</td><td>float</td><td>Required . Daily interest rate percentage given.</td></tr><tr><td>titulo</td><td>string</td><td>Required . Identifier.</td></tr><tr><td>dia</td><td>integer</td><td>Required . The day of the month the term starts.</td></tr></table>', 'last_modified': '2024-07-31T20:45:43', 'parent_id': '112d3ab97ac17ea1d98f6aeb0b9bd291', 'filetype': 'text/markdown', 'file_directory': 'content', 'filename': 'api_plazos_compartidos.md', 'category': 'Table', 'start_index': 0}\n",
      "page_content='Modify Plazo' metadata={'source': 'content/api_plazos_compartidos.md', 'category_depth': 3, 'last_modified': '2024-07-31T20:45:43', 'parent_id': '112d3ab97ac17ea1d98f6aeb0b9bd291', 'filetype': 'text/markdown', 'file_directory': 'content', 'filename': 'api_plazos_compartidos.md', 'category': 'Title', 'start_index': 0}\n",
      "page_content='http PATCH /api/plazos/${plazo_id}' metadata={'source': 'content/api_plazos_compartidos.md', 'category_depth': 0, 'last_modified': '2024-07-31T20:45:43', 'filetype': 'text/markdown', 'file_directory': 'content', 'filename': 'api_plazos_compartidos.md', 'category': 'Title', 'start_index': 0}\n",
      "page_content='Parameter Type Description interes float Optional . Daily interest rate percentage given. titulo string Optional . Identifier. dia integer Optional . The day of the month the term starts.' metadata={'source': 'content/api_plazos_compartidos.md', 'text_as_html': '<table><tr><td>Parameter</td><td>Type</td><td>Description</td></tr><tr><td>interes</td><td>float</td><td>Optional . Daily interest rate percentage given.</td></tr><tr><td>titulo</td><td>string</td><td>Optional . Identifier.</td></tr><tr><td>dia</td><td>integer</td><td>Optional . The day of the month the term starts.</td></tr></table>', 'last_modified': '2024-07-31T20:45:43', 'parent_id': '604a9a36e97a95fc9fbb34150f8a8afa', 'filetype': 'text/markdown', 'file_directory': 'content', 'filename': 'api_plazos_compartidos.md', 'category': 'Table', 'start_index': 0}\n",
      "page_content='Get All Plazos' metadata={'source': 'content/api_plazos_compartidos.md', 'category_depth': 3, 'last_modified': '2024-07-31T20:45:43', 'parent_id': '604a9a36e97a95fc9fbb34150f8a8afa', 'filetype': 'text/markdown', 'file_directory': 'content', 'filename': 'api_plazos_compartidos.md', 'category': 'Title', 'start_index': 0}\n",
      "page_content='http GET /api/plazos' metadata={'source': 'content/api_plazos_compartidos.md', 'category_depth': 0, 'last_modified': '2024-07-31T20:45:43', 'filetype': 'text/markdown', 'file_directory': 'content', 'filename': 'api_plazos_compartidos.md', 'category': 'Title', 'start_index': 0}\n",
      "page_content='Get Plazo' metadata={'source': 'content/api_plazos_compartidos.md', 'category_depth': 3, 'last_modified': '2024-07-31T20:45:43', 'parent_id': '18bc62e4c50d8f3c50babca456bc9fa0', 'filetype': 'text/markdown', 'file_directory': 'content', 'filename': 'api_plazos_compartidos.md', 'category': 'Title', 'start_index': 0}\n",
      "page_content='http GET /api/plazos/${plazo_id}' metadata={'source': 'content/api_plazos_compartidos.md', 'category_depth': 0, 'last_modified': '2024-07-31T20:45:43', 'filetype': 'text/markdown', 'file_directory': 'content', 'filename': 'api_plazos_compartidos.md', 'category': 'Title', 'start_index': 0}\n",
      "page_content='Delete Plazo' metadata={'source': 'content/api_plazos_compartidos.md', 'category_depth': 3, 'last_modified': '2024-07-31T20:45:43', 'parent_id': '9c3b6aa4b210b11844caf065e2ce51ba', 'filetype': 'text/markdown', 'file_directory': 'content', 'filename': 'api_plazos_compartidos.md', 'category': 'Title', 'start_index': 0}\n",
      "page_content='http DELETE /api/plazos/${plazo_id}' metadata={'source': 'content/api_plazos_compartidos.md', 'category_depth': 0, 'last_modified': '2024-07-31T20:45:43', 'filetype': 'text/markdown', 'file_directory': 'content', 'filename': 'api_plazos_compartidos.md', 'category': 'Title', 'start_index': 0}\n",
      "page_content='Entidades' metadata={'source': 'content/api_plazos_compartidos.md', 'category_depth': 2, 'last_modified': '2024-07-31T20:45:43', 'parent_id': 'e3c32288fd06ddc1bb96c12fac985b4b', 'filetype': 'text/markdown', 'file_directory': 'content', 'filename': 'api_plazos_compartidos.md', 'category': 'Title', 'start_index': 0}\n",
      "page_content='Create Entidad' metadata={'source': 'content/api_plazos_compartidos.md', 'category_depth': 3, 'last_modified': '2024-07-31T20:45:43', 'parent_id': 'c20e856e7ddadf6d413a7e88faecce8e', 'filetype': 'text/markdown', 'file_directory': 'content', 'filename': 'api_plazos_compartidos.md', 'category': 'Title', 'start_index': 0}\n",
      "page_content='http POST /api/plazos/${plazo_id}/entidades' metadata={'source': 'content/api_plazos_compartidos.md', 'category_depth': 0, 'last_modified': '2024-07-31T20:45:43', 'filetype': 'text/markdown', 'file_directory': 'content', 'filename': 'api_plazos_compartidos.md', 'category': 'Title', 'start_index': 0}\n",
      "page_content='Parameter Type Description nombre string Required . Name of the entity or participant.' metadata={'source': 'content/api_plazos_compartidos.md', 'text_as_html': '<table><tr><td>Parameter</td><td>Type</td><td>Description</td></tr><tr><td>nombre</td><td>string</td><td>Required . Name of the entity or participant.</td></tr></table>', 'last_modified': '2024-07-31T20:45:43', 'parent_id': '9d83f9ca805f548078ac28448b61e7b9', 'filetype': 'text/markdown', 'file_directory': 'content', 'filename': 'api_plazos_compartidos.md', 'category': 'Table', 'start_index': 0}\n",
      "page_content='Modify Entidad' metadata={'source': 'content/api_plazos_compartidos.md', 'category_depth': 3, 'last_modified': '2024-07-31T20:45:43', 'parent_id': '9d83f9ca805f548078ac28448b61e7b9', 'filetype': 'text/markdown', 'file_directory': 'content', 'filename': 'api_plazos_compartidos.md', 'category': 'Title', 'start_index': 0}\n",
      "page_content='http PATCH /api/plazos/${plazo_id}/entidades/${entidad_id}' metadata={'source': 'content/api_plazos_compartidos.md', 'category_depth': 0, 'last_modified': '2024-07-31T20:45:43', 'filetype': 'text/markdown', 'file_directory': 'content', 'filename': 'api_plazos_compartidos.md', 'category': 'Title', 'start_index': 0}\n",
      "page_content='Parameter Type Description nombre string Required . Name of the entity or participant.' metadata={'source': 'content/api_plazos_compartidos.md', 'text_as_html': '<table><tr><td>Parameter</td><td>Type</td><td>Description</td></tr><tr><td>nombre</td><td>string</td><td>Required . Name of the entity or participant.</td></tr></table>', 'last_modified': '2024-07-31T20:45:43', 'parent_id': '914b10a84578eafc21935758077e9d33', 'filetype': 'text/markdown', 'file_directory': 'content', 'filename': 'api_plazos_compartidos.md', 'category': 'Table', 'start_index': 0}\n",
      "page_content='Get All Entidades' metadata={'source': 'content/api_plazos_compartidos.md', 'category_depth': 3, 'last_modified': '2024-07-31T20:45:43', 'parent_id': '914b10a84578eafc21935758077e9d33', 'filetype': 'text/markdown', 'file_directory': 'content', 'filename': 'api_plazos_compartidos.md', 'category': 'Title', 'start_index': 0}\n",
      "page_content='http GET /api/plazos/${plazo_id}/entidades' metadata={'source': 'content/api_plazos_compartidos.md', 'category_depth': 0, 'last_modified': '2024-07-31T20:45:43', 'filetype': 'text/markdown', 'file_directory': 'content', 'filename': 'api_plazos_compartidos.md', 'category': 'Title', 'start_index': 0}\n",
      "page_content='Get Entidad' metadata={'source': 'content/api_plazos_compartidos.md', 'category_depth': 3, 'last_modified': '2024-07-31T20:45:43', 'parent_id': 'e23c6f6a3f28ad95b999138571497aac', 'filetype': 'text/markdown', 'file_directory': 'content', 'filename': 'api_plazos_compartidos.md', 'category': 'Title', 'start_index': 0}\n",
      "page_content='http GET /api/plazos/${plazo_id}/entidades/${entidad_id}' metadata={'source': 'content/api_plazos_compartidos.md', 'category_depth': 0, 'last_modified': '2024-07-31T20:45:43', 'filetype': 'text/markdown', 'file_directory': 'content', 'filename': 'api_plazos_compartidos.md', 'category': 'Title', 'start_index': 0}\n",
      "page_content='Delete Entidad' metadata={'source': 'content/api_plazos_compartidos.md', 'category_depth': 3, 'last_modified': '2024-07-31T20:45:43', 'parent_id': '4af67ee8a48d1e2aff5094b5bf111e6c', 'filetype': 'text/markdown', 'file_directory': 'content', 'filename': 'api_plazos_compartidos.md', 'category': 'Title', 'start_index': 0}\n",
      "page_content='http DELETE /api/plazos/${plazo_id}/entidades/${entidad_id}' metadata={'source': 'content/api_plazos_compartidos.md', 'category_depth': 0, 'last_modified': '2024-07-31T20:45:43', 'filetype': 'text/markdown', 'file_directory': 'content', 'filename': 'api_plazos_compartidos.md', 'category': 'Title', 'start_index': 0}\n",
      "page_content='Transactions' metadata={'source': 'content/api_plazos_compartidos.md', 'category_depth': 2, 'last_modified': '2024-07-31T20:45:43', 'parent_id': '633c455ba0ce23f227d64653ed20ba0d', 'filetype': 'text/markdown', 'file_directory': 'content', 'filename': 'api_plazos_compartidos.md', 'category': 'Title', 'start_index': 0}\n",
      "page_content='Create Transactions' metadata={'source': 'content/api_plazos_compartidos.md', 'category_depth': 3, 'last_modified': '2024-07-31T20:45:43', 'parent_id': 'a06de848c1e43f853198bbc62d0c6e07', 'filetype': 'text/markdown', 'file_directory': 'content', 'filename': 'api_plazos_compartidos.md', 'category': 'Title', 'start_index': 0}\n",
      "page_content='http POST /api/plazos/${plazo_id}/operaciones | Parameter | Type | Description | | :-------- | :------- | :------------------------------------------------------------------------------------------------------- | | fecha | date | Required. Date of the transaction. Cannot be earlier than an existing transaction date or in the future. | | monto | float | Required. Amount of the transaction. | | tipo | string | Required. Type of the transaction: either \"Deposito\" or \"Retiro\". |' metadata={'source': 'content/api_plazos_compartidos.md', 'last_modified': '2024-07-31T20:45:43', 'parent_id': 'b84d4a701dec48c56116f900355b8b64', 'filetype': 'text/markdown', 'file_directory': 'content', 'filename': 'api_plazos_compartidos.md', 'category': 'NarrativeText', 'start_index': 0}\n",
      "page_content='Get All Transactions' metadata={'source': 'content/api_plazos_compartidos.md', 'category_depth': 3, 'last_modified': '2024-07-31T20:45:43', 'parent_id': 'a06de848c1e43f853198bbc62d0c6e07', 'filetype': 'text/markdown', 'file_directory': 'content', 'filename': 'api_plazos_compartidos.md', 'category': 'Title', 'start_index': 0}\n",
      "page_content='http GET /api/plazos/${plazo_id}/operaciones' metadata={'source': 'content/api_plazos_compartidos.md', 'category_depth': 0, 'last_modified': '2024-07-31T20:45:43', 'filetype': 'text/markdown', 'file_directory': 'content', 'filename': 'api_plazos_compartidos.md', 'category': 'Title', 'start_index': 0}\n",
      "page_content='Get Entity's Transactions' metadata={'source': 'content/api_plazos_compartidos.md', 'category_depth': 3, 'last_modified': '2024-07-31T20:45:43', 'parent_id': '72cb5e063db85def93d3e5a17e7ed97a', 'filetype': 'text/markdown', 'file_directory': 'content', 'filename': 'api_plazos_compartidos.md', 'category': 'Title', 'start_index': 0}\n",
      "page_content='http GET /api/plazos/${plazo_id}/operaciones/${entidad_id}' metadata={'source': 'content/api_plazos_compartidos.md', 'category_depth': 0, 'last_modified': '2024-07-31T20:45:43', 'filetype': 'text/markdown', 'file_directory': 'content', 'filename': 'api_plazos_compartidos.md', 'category': 'Title', 'start_index': 0}\n",
      "page_content='Technologies used:' metadata={'source': 'content/api_plazos_compartidos.md', 'category_depth': 1, 'last_modified': '2024-07-31T20:45:43', 'parent_id': '1d4cc146380fd810a7d3452d11ce9219', 'filetype': 'text/markdown', 'file_directory': 'content', 'filename': 'api_plazos_compartidos.md', 'category': 'Title', 'start_index': 0}\n",
      "page_content='Django REST Framework: Used for the entire backend, including the application logic and the API.' metadata={'source': 'content/api_plazos_compartidos.md', 'category_depth': 1, 'last_modified': '2024-07-31T20:45:43', 'parent_id': '8eb365e7c670348fd6e35d388af3640d', 'filetype': 'text/markdown', 'file_directory': 'content', 'filename': 'api_plazos_compartidos.md', 'category': 'ListItem', 'start_index': 0}\n",
      "page_content='MySQL: Relational database management system used for storing and managing data.' metadata={'source': 'content/api_plazos_compartidos.md', 'category_depth': 1, 'last_modified': '2024-07-31T20:45:43', 'parent_id': '8eb365e7c670348fd6e35d388af3640d', 'filetype': 'text/markdown', 'file_directory': 'content', 'filename': 'api_plazos_compartidos.md', 'category': 'ListItem', 'start_index': 0}\n",
      "page_content='Docker: Used for deployment, ensuring the application runs consistently across different environments.' metadata={'source': 'content/api_plazos_compartidos.md', 'category_depth': 1, 'last_modified': '2024-07-31T20:45:43', 'parent_id': '8eb365e7c670348fd6e35d388af3640d', 'filetype': 'text/markdown', 'file_directory': 'content', 'filename': 'api_plazos_compartidos.md', 'category': 'ListItem', 'start_index': 0}\n",
      "page_content='GitHub Actions: Automation platform used to automatically deploy the application on an Ubuntu server in a Docker container and upload the Dockerfile.' metadata={'source': 'content/api_plazos_compartidos.md', 'category_depth': 1, 'last_modified': '2024-07-31T20:45:43', 'parent_id': '8eb365e7c670348fd6e35d388af3640d', 'filetype': 'text/markdown', 'file_directory': 'content', 'filename': 'api_plazos_compartidos.md', 'category': 'ListItem', 'start_index': 0}\n",
      "page_content='Supercronic: Used to schedule daily interest calculations at midnight.' metadata={'source': 'content/api_plazos_compartidos.md', 'category_depth': 1, 'last_modified': '2024-07-31T20:45:43', 'parent_id': '8eb365e7c670348fd6e35d388af3640d', 'filetype': 'text/markdown', 'file_directory': 'content', 'filename': 'api_plazos_compartidos.md', 'category': 'ListItem', 'start_index': 0}\n",
      "page_content='Demo' metadata={'source': 'content/api_plazos_compartidos.md', 'category_depth': 1, 'last_modified': '2024-07-31T20:45:43', 'parent_id': '1d4cc146380fd810a7d3452d11ce9219', 'filetype': 'text/markdown', 'file_directory': 'content', 'filename': 'api_plazos_compartidos.md', 'category': 'Title', 'start_index': 0}\n",
      "page_content='API URL: https://server-martin.duckdns.org:8888' metadata={'source': 'content/api_plazos_compartidos.md', 'category_depth': 0, 'last_modified': '2024-07-31T20:45:43', 'filetype': 'text/markdown', 'file_directory': 'content', 'filename': 'api_plazos_compartidos.md', 'category': 'Title', 'start_index': 0}\n",
      "page_content='Working App with a Visual Interface: Live Preview' metadata={'source': 'content/api_plazos_compartidos.md', 'category_depth': 0, 'last_modified': '2024-07-31T20:45:43', 'filetype': 'text/markdown', 'file_directory': 'content', 'filename': 'api_plazos_compartidos.md', 'category': 'Title', 'start_index': 0}\n",
      "page_content='Repository of the FrontEnd: Repository' metadata={'source': 'content/api_plazos_compartidos.md', 'category_depth': 0, 'last_modified': '2024-07-31T20:45:43', 'filetype': 'text/markdown', 'file_directory': 'content', 'filename': 'api_plazos_compartidos.md', 'category': 'Title', 'start_index': 0}\n",
      "page_content='🔗 Links' metadata={'source': 'content/api_plazos_compartidos.md', 'category_depth': 1, 'last_modified': '2024-07-31T20:45:43', 'parent_id': '52f1f54b7a4f564570513b8664f0699a', 'filetype': 'text/markdown', 'file_directory': 'content', 'filename': 'api_plazos_compartidos.md', 'category': 'Title', 'start_index': 0}\n"
     ]
    }
   ],
   "source": [
    "for doc in all_splits:\n",
    "    print(doc)"
   ]
  },
  {
   "cell_type": "markdown",
   "metadata": {},
   "source": [
    "### Store"
   ]
  },
  {
   "cell_type": "code",
   "execution_count": 66,
   "metadata": {},
   "outputs": [],
   "source": [
    "vectorstore = Chroma.from_documents(\n",
    "    all_splits,\n",
    "    embedding=HuggingFaceEmbeddings(),\n",
    ")"
   ]
  },
  {
   "cell_type": "markdown",
   "metadata": {},
   "source": [
    "## RAG"
   ]
  },
  {
   "cell_type": "markdown",
   "metadata": {},
   "source": [
    "### Retrieve"
   ]
  },
  {
   "cell_type": "code",
   "execution_count": 67,
   "metadata": {},
   "outputs": [
    {
     "name": "stdout",
     "output_type": "stream",
     "text": [
      "6\n",
      "3. Create Entities within a Term\n",
      "3. Create Entities within a Term\n",
      "3. Create Entities within a Term\n",
      "Create Entidad\n",
      "Create Entidad\n",
      "Create Entidad\n"
     ]
    }
   ],
   "source": [
    "retriever = vectorstore.as_retriever(search_type=\"similarity\", search_kwargs={\"k\": 6})\n",
    "\n",
    "retrieved_docs = retriever.invoke(\"How do I Create An Entity\")\n",
    "\n",
    "print(len(retrieved_docs))\n",
    "for doc in retrieved_docs:\n",
    "    print(doc.page_content)"
   ]
  },
  {
   "cell_type": "code",
   "execution_count": 6,
   "metadata": {},
   "outputs": [],
   "source": [
    "message_template = \"\"\"\n",
    "Answer questions using the provided context only.\n",
    "\n",
    "{question}\n",
    "\n",
    "Context:\n",
    "{context}\n",
    "\"\"\"\n",
    "prompt = ChatPromptTemplate.from_messages([(\"human\", message_template)])"
   ]
  },
  {
   "cell_type": "code",
   "execution_count": 39,
   "metadata": {},
   "outputs": [],
   "source": [
    "historial = []\n",
    "\n",
    "def handle_message(message):\n",
    "    chain = {\"context\": retriever, \"question\": RunnablePassthrough()} | prompt\n",
    "    chained = chain.invoke(message)\n",
    "    historial.append(chained.to_messages()[0])\n",
    "    response = llama.invoke(historial)\n",
    "    historial.append(response)\n",
    "    return response.content"
   ]
  },
  {
   "cell_type": "code",
   "execution_count": 41,
   "metadata": {},
   "outputs": [
    {
     "name": "stdout",
     "output_type": "stream",
     "text": [
      "[HumanMessage(content=\"\\nAnswer questions using the provided context only.\\n\\nhola\\n\\nContext:\\n[Document(metadata={'row': 286, 'source': 'content/cofee.csv'}, page_content='date: 2024-04-14\\\\ndatetime: 2024-04-14 12:29:06.877\\\\ncash_type: cash\\\\ncard: \\\\nmoney: 30.0\\\\ncoffee_name: Cortado'), Document(metadata={'row': 285, 'source': 'content/cofee.csv'}, page_content='date: 2024-04-14\\\\ndatetime: 2024-04-14 12:27:08.951\\\\ncash_type: cash\\\\ncard: \\\\nmoney: 30.0\\\\ncoffee_name: Cortado'), Document(metadata={'row': 83, 'source': 'content/cofee.csv'}, page_content='date: 2024-03-11\\\\ndatetime: 2024-03-11 11:24:51.565\\\\ncash_type: cash\\\\ncard: \\\\nmoney: 30.0\\\\ncoffee_name: Cortado'), Document(metadata={'row': 138, 'source': 'content/cofee.csv'}, page_content='date: 2024-03-20\\\\ndatetime: 2024-03-20 11:41:16.403\\\\ncash_type: card\\\\ncard: ANON-0000-0000-0012\\\\nmoney: 28.9\\\\ncoffee_name: Cortado'), Document(metadata={'row': 220, 'source': 'content/cofee.csv'}, page_content='date: 2024-04-03\\\\ndatetime: 2024-04-03 15:36:11.735\\\\ncash_type: cash\\\\ncard: \\\\nmoney: 30.0\\\\ncoffee_name: Cortado')]\\n\"), AIMessage(content=\"I'm ready to answer questions based on the provided context. Go ahead and ask away!\", response_metadata={'token_usage': ChatCompletionOutputUsage(completion_tokens=19, prompt_tokens=399, total_tokens=418), 'model': '', 'finish_reason': 'eos_token'}, id='run-34d9ba24-dde3-4ea2-9ec3-3ac20bb4f4cb-0'), HumanMessage(content=\"\\nAnswer questions using the provided context only.\\n\\nim martin\\n\\nContext:\\n[Document(metadata={'row': 175, 'source': 'content/cofee.csv'}, page_content='date: 2024-03-26\\\\ndatetime: 2024-03-26 11:11:47.335\\\\ncash_type: card\\\\ncard: ANON-0000-0000-0009\\\\nmoney: 28.9\\\\ncoffee_name: Cortado'), Document(metadata={'row': 274, 'source': 'content/cofee.csv'}, page_content='date: 2024-04-12\\\\ndatetime: 2024-04-12 19:38:23.189\\\\ncash_type: card\\\\ncard: ANON-0000-0000-0009\\\\nmoney: 28.9\\\\ncoffee_name: Cortado'), Document(metadata={'row': 127, 'source': 'content/cofee.csv'}, page_content='date: 2024-03-17\\\\ndatetime: 2024-03-17 12:55:26.065\\\\ncash_type: card\\\\ncard: ANON-0000-0000-0063\\\\nmoney: 28.9\\\\ncoffee_name: Cortado'), Document(metadata={'row': 52, 'source': 'content/cofee.csv'}, page_content='date: 2024-03-08\\\\ndatetime: 2024-03-08 10:34:41.283\\\\ncash_type: card\\\\ncard: ANON-0000-0000-0012\\\\nmoney: 28.9\\\\ncoffee_name: Cortado'), Document(metadata={'row': 138, 'source': 'content/cofee.csv'}, page_content='date: 2024-03-20\\\\ndatetime: 2024-03-20 11:41:16.403\\\\ncash_type: card\\\\ncard: ANON-0000-0000-0012\\\\nmoney: 28.9\\\\ncoffee_name: Cortado')]\\n\"), AIMessage(content=\"I'm ready to answer questions based on the provided context. Go ahead and ask away!\", response_metadata={'token_usage': ChatCompletionOutputUsage(completion_tokens=19, prompt_tokens=856, total_tokens=875), 'model': '', 'finish_reason': 'eos_token'}, id='run-f1653b4b-77e2-4a44-b1b1-956d6bec0cbb-0'), HumanMessage(content=\"\\nAnswer questions using the provided context only.\\n\\ncuantos cafees se vendieron en total\\n\\nContext:\\n[Document(metadata={'row': 739, 'source': 'content/cofee.csv'}, page_content='date: 2024-06-09\\\\ndatetime: 2024-06-09 11:04:41.306\\\\ncash_type: card\\\\ncard: ANON-0000-0000-0141\\\\nmoney: 27.92\\\\ncoffee_name: Cortado'), Document(metadata={'row': 876, 'source': 'content/cofee.csv'}, page_content='date: 2024-06-27\\\\ndatetime: 2024-06-27 16:11:48.000\\\\ncash_type: card\\\\ncard: ANON-0000-0000-0327\\\\nmoney: 27.92\\\\ncoffee_name: Cortado'), Document(metadata={'row': 779, 'source': 'content/cofee.csv'}, page_content='date: 2024-06-14\\\\ndatetime: 2024-06-14 07:46:13.238\\\\ncash_type: card\\\\ncard: ANON-0000-0000-0141\\\\nmoney: 27.92\\\\ncoffee_name: Cortado'), Document(metadata={'row': 486, 'source': 'content/cofee.csv'}, page_content='date: 2024-05-15\\\\ndatetime: 2024-05-15 14:39:44.367\\\\ncash_type: card\\\\ncard: ANON-0000-0000-0012\\\\nmoney: 27.92\\\\ncoffee_name: Cortado'), Document(metadata={'row': 586, 'source': 'content/cofee.csv'}, page_content='date: 2024-05-24\\\\ndatetime: 2024-05-24 18:18:36.698\\\\ncash_type: card\\\\ncard: ANON-0000-0000-0209\\\\nmoney: 27.92\\\\ncoffee_name: Cortado')]\\n\"), AIMessage(content=\"I don't see any records in the provided context.\", response_metadata={'token_usage': ChatCompletionOutputUsage(completion_tokens=12, prompt_tokens=1321, total_tokens=1333), 'model': '', 'finish_reason': 'eos_token'}, id='run-358565ed-9889-4605-9fd7-097ca7fdb1f1-0'), HumanMessage(content=\"\\nAnswer questions using the provided context only.\\n\\nwich is the cofee in row 1\\n\\nContext:\\n[Document(metadata={'row': 39, 'source': 'content/cofee.csv'}, page_content='date: 2024-03-05\\\\ndatetime: 2024-03-05 17:56:15.776\\\\ncash_type: card\\\\ncard: ANON-0000-0000-0028\\\\nmoney: 28.9\\\\ncoffee_name: Cortado'), Document(metadata={'row': 486, 'source': 'content/cofee.csv'}, page_content='date: 2024-05-15\\\\ndatetime: 2024-05-15 14:39:44.367\\\\ncash_type: card\\\\ncard: ANON-0000-0000-0012\\\\nmoney: 27.92\\\\ncoffee_name: Cortado'), Document(metadata={'row': 485, 'source': 'content/cofee.csv'}, page_content='date: 2024-05-15\\\\ndatetime: 2024-05-15 14:38:52.347\\\\ncash_type: card\\\\ncard: ANON-0000-0000-0169\\\\nmoney: 27.92\\\\ncoffee_name: Cortado'), Document(metadata={'row': 423, 'source': 'content/cofee.csv'}, page_content='date: 2024-05-07\\\\ndatetime: 2024-05-07 11:21:58.493\\\\ncash_type: card\\\\ncard: ANON-0000-0000-0141\\\\nmoney: 27.92\\\\ncoffee_name: Cortado'), Document(metadata={'row': 779, 'source': 'content/cofee.csv'}, page_content='date: 2024-06-14\\\\ndatetime: 2024-06-14 07:46:13.238\\\\ncash_type: card\\\\ncard: ANON-0000-0000-0141\\\\nmoney: 27.92\\\\ncoffee_name: Cortado')]\\n\")]\n",
      "Bot: The coffee in row 1 is Cortado.\n"
     ]
    }
   ],
   "source": [
    "while True:\n",
    "    message = input(\"You: \")\n",
    "    if message == \"exit\":\n",
    "        break\n",
    "\n",
    "    response = handle_message(message)\n",
    "    print(\"Bot:\", response)"
   ]
  }
 ],
 "metadata": {
  "kernelspec": {
   "display_name": ".venv",
   "language": "python",
   "name": "python3"
  },
  "language_info": {
   "codemirror_mode": {
    "name": "ipython",
    "version": 3
   },
   "file_extension": ".py",
   "mimetype": "text/x-python",
   "name": "python",
   "nbconvert_exporter": "python",
   "pygments_lexer": "ipython3",
   "version": "3.10.11"
  }
 },
 "nbformat": 4,
 "nbformat_minor": 2
}
