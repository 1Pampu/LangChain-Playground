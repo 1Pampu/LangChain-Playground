{
 "cells": [
  {
   "cell_type": "code",
   "execution_count": 1,
   "metadata": {},
   "outputs": [
    {
     "name": "stdout",
     "output_type": "stream",
     "text": [
      "Note: you may need to restart the kernel to use updated packages.\n"
     ]
    },
    {
     "name": "stderr",
     "output_type": "stream",
     "text": [
      "\n",
      "[notice] A new release of pip is available: 24.1.2 -> 24.2\n",
      "[notice] To update, run: python.exe -m pip install --upgrade pip\n"
     ]
    }
   ],
   "source": [
    "pip install -qU langchain-text-splitters"
   ]
  },
  {
   "cell_type": "code",
   "execution_count": 1,
   "metadata": {},
   "outputs": [],
   "source": [
    "from langchain_chroma import Chroma\n",
    "from langchain_text_splitters import MarkdownHeaderTextSplitter\n",
    "from langchain_huggingface import HuggingFaceEmbeddings"
   ]
  },
  {
   "cell_type": "code",
   "execution_count": 2,
   "metadata": {},
   "outputs": [],
   "source": [
    "# Definir la ruta del archivo\n",
    "file_path = 'content/api_plazos_compartidos.md'\n",
    "\n",
    "# Abrir y leer el archivo\n",
    "with open(file_path, 'r', encoding='utf-8') as file:\n",
    "    content = file.read()"
   ]
  },
  {
   "cell_type": "code",
   "execution_count": 3,
   "metadata": {},
   "outputs": [
    {
     "name": "stdout",
     "output_type": "stream",
     "text": [
      "27\n"
     ]
    },
    {
     "data": {
      "text/plain": [
       "[Document(metadata={'Header 1': 'Fixed-Term Shared Deposits', 'Header 2': 'Description'}, page_content='Fixed-Term Shared Deposits is a comprehensive backend system designed to manage fixed-term deposit accounts. It provides a robust API for creating, updating, and retrieving deposit information, calculating daily interest rates, and handling user authentication and authorization.  \\nThe system is built using Django REST Framework for the backend logic and API, MySQL for database management, Docker for deployment, and GitHub Actions for continuous integration and deployment. Daily interest calculations are automated using Supercronic, ensuring accurate and timely updates to deposit accounts.'),\n",
       " Document(metadata={'Header 1': 'Fixed-Term Shared Deposits', 'Header 2': 'Usage', 'Header 3': '1. Log In / Register'}, page_content='To start using the application, you first need an account. You can register by providing basic information such as your name, email address, and a secure password. If you already have an account, simply log in with your credentials.'),\n",
       " Document(metadata={'Header 1': 'Fixed-Term Shared Deposits', 'Header 2': 'Usage', 'Header 3': '2. Create a Term'}, page_content='Once you have logged in, you can create a fixed-term deposit. To do this, navigate to the \"Terms\" section and select \"Create New Term.\" You will need to enter information such as the term name, daily interest rate, initial amount, and start date. Save this information to proceed to the next step.'),\n",
       " Document(metadata={'Header 1': 'Fixed-Term Shared Deposits', 'Header 2': 'Usage', 'Header 3': '3. Create Entities within a Term'}, page_content='With the term created, you can add financial entities where you will make deposits. Go to the specific term section and select \"Add Entity.\" Here, you need to provide the entity name and any other relevant information. You can add as many entities as needed within a term.'),\n",
       " Document(metadata={'Header 1': 'Fixed-Term Shared Deposits', 'Header 2': 'Usage', 'Header 3': '4. Make Deposits and Withdrawals in Entities'}, page_content='Finally, you can start making deposits and withdrawals in the entities you have created within each term. Select the desired entity and choose the \"Make Deposit\" or \"Make Withdrawal\" option. Enter the amount and the date of the transaction. This step will automatically update the term status and calculate the corresponding interest based on the established rate.'),\n",
       " Document(metadata={'Header 1': 'Fixed-Term Shared Deposits', 'Header 2': 'Usage', 'Header 3': '5. Automatic Interest Calculation'}, page_content=\"Every day at 00:00 (Argentina time), the application will automatically calculate and add the corresponding interest to each entity within a term. This process ensures that the entities' balances are updated daily according to the established interest rate.\"),\n",
       " Document(metadata={'Header 1': 'Fixed-Term Shared Deposits', 'Header 2': 'Usage', 'Header 3': '6. Retroactive Transactions'}, page_content='If you make a deposit or withdrawal with a date earlier than the current date, the application will automatically recalculate the accumulated interest up to the present date. For example, if you register a deposit made on 3/23 and a withdrawal on 3/26, and today is 4/1, the application will automatically calculate all the interest from those dates to today. This ensures that interest calculations are accurate and up-to-date, regardless of when transactions are registered.'),\n",
       " Document(metadata={'Header 1': 'Fixed-Term Shared Deposits', 'Header 2': 'Usage', 'Header 3': '7. Limitations'}, page_content='- **Impossibility to Delete Transactions:** Registered transactions (deposits or withdrawals) cannot be deleted once saved.\\n- **Restrictions on Transaction Dates:** You cannot make a deposit or withdrawal with a date earlier than an already registered transaction for that entity. For example, if you made a deposit on 3/24, you cannot register a transaction with a date before that.'),\n",
       " Document(metadata={'Header 1': 'Fixed-Term Shared Deposits', 'Header 2': 'API Reference', 'Header 3': 'Authentication', 'Header 4': 'Usage'}, page_content='To access the API, you need to include a header with the name \"Authorization\" in each request with a Bearer token.  \\n| Header       | Type     | Description                |\\n| :----------- | :------- | :------------------------- |\\n| `Authorization` | `string` | **Required**. Bearer token for authentication. |'),\n",
       " Document(metadata={'Header 1': 'Fixed-Term Shared Deposits', 'Header 2': 'API Reference', 'Header 3': 'Authentication', 'Header 4': 'Register'}, page_content=\"```http\\nPOST /api/register\\n```  \\n| Parameter   | Type     | Description                |\\n| :--------   | :------- | :------------------------- |\\n| `username`  | `string` | **Required**.  User's username. |\\n| `email`     | `string` | **Required**. User's email address. |\\n| `password`  | `string` | **Required**. User's password.  |\\n| `password2` | `string` | **Required**. Confirmation of password. |\"),\n",
       " Document(metadata={'Header 1': 'Fixed-Term Shared Deposits', 'Header 2': 'API Reference', 'Header 3': 'Authentication', 'Header 4': 'Login'}, page_content=\"```http\\nPOST /api/login\\n```  \\n| Parameter | Type     | Description                         |\\n| :-------- | :------- | :-------------------------          |\\n| `email`   | `string` | **Required**. User's email address. |\\n| `password`| `string` | **Required**. User's password.      |\"),\n",
       " Document(metadata={'Header 1': 'Fixed-Term Shared Deposits', 'Header 2': 'API Reference', 'Header 3': 'Plazos', 'Header 4': 'Create Plazo'}, page_content='```http\\nPOST /api/plazos\\n```  \\n| Parameter  | Type     | Description                                             |\\n| :--------- | :------- | :------------------------------------------------------ |\\n| `interes`  | `float`  | **Required**. Daily interest rate percentage given.     |\\n| `titulo`   | `string` | **Required**. Identifier.                               |\\n| `dia`      | `integer`| **Required**. The day of the month the term starts.     |'),\n",
       " Document(metadata={'Header 1': 'Fixed-Term Shared Deposits', 'Header 2': 'API Reference', 'Header 3': 'Plazos', 'Header 4': 'Modify Plazo'}, page_content='```http\\nPATCH /api/plazos/${plazo_id}\\n```  \\n| Parameter  | Type     | Description                                             |\\n| :--------- | :------- | :------------------------------------------------------ |\\n| `interes`  | `float`  | **Optional**. Daily interest rate percentage given.     |\\n| `titulo`   | `string` | **Optional**. Identifier.                               |\\n| `dia`      | `integer`| **Optional**. The day of the month the term starts.     |'),\n",
       " Document(metadata={'Header 1': 'Fixed-Term Shared Deposits', 'Header 2': 'API Reference', 'Header 3': 'Plazos', 'Header 4': 'Get All Plazos'}, page_content='```http\\nGET /api/plazos\\n```'),\n",
       " Document(metadata={'Header 1': 'Fixed-Term Shared Deposits', 'Header 2': 'API Reference', 'Header 3': 'Plazos', 'Header 4': 'Get Plazo'}, page_content='```http\\nGET /api/plazos/${plazo_id}\\n```'),\n",
       " Document(metadata={'Header 1': 'Fixed-Term Shared Deposits', 'Header 2': 'API Reference', 'Header 3': 'Plazos', 'Header 4': 'Delete Plazo'}, page_content='```http\\nDELETE /api/plazos/${plazo_id}\\n```'),\n",
       " Document(metadata={'Header 1': 'Fixed-Term Shared Deposits', 'Header 2': 'API Reference', 'Header 3': 'Entidades', 'Header 4': 'Create Entidad'}, page_content='```http\\nPOST /api/plazos/${plazo_id}/entidades\\n```  \\n| Parameter  | Type     | Description                                             |\\n| :--------- | :------- | :------------------------------------------------------ |\\n| `nombre`   | `string` | **Required**. Name of the entity or participant.        |'),\n",
       " Document(metadata={'Header 1': 'Fixed-Term Shared Deposits', 'Header 2': 'API Reference', 'Header 3': 'Entidades', 'Header 4': 'Modify Entidad'}, page_content='```http\\nPATCH /api/plazos/${plazo_id}/entidades/${entidad_id}\\n```  \\n| Parameter  | Type     | Description                                             |\\n| :--------- | :------- | :------------------------------------------------------ |\\n| `nombre`   | `string` | **Required**. Name of the entity or participant.        |'),\n",
       " Document(metadata={'Header 1': 'Fixed-Term Shared Deposits', 'Header 2': 'API Reference', 'Header 3': 'Entidades', 'Header 4': 'Get All Entidades'}, page_content='```http\\nGET /api/plazos/${plazo_id}/entidades\\n```'),\n",
       " Document(metadata={'Header 1': 'Fixed-Term Shared Deposits', 'Header 2': 'API Reference', 'Header 3': 'Entidades', 'Header 4': 'Get Entidad'}, page_content='```http\\nGET /api/plazos/${plazo_id}/entidades/${entidad_id}\\n```'),\n",
       " Document(metadata={'Header 1': 'Fixed-Term Shared Deposits', 'Header 2': 'API Reference', 'Header 3': 'Entidades', 'Header 4': 'Delete Entidad'}, page_content='```http\\nDELETE /api/plazos/${plazo_id}/entidades/${entidad_id}\\n```'),\n",
       " Document(metadata={'Header 1': 'Fixed-Term Shared Deposits', 'Header 2': 'API Reference', 'Header 3': 'Transactions', 'Header 4': 'Create Transactions'}, page_content='```http\\nPOST /api/plazos/${plazo_id}/operaciones\\n```\\n| Parameter | Type     | Description                                                                                              |\\n| :-------- | :------- | :------------------------------------------------------------------------------------------------------- |\\n| `fecha`   | `date`   | **Required**. Date of the transaction. Cannot be earlier than an existing transaction date or in the future. |\\n| `monto`   | `float`  | **Required**. Amount of the transaction.                                                                 |\\n| `tipo`    | `string` | **Required**. Type of the transaction: either \"Deposito\" or \"Retiro\".                                    |'),\n",
       " Document(metadata={'Header 1': 'Fixed-Term Shared Deposits', 'Header 2': 'API Reference', 'Header 3': 'Transactions', 'Header 4': 'Get All Transactions'}, page_content='```http\\nGET /api/plazos/${plazo_id}/operaciones\\n```'),\n",
       " Document(metadata={'Header 1': 'Fixed-Term Shared Deposits', 'Header 2': 'API Reference', 'Header 3': 'Transactions', 'Header 4': \"Get Entity's Transactions\"}, page_content='```http\\nGET /api/plazos/${plazo_id}/operaciones/${entidad_id}\\n```'),\n",
       " Document(metadata={'Header 1': 'Fixed-Term Shared Deposits', 'Header 2': 'Technologies used:'}, page_content='* **Django REST Framework**: Used for the entire backend, including the application logic and the API.\\n* **MySQL**: Relational database management system used for storing and managing data.\\n* **Docker**: Used for deployment, ensuring the application runs consistently across different environments.\\n* **GitHub Actions**: Automation platform used to automatically deploy the application on an Ubuntu server in a Docker container and upload the Dockerfile.\\n* **Supercronic**: Used to schedule daily interest calculations at midnight.'),\n",
       " Document(metadata={'Header 1': 'Fixed-Term Shared Deposits', 'Header 2': 'Demo'}, page_content='API URL: https://server-martin.duckdns.org:8888  \\nWorking App with a Visual Interface: [Live Preview](https://1pampu.github.io/plazos-compartidos-frontend/index.html)  \\nRepository of the FrontEnd: [Repository](https://github.com/1Pampu/plazos-compartidos-frontend)'),\n",
       " Document(metadata={'Header 1': 'Fixed-Term Shared Deposits', 'Header 2': '🔗 Links'}, page_content='[![portfolio](https://img.shields.io/badge/my_portfolio-000?style=for-the-badge&logo=ko-fi&logoColor=white)](https://1pampu.github.io/my-portfolio/)\\n[![linkedin](https://img.shields.io/badge/linkedin-0A66C2?style=for-the-badge&logo=linkedin&logoColor=white)](https://www.linkedin.com/in/martin-piampiani/)')]"
      ]
     },
     "execution_count": 3,
     "metadata": {},
     "output_type": "execute_result"
    }
   ],
   "source": [
    "headers_to_split_on = [\n",
    "    (\"#\", \"Header 1\"),\n",
    "    (\"##\", \"Header 2\"),\n",
    "    (\"###\", \"Header 3\"),\n",
    "    (\"####\", \"Header 4\")\n",
    "]\n",
    "\n",
    "markdown_splitter = MarkdownHeaderTextSplitter(headers_to_split_on)\n",
    "md_header_splits = markdown_splitter.split_text(content)\n",
    "print(len(md_header_splits))\n",
    "md_header_splits"
   ]
  },
  {
   "cell_type": "code",
   "execution_count": 4,
   "metadata": {},
   "outputs": [
    {
     "name": "stderr",
     "output_type": "stream",
     "text": [
      "d:\\02-NextCloud\\github\\LangChain-Playground\\.venv\\lib\\site-packages\\sentence_transformers\\cross_encoder\\CrossEncoder.py:11: TqdmWarning: IProgress not found. Please update jupyter and ipywidgets. See https://ipywidgets.readthedocs.io/en/stable/user_install.html\n",
      "  from tqdm.autonotebook import tqdm, trange\n"
     ]
    }
   ],
   "source": [
    "vectorstore = Chroma.from_documents(\n",
    "    md_header_splits,\n",
    "    embedding=HuggingFaceEmbeddings(),\n",
    ")"
   ]
  },
  {
   "cell_type": "code",
   "execution_count": 10,
   "metadata": {},
   "outputs": [
    {
     "name": "stdout",
     "output_type": "stream",
     "text": [
      "6\n",
      "Finally, you can start making deposits and withdrawals in the entities you have created within each term. Select the desired entity and choose the \"Make Deposit\" or \"Make Withdrawal\" option. Enter the amount and the date of the transaction. This step will automatically update the term status and calculate the corresponding interest based on the established rate.\n",
      "With the term created, you can add financial entities where you will make deposits. Go to the specific term section and select \"Add Entity.\" Here, you need to provide the entity name and any other relevant information. You can add as many entities as needed within a term.\n",
      "```http\n",
      "POST /api/plazos/${plazo_id}/entidades\n",
      "```  \n",
      "| Parameter  | Type     | Description                                             |\n",
      "| :--------- | :------- | :------------------------------------------------------ |\n",
      "| `nombre`   | `string` | **Required**. Name of the entity or participant.        |\n",
      "To start using the application, you first need an account. You can register by providing basic information such as your name, email address, and a secure password. If you already have an account, simply log in with your credentials.\n",
      "Once you have logged in, you can create a fixed-term deposit. To do this, navigate to the \"Terms\" section and select \"Create New Term.\" You will need to enter information such as the term name, daily interest rate, initial amount, and start date. Save this information to proceed to the next step.\n",
      "```http\n",
      "POST /api/register\n",
      "```  \n",
      "| Parameter   | Type     | Description                |\n",
      "| :--------   | :------- | :------------------------- |\n",
      "| `username`  | `string` | **Required**.  User's username. |\n",
      "| `email`     | `string` | **Required**. User's email address. |\n",
      "| `password`  | `string` | **Required**. User's password.  |\n",
      "| `password2` | `string` | **Required**. Confirmation of password. |\n"
     ]
    }
   ],
   "source": [
    "retriever = vectorstore.as_retriever(search_type=\"similarity\", search_kwargs={\"k\": 6})\n",
    "\n",
    "retrieved_docs = retriever.invoke(\"How do I Create an Entity?\")\n",
    "\n",
    "print(len(retrieved_docs))\n",
    "for doc in retrieved_docs:\n",
    "    print(doc.page_content)"
   ]
  }
 ],
 "metadata": {
  "kernelspec": {
   "display_name": ".venv",
   "language": "python",
   "name": "python3"
  },
  "language_info": {
   "codemirror_mode": {
    "name": "ipython",
    "version": 3
   },
   "file_extension": ".py",
   "mimetype": "text/x-python",
   "name": "python",
   "nbconvert_exporter": "python",
   "pygments_lexer": "ipython3",
   "version": "3.10.11"
  }
 },
 "nbformat": 4,
 "nbformat_minor": 2
}
