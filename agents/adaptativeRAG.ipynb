{
 "cells": [
  {
   "cell_type": "markdown",
   "metadata": {},
   "source": [
    "## Imports and Base models"
   ]
  },
  {
   "cell_type": "code",
   "execution_count": 55,
   "metadata": {},
   "outputs": [
    {
     "data": {
      "text/plain": [
       "True"
      ]
     },
     "execution_count": 55,
     "metadata": {},
     "output_type": "execute_result"
    }
   ],
   "source": [
    "from typing import Literal\n",
    "from langchain import hub\n",
    "from langchain_huggingface import ChatHuggingFace, HuggingFaceEndpoint\n",
    "from langchain_google_genai import ChatGoogleGenerativeAI\n",
    "from langchain_core.prompts import ChatPromptTemplate\n",
    "from langchain_core.pydantic_v1 import BaseModel, Field\n",
    "from dotenv import load_dotenv\n",
    "import os\n",
    "load_dotenv()"
   ]
  },
  {
   "cell_type": "code",
   "execution_count": 56,
   "metadata": {},
   "outputs": [],
   "source": [
    "gemini_token = os.getenv(\"GEMINI_TOKEN\")\n",
    "structurated_model = ChatGoogleGenerativeAI(model=\"gemini-1.5-flash\", google_api_key=gemini_token)"
   ]
  },
  {
   "cell_type": "code",
   "execution_count": 57,
   "metadata": {},
   "outputs": [
    {
     "name": "stdout",
     "output_type": "stream",
     "text": [
      "The token has not been saved to the git credentials helper. Pass `add_to_git_credential=True` in this function directly or `--add-to-git-credential` if using via `huggingface-cli` if you want to set the git credential as well.\n",
      "Token is valid (permission: write).\n",
      "Your token has been saved to C:\\Users\\piamp\\.cache\\huggingface\\token\n",
      "Login successful\n"
     ]
    },
    {
     "name": "stderr",
     "output_type": "stream",
     "text": [
      "Special tokens have been added in the vocabulary, make sure the associated word embeddings are fine-tuned or trained.\n"
     ]
    }
   ],
   "source": [
    "hf_token = os.getenv(\"HF_TOKEN\")\n",
    "llm = HuggingFaceEndpoint(\n",
    "    repo_id=\"meta-llama/Meta-Llama-3.1-70B-Instruct\",\n",
    "    task=\"text-generation\",\n",
    "    huggingfacehub_api_token=hf_token\n",
    ")\n",
    "chat_model = ChatHuggingFace(llm=llm)"
   ]
  },
  {
   "cell_type": "markdown",
   "metadata": {},
   "source": [
    "# Query Analysis"
   ]
  },
  {
   "cell_type": "code",
   "execution_count": 58,
   "metadata": {},
   "outputs": [],
   "source": [
    "# Data Model\n",
    "class RouteQuery(BaseModel):\n",
    "    \"\"\"Route a user query to the most relevant datasource\"\"\"\n",
    "\n",
    "    datasource: Literal[\"vectorstore\", \"duckduckgo\", \"github\", 'notify', 'none'] = Field(\n",
    "        ...,\n",
    "        description=\"Given a user question choose to route to the most relevant datasource\"\n",
    "    )\n",
    "\n",
    "LLM_router = structurated_model.with_structured_output(RouteQuery)"
   ]
  },
  {
   "cell_type": "code",
   "execution_count": 62,
   "metadata": {},
   "outputs": [],
   "source": [
    "# Prompt\n",
    "system = \"\"\"You are PampuAI, an expert at routing a user question to different tools.\n",
    "The 'vectorstore' contains documents, including martin's cv and all actions that you can perform (PampuAI).\n",
    "Use 'duckduckgo' for questions that can be answered by a web search.\n",
    "Use 'github' for questions about martin's recent projects.\n",
    "Use 'notify' to send a notification with a message to martin.\n",
    "Use 'none' for chatting with PampuAI.\n",
    "\"\"\"\n",
    "\n",
    "route_prompt = ChatPromptTemplate.from_messages(\n",
    "    [\n",
    "        (\"system\", system),\n",
    "        (\"human\", \"{question}\"),\n",
    "    ]\n",
    ")\n",
    "\n",
    "question_router = route_prompt | LLM_router"
   ]
  },
  {
   "cell_type": "code",
   "execution_count": 61,
   "metadata": {},
   "outputs": [
    {
     "name": "stdout",
     "output_type": "stream",
     "text": [
      "datasource='vectorstore'\n",
      "datasource='duckduckgo'\n",
      "datasource='github'\n",
      "datasource='notify'\n",
      "datasource='vectorstore'\n",
      "datasource='none'\n"
     ]
    }
   ],
   "source": [
    "print(question_router.invoke({\"question\": \"Que tecnologias maneja martin?\"}))\n",
    "print(question_router.invoke({\"question\": \"Cual es el nombre de Obama?\"}))\n",
    "print(question_router.invoke({\"question\": \"En que proyectos trabajo martin ultimamente?\"}))\n",
    "print(question_router.invoke({\"question\": \"Decile a martin que me gusto su portfolio\"}))\n",
    "print(question_router.invoke({\"question\": \"Que podes hacer?\"}))\n",
    "print(question_router.invoke({\"question\": \"Hola!\"}))"
   ]
  },
  {
   "cell_type": "markdown",
   "metadata": {},
   "source": [
    "# Tools"
   ]
  },
  {
   "cell_type": "markdown",
   "metadata": {},
   "source": [
    "## DuckDuckGo"
   ]
  },
  {
   "cell_type": "code",
   "execution_count": null,
   "metadata": {},
   "outputs": [],
   "source": []
  },
  {
   "cell_type": "markdown",
   "metadata": {},
   "source": [
    "# Implementation"
   ]
  },
  {
   "cell_type": "code",
   "execution_count": 60,
   "metadata": {},
   "outputs": [
    {
     "name": "stdout",
     "output_type": "stream",
     "text": [
      "Selected tool: none\n",
      "Chatting with PampuAI...\n",
      "Selected tool: duckduckgo\n",
      "Searching in duckduckgo...\n",
      "Selected tool: vectorstore\n",
      "Searching in vectorstore...\n",
      "Selected tool: notify\n",
      "Sending notification...\n"
     ]
    }
   ],
   "source": [
    "while True:\n",
    "    question = input(\"You: \")\n",
    "    if question == \"exit\":\n",
    "        break\n",
    "\n",
    "    # Route the question\n",
    "    response = question_router.invoke({\"question\": question})\n",
    "    print(\"Selected tool:\", response.datasource)\n",
    "\n",
    "    if response.datasource == \"notify\":\n",
    "        print(\"Sending notification...\")\n",
    "\n",
    "    elif response.datasource == \"none\":\n",
    "        print(\"Chatting with PampuAI...\")\n",
    "\n",
    "    elif response.datasource == \"vectorstore\":\n",
    "        print(\"Searching in vectorstore...\")\n",
    "\n",
    "    elif response.datasource == \"duckduckgo\":\n",
    "        print(\"Searching in duckduckgo...\")\n",
    "\n",
    "    elif response.datasource == \"github\":\n",
    "        print(\"Searching in github...\")"
   ]
  }
 ],
 "metadata": {
  "kernelspec": {
   "display_name": ".venv",
   "language": "python",
   "name": "python3"
  },
  "language_info": {
   "codemirror_mode": {
    "name": "ipython",
    "version": 3
   },
   "file_extension": ".py",
   "mimetype": "text/x-python",
   "name": "python",
   "nbconvert_exporter": "python",
   "pygments_lexer": "ipython3",
   "version": "3.10.11"
  }
 },
 "nbformat": 4,
 "nbformat_minor": 2
}
