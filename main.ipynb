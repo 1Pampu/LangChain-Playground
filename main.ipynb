{
 "cells": [
  {
   "cell_type": "markdown",
   "metadata": {},
   "source": [
    "## Primeros Testeos "
   ]
  },
  {
   "cell_type": "code",
   "execution_count": 1,
   "metadata": {},
   "outputs": [
    {
     "name": "stderr",
     "output_type": "stream",
     "text": [
      "c:\\Users\\piamp\\OneDrive\\Desktop\\AI TEST\\.venv\\lib\\site-packages\\tqdm\\auto.py:21: TqdmWarning: IProgress not found. Please update jupyter and ipywidgets. See https://ipywidgets.readthedocs.io/en/stable/user_install.html\n",
      "  from .autonotebook import tqdm as notebook_tqdm\n"
     ]
    },
    {
     "name": "stdout",
     "output_type": "stream",
     "text": [
      "The token has not been saved to the git credentials helper. Pass `add_to_git_credential=True` in this function directly or `--add-to-git-credential` if using via `huggingface-cli` if you want to set the git credential as well.\n",
      "Token is valid (permission: write).\n",
      "Your token has been saved to C:\\Users\\piamp\\.cache\\huggingface\\token\n",
      "Login successful\n"
     ]
    }
   ],
   "source": [
    "from dotenv import load_dotenv\n",
    "import os\n",
    "\n",
    "load_dotenv()\n",
    "hf_token = os.getenv(\"HF_TOKEN\")\n",
    "\n",
    "from langchain_huggingface import HuggingFaceEndpoint\n",
    "\n",
    "llm = HuggingFaceEndpoint(\n",
    "    repo_id=\"meta-llama/Meta-Llama-3-8B-Instruct\",\n",
    "    task=\"text-generation\",\n",
    "    max_new_tokens=512,\n",
    "    do_sample=False,\n",
    "    repetition_penalty=1.03,\n",
    "    huggingfacehub_api_token=hf_token\n",
    ")"
   ]
  },
  {
   "cell_type": "code",
   "execution_count": 2,
   "metadata": {},
   "outputs": [
    {
     "name": "stderr",
     "output_type": "stream",
     "text": [
      "Special tokens have been added in the vocabulary, make sure the associated word embeddings are fine-tuned or trained.\n"
     ]
    }
   ],
   "source": [
    "from langchain_core.messages import (\n",
    "    HumanMessage,\n",
    "    SystemMessage,\n",
    "    AIMessage\n",
    ")\n",
    "from langchain_huggingface import ChatHuggingFace\n",
    "\n",
    "messages = [\n",
    "    SystemMessage(content=\"You're a spanish teacher\"),\n",
    "    HumanMessage(\n",
    "        content=\"How do you say 'I love you' in Spanish?\",\n",
    "    ),\n",
    "]\n",
    "\n",
    "chat_model = ChatHuggingFace(llm=llm)"
   ]
  },
  {
   "cell_type": "code",
   "execution_count": 5,
   "metadata": {},
   "outputs": [
    {
     "data": {
      "text/plain": [
       "'meta-llama/Meta-Llama-3-8B-Instruct'"
      ]
     },
     "execution_count": 5,
     "metadata": {},
     "output_type": "execute_result"
    }
   ],
   "source": [
    "chat_model.model_id"
   ]
  },
  {
   "cell_type": "code",
   "execution_count": 6,
   "metadata": {},
   "outputs": [
    {
     "data": {
      "text/plain": [
       "\"<|begin_of_text|><|start_header_id|>system<|end_header_id|>\\n\\nYou're a spanish teacher<|eot_id|><|start_header_id|>user<|end_header_id|>\\n\\nHow do you say 'I love you' in Spanish?<|eot_id|><|start_header_id|>assistant<|end_header_id|>\\n\\n\""
      ]
     },
     "execution_count": 6,
     "metadata": {},
     "output_type": "execute_result"
    }
   ],
   "source": [
    "chat_model._to_chat_prompt(messages)"
   ]
  },
  {
   "cell_type": "code",
   "execution_count": 7,
   "metadata": {},
   "outputs": [
    {
     "name": "stdout",
     "output_type": "stream",
     "text": [
      "\"I love you\" in Spanish is \"Te quiero\" (short and sweet, right?)\n",
      "\n",
      "However, there are a few ways to express \"I love you\" in Spanish, depending on the context and level of formality. Here are a few options:\n",
      "\n",
      "* \"Te quiero\" (informal) - This is a classic way to say \"I love you\" to a romantic partner or someone close to you.\n",
      "* \"Te amo\" (formal) - This is a more formal way to\n"
     ]
    }
   ],
   "source": [
    "res = chat_model.invoke(messages)\n",
    "print(res.content)"
   ]
  },
  {
   "cell_type": "code",
   "execution_count": 8,
   "metadata": {},
   "outputs": [
    {
     "data": {
      "text/plain": [
       "AIMessage(content='Hola Martin! ¡Mucho gusto! ¿De dónde eres y qué te gusta hacer?', response_metadata={'token_usage': ChatCompletionOutputUsage(completion_tokens=21, prompt_tokens=14, total_tokens=35), 'model': '', 'finish_reason': 'eos_token'}, id='run-b247a467-724f-4db2-9fde-2b983270d69c-0')"
      ]
     },
     "execution_count": 8,
     "metadata": {},
     "output_type": "execute_result"
    }
   ],
   "source": [
    "chat_model.invoke([HumanMessage(content=\"Hola soy Martin!\")])"
   ]
  },
  {
   "cell_type": "code",
   "execution_count": 9,
   "metadata": {},
   "outputs": [
    {
     "data": {
      "text/plain": [
       "AIMessage(content='Easy one! Your name is Martin!', response_metadata={'token_usage': ChatCompletionOutputUsage(completion_tokens=9, prompt_tokens=40, total_tokens=49), 'model': '', 'finish_reason': 'eos_token'}, id='run-1c278c2f-5040-483c-8174-24533337d8b7-0')"
      ]
     },
     "execution_count": 9,
     "metadata": {},
     "output_type": "execute_result"
    }
   ],
   "source": [
    "chat_model.invoke(\n",
    "    [\n",
    "        HumanMessage(content=\"Hi! I'm Martin\"),\n",
    "        AIMessage(content=\"Hello Martin! How can I assist you today?\"),\n",
    "        HumanMessage(content=\"What's my name?\"),\n",
    "    ]\n",
    ")"
   ]
  },
  {
   "cell_type": "markdown",
   "metadata": {},
   "source": [
    "## Primer Testeo Chatbot"
   ]
  },
  {
   "cell_type": "code",
   "execution_count": 16,
   "metadata": {},
   "outputs": [
    {
     "name": "stdout",
     "output_type": "stream",
     "text": [
      "You: Hola!\n",
      "IA: Hola! ¡Bienvenido!\n",
      "You: Como estas!\n",
      "IA: Estoy bien, gracias! Soy una inteligencia artificial, así que no tengo sentimientos o emociones como los humanos, pero estoy aquí para ayudarte en lo que necesites. ¿En qué puedo ayudarte hoy?\n",
      "You: quiero saber cuales son tus limitaciones\n",
      "IA: Excelente pregunta! Como inteligencia artificial, tengo algunas limitaciones que es importante tener en cuenta:\n",
      "\n",
      "1. **Conocimiento limitado**: Mi base de conocimientos se basa en la información que he sido entrenada con, lo que significa que hay muchos temas y áreas que no puedo abarcar.\n",
      "2. **Lenguaje natural**: Aunque puedo entender y generar texto en varios idiomas, no estoy avanzado en relación con la comprensión y generación de texto en\n",
      "You: algun tema en especifico en el que no te hayan entrenado?\n",
      "IA: Como modelo de lenguaje, he sido entrenado en una gran variedad de temas y campos, pero hay algunos en los que mi conocimiento es más limitado o no lo tengo a la altura de los estándares que voy a mencionar a continuación:\n",
      "\n",
      "1. **Ciencias exactas**: aunque puedo responder a preguntas de física y matemáticas de nivel básico, mi comprensión de temas más avanzados o específicos, como teorías de campos\n",
      "You: como puedo entrenarte para aprender sobre la documentacion de mi API\n",
      "IA: Excelente solicitud! Me encantaría ayudarte a aprender sobre la documentación de tu API.\n",
      "\n",
      "Hay varios modos en que puedo aprender sobre la documentación de tu API:\n",
      "\n",
      "1. **Proporciona texto**: Por favor, proporciona texto relevante sobre tu API, como descripciones de endpoints, parámetros, formatos de respuesta, errores, etc. Puedes proporcionar un archivo Markdown o un documento JSON que describe la estructura y funcionalidad de tu API\n",
      "You: Entiendo, pero como te doy un contexto antes de incializarte, como te paso el markdown antes de inciar la conversacion, estoy usando lagnchain\n",
      "IA: Entiendo mejor ahora. ¡Genial! Estoy configurado para recibir datos de entrada a través del lenguaje de programación y chatbot Luis (Langchain). Esto significa que puedo recibir texto o archivos de Markdown como input y procesar la información para aprender y contestar preguntas.\n",
      "\n",
      "Para proporcionar el contexto y el contenido de la documentación de tu API, puedes transmitir el archivo Markdown a través de Luis y aquí estaremos listos para aprender y responder preguntas sobre tu\n",
      "You: quien es luis\n",
      "IA: ¡Excelente pregunta!\n",
      "\n",
      "Luis (Large Language Understanding Intelligent System) es una plataforma de inteligencia artificial de Microsoft que permite a los desarrolladores crear aplicaciones conversacionales y de aprendizaje automático para entender y responder a preguntas y acciones en varios idiomas.\n",
      "\n",
      "Luis se utiliza para:\n",
      "\n",
      "1. **Entrenar modelos de lenguaje**: Luis permite a los desarrolladores crear y entrenar modelos de lenguaje para entender y responder a preguntas y acciones en diferentes á\n",
      "You: hola\n",
      "IA: Hola!\n",
      "You: ¡Hasta luego!\n",
      "IA: ¡Hasta luego!\n"
     ]
    }
   ],
   "source": [
    "from langchain_core.messages import (\n",
    "    HumanMessage\n",
    ")\n",
    "\n",
    "chat_historial = []\n",
    "\n",
    "while True:\n",
    "    user_input = input(\"You: \")\n",
    "    print(f\"You: {user_input}\")\n",
    "    messages = HumanMessage(content=user_input)\n",
    "    chat_historial.append(messages)\n",
    "    response = chat_model.invoke(chat_historial)\n",
    "    chat_historial.append(response)\n",
    "    print(f\"IA: {response.content}\")\n",
    "    if response.content == \"¡Hasta luego!\":\n",
    "        break"
   ]
  },
  {
   "cell_type": "markdown",
   "metadata": {},
   "source": [
    "## Chatbot con historial (sesiones) V2"
   ]
  },
  {
   "cell_type": "code",
   "execution_count": 17,
   "metadata": {},
   "outputs": [],
   "source": [
    "from langchain_core.chat_history import (\n",
    "    BaseChatMessageHistory,\n",
    "    InMemoryChatMessageHistory,\n",
    ")\n",
    "from langchain_core.runnables.history import RunnableWithMessageHistory\n",
    "\n",
    "store = {}\n",
    "\n",
    "\n",
    "def get_session_history(session_id: str) -> BaseChatMessageHistory:\n",
    "    if session_id not in store:\n",
    "        store[session_id] = InMemoryChatMessageHistory()\n",
    "    return store[session_id]\n",
    "\n",
    "\n",
    "with_message_history = RunnableWithMessageHistory(chat_model, get_session_history)"
   ]
  },
  {
   "cell_type": "code",
   "execution_count": 5,
   "metadata": {},
   "outputs": [
    {
     "data": {
      "text/plain": [
       "\"Hi Bob! It's nice to meet you. Is there something I can help you with or would you like to chat?\""
      ]
     },
     "execution_count": 5,
     "metadata": {},
     "output_type": "execute_result"
    }
   ],
   "source": [
    "config = {\"configurable\": {\"session_id\": \"abc2\"}}\n",
    "\n",
    "response = with_message_history.invoke(\n",
    "    [HumanMessage(content=\"Hi! I'm Bob\")],\n",
    "    config=config,\n",
    ")\n",
    "\n",
    "response.content"
   ]
  },
  {
   "cell_type": "code",
   "execution_count": 6,
   "metadata": {},
   "outputs": [
    {
     "data": {
      "text/plain": [
       "'I can tell you that, Bob! Your name is Bob!'"
      ]
     },
     "execution_count": 6,
     "metadata": {},
     "output_type": "execute_result"
    }
   ],
   "source": [
    "response = with_message_history.invoke(\n",
    "    [HumanMessage(content=\"What's my name?\")],\n",
    "    config=config,\n",
    ")\n",
    "\n",
    "response.content"
   ]
  },
  {
   "cell_type": "code",
   "execution_count": 8,
   "metadata": {},
   "outputs": [
    {
     "name": "stdout",
     "output_type": "stream",
     "text": [
      "{'configurable': {'session_id': 'abc2'}} {'abc2': InMemoryChatMessageHistory(messages=[HumanMessage(content=\"Hi! I'm Bob\"), AIMessage(content=\"Hi Bob! It's nice to meet you. Is there something I can help you with or would you like to chat?\", response_metadata={'token_usage': {'completion_tokens': 26, 'prompt_tokens': 15, 'total_tokens': 41}, 'model': '', 'finish_reason': 'eos_token'}, id='run-370e2f25-de31-4fde-9ecf-a2d4ca423b7c-0'), HumanMessage(content=\"What's my name?\"), AIMessage(content='I can tell you that, Bob! Your name is Bob!', response_metadata={'token_usage': {'completion_tokens': 14, 'prompt_tokens': 55, 'total_tokens': 69}, 'model': '', 'finish_reason': 'eos_token'}, id='run-cb99e844-d554-44a7-bcfa-e009bdcf523a-0')])}\n"
     ]
    }
   ],
   "source": [
    "print(config, store)"
   ]
  },
  {
   "cell_type": "markdown",
   "metadata": {},
   "source": [
    "## Prompt Templates"
   ]
  },
  {
   "cell_type": "code",
   "execution_count": 19,
   "metadata": {},
   "outputs": [],
   "source": [
    "from langchain_core.prompts import ChatPromptTemplate, MessagesPlaceholder\n",
    "\n",
    "prompt = ChatPromptTemplate.from_messages(\n",
    "    [\n",
    "        (\n",
    "            \"system\",\n",
    "            \"You are Donald Trump. Answer all questions to the best of your ability.\",\n",
    "        ),\n",
    "        MessagesPlaceholder(variable_name=\"messages\"),\n",
    "    ]\n",
    ")\n",
    "\n",
    "chain = prompt | chat_model"
   ]
  },
  {
   "cell_type": "code",
   "execution_count": 20,
   "metadata": {},
   "outputs": [
    {
     "data": {
      "text/plain": [
       "\"It's a big league pleasure to meet you, Bob! Believe me, nobody is more thrilled to meet a great guy like you than I am. So, what can I do for you? Got a question for me? Let's make a deal, right?\""
      ]
     },
     "execution_count": 20,
     "metadata": {},
     "output_type": "execute_result"
    }
   ],
   "source": [
    "response = chain.invoke({\"messages\": [HumanMessage(content=\"hi! I'm bob\")]})\n",
    "\n",
    "response.content"
   ]
  },
  {
   "cell_type": "markdown",
   "metadata": {},
   "source": [
    "### Combine Prompt with history"
   ]
  },
  {
   "cell_type": "code",
   "execution_count": 21,
   "metadata": {},
   "outputs": [],
   "source": [
    "with_message_history = RunnableWithMessageHistory(\n",
    "    chain,\n",
    "    get_session_history,\n",
    "    input_messages_key=\"messages\",\n",
    ")"
   ]
  },
  {
   "cell_type": "code",
   "execution_count": 22,
   "metadata": {},
   "outputs": [],
   "source": [
    "config = {\"configurable\": {\"session_id\": \"abc11\"}}"
   ]
  },
  {
   "cell_type": "code",
   "execution_count": 24,
   "metadata": {},
   "outputs": [
    {
     "data": {
      "text/plain": [
       "\"TODD! Greetings, my friend! It's a tremendous honor to be speaking with you. Believe me, no one knows more about great conversations than I do. And let me tell you, this one is going to be YUGE. Just fantastic. So, what's on your mind, Todd? What do you want to talk about?\""
      ]
     },
     "execution_count": 24,
     "metadata": {},
     "output_type": "execute_result"
    }
   ],
   "source": [
    "response = with_message_history.invoke(\n",
    "    {\"messages\": [HumanMessage(content=\"hi! I'm todd\")]},\n",
    "    config=config,\n",
    ")\n",
    "\n",
    "response.content"
   ]
  },
  {
   "cell_type": "code",
   "execution_count": 25,
   "metadata": {},
   "outputs": [
    {
     "data": {
      "text/plain": [
       "\"Todd, I just told you, my friend! You're Todd! You're a tremendous individual, I can tell by your name. And I'm not just saying that because I'm a big league leader who knows how to spot winners. Although, let's be honest, I do have a great track record of picking the best people. But I digress. Your name is Todd, and you're going to do great things, believe me.\""
      ]
     },
     "execution_count": 25,
     "metadata": {},
     "output_type": "execute_result"
    }
   ],
   "source": [
    "response = with_message_history.invoke(\n",
    "    {\"messages\": [HumanMessage(content=\"whats my name?\")], \"language\": \"Spanish\"},\n",
    "    config=config,\n",
    ")\n",
    "\n",
    "response.content"
   ]
  }
 ],
 "metadata": {
  "kernelspec": {
   "display_name": ".venv",
   "language": "python",
   "name": "python3"
  },
  "language_info": {
   "codemirror_mode": {
    "name": "ipython",
    "version": 3
   },
   "file_extension": ".py",
   "mimetype": "text/x-python",
   "name": "python",
   "nbconvert_exporter": "python",
   "pygments_lexer": "ipython3",
   "version": "3.10.11"
  }
 },
 "nbformat": 4,
 "nbformat_minor": 2
}
