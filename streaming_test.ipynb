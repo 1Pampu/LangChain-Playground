{
 "cells": [
  {
   "cell_type": "markdown",
   "metadata": {},
   "source": [
    "## Token Imports"
   ]
  },
  {
   "cell_type": "code",
   "execution_count": 2,
   "metadata": {},
   "outputs": [],
   "source": [
    "from dotenv import load_dotenv\n",
    "import os\n",
    "\n",
    "load_dotenv()\n",
    "hf_token = os.getenv(\"HF_TOKEN\")\n",
    "gemini_token = os.getenv(\"GEMINI_TOKEN\")"
   ]
  },
  {
   "cell_type": "markdown",
   "metadata": {},
   "source": [
    "## Define Chat Models"
   ]
  },
  {
   "cell_type": "code",
   "execution_count": 3,
   "metadata": {},
   "outputs": [
    {
     "name": "stderr",
     "output_type": "stream",
     "text": [
      "d:\\02-NextCloud\\github\\LangChain-Playground\\.venv\\lib\\site-packages\\tqdm\\auto.py:21: TqdmWarning: IProgress not found. Please update jupyter and ipywidgets. See https://ipywidgets.readthedocs.io/en/stable/user_install.html\n",
      "  from .autonotebook import tqdm as notebook_tqdm\n"
     ]
    },
    {
     "name": "stdout",
     "output_type": "stream",
     "text": [
      "The token has not been saved to the git credentials helper. Pass `add_to_git_credential=True` in this function directly or `--add-to-git-credential` if using via `huggingface-cli` if you want to set the git credential as well.\n",
      "Token is valid (permission: write).\n",
      "Your token has been saved to C:\\Users\\piamp\\.cache\\huggingface\\token\n",
      "Login successful\n"
     ]
    },
    {
     "name": "stderr",
     "output_type": "stream",
     "text": [
      "Special tokens have been added in the vocabulary, make sure the associated word embeddings are fine-tuned or trained.\n"
     ]
    }
   ],
   "source": [
    "from langchain_huggingface import HuggingFaceEndpoint,ChatHuggingFace\n",
    "\n",
    "llm = HuggingFaceEndpoint(\n",
    "    repo_id=\"meta-llama/Meta-Llama-3-8B-Instruct\",\n",
    "    task=\"text-generation\",\n",
    "    max_new_tokens=512,\n",
    "    do_sample=False,\n",
    "    repetition_penalty=1.03,\n",
    "    huggingfacehub_api_token=hf_token\n",
    ")\n",
    "\n",
    "llama = ChatHuggingFace(llm=llm)"
   ]
  },
  {
   "cell_type": "code",
   "execution_count": 4,
   "metadata": {},
   "outputs": [],
   "source": [
    "from langchain_google_genai import ChatGoogleGenerativeAI\n",
    "\n",
    "gemini = ChatGoogleGenerativeAI(model=\"gemini-pro\", google_api_key=gemini_token)"
   ]
  },
  {
   "cell_type": "markdown",
   "metadata": {},
   "source": [
    "## Test Streaming"
   ]
  },
  {
   "cell_type": "code",
   "execution_count": 11,
   "metadata": {},
   "outputs": [
    {
     "name": "stdout",
     "output_type": "stream",
     "text": [
      "content='Here\\'s a song about sparkling water:\\n\\n**Title:** \"Bubbly Delight\"\\n\\n**Verse 1:**\\nI was feeling flat, just going through the motions\\nUntil I cracked open a bottle of bubbling emotions\\nThe fizz hit my lips, and oh, what a feeling\\nA splash of excitement, my senses were revealing\\n\\n**Chorus:**\\nSparkling water, you\\'re my favorite friend\\nAlways refreshing, until the very end\\nYour bubbles tickle, and your taste' response_metadata={'token_usage': ChatCompletionOutputUsage(completion_tokens=100, prompt_tokens=18, total_tokens=118), 'model': '', 'finish_reason': 'length'} id='run-8b094b90-918f-45a6-91f7-aad856f6b84c-0'\n"
     ]
    }
   ],
   "source": [
    "for chunk in llama.stream(\"Write me a song about sparkling water.\"):\n",
    "    print(chunk, flush=True)"
   ]
  },
  {
   "cell_type": "code",
   "execution_count": 10,
   "metadata": {},
   "outputs": [
    {
     "name": "stdout",
     "output_type": "stream",
     "text": [
      "content='(Verse 1)\\nOh, sparkling water, clear and bright,\\n' response_metadata={'finish_reason': 'STOP', 'safety_ratings': [{'category': 'HARM_CATEGORY_SEXUALLY_EXPLICIT', 'probability': 'NEGLIGIBLE', 'blocked': False}, {'category': 'HARM_CATEGORY_HATE_SPEECH', 'probability': 'NEGLIGIBLE', 'blocked': False}, {'category': 'HARM_CATEGORY_HARASSMENT', 'probability': 'NEGLIGIBLE', 'blocked': False}, {'category': 'HARM_CATEGORY_DANGEROUS_CONTENT', 'probability': 'NEGLIGIBLE', 'blocked': False}]} id='run-6b8fef9a-f330-4bdc-be93-2ee012a3b4c8' usage_metadata={'input_tokens': 9, 'output_tokens': 15, 'total_tokens': 24}\n",
      "content='A symphony of bubbles, a pure delight.\\nFrom hidden springs, you gently rise,\\nA thirst-quenching elixir, a refreshing prize.\\n\\n(' response_metadata={'finish_reason': 'STOP', 'safety_ratings': [{'category': 'HARM_CATEGORY_SEXUALLY_EXPLICIT', 'probability': 'NEGLIGIBLE', 'blocked': False}, {'category': 'HARM_CATEGORY_HATE_SPEECH', 'probability': 'NEGLIGIBLE', 'blocked': False}, {'category': 'HARM_CATEGORY_HARASSMENT', 'probability': 'NEGLIGIBLE', 'blocked': False}, {'category': 'HARM_CATEGORY_DANGEROUS_CONTENT', 'probability': 'NEGLIGIBLE', 'blocked': False}]} id='run-6b8fef9a-f330-4bdc-be93-2ee012a3b4c8' usage_metadata={'input_tokens': 9, 'output_tokens': 47, 'total_tokens': 56}\n",
      "content='Chorus)\\nSparkling water, sparkling water,\\nYour effervescence sets my heart aflutter.\\nWith every sip, you dance and play,\\nA sparkling symphony, washing worries away.\\n\\n(Verse 2)\\nYour bubbles burst upon my tongue,\\nA burst of flavor, fresh and young.\\n' response_metadata={'finish_reason': 'STOP', 'safety_ratings': [{'category': 'HARM_CATEGORY_SEXUALLY_EXPLICIT', 'probability': 'NEGLIGIBLE', 'blocked': False}, {'category': 'HARM_CATEGORY_HATE_SPEECH', 'probability': 'NEGLIGIBLE', 'blocked': False}, {'category': 'HARM_CATEGORY_HARASSMENT', 'probability': 'NEGLIGIBLE', 'blocked': False}, {'category': 'HARM_CATEGORY_DANGEROUS_CONTENT', 'probability': 'NEGLIGIBLE', 'blocked': False}]} id='run-6b8fef9a-f330-4bdc-be93-2ee012a3b4c8' usage_metadata={'input_tokens': 9, 'output_tokens': 110, 'total_tokens': 119}\n",
      "content='You hydrate my body, quench my thirst,\\nLeaving me invigorated, at my best.\\n\\n(Chorus)\\nSparkling water, sparkling water,\\nYour effervescence sets my heart aflutter.\\nWith every sip, you dance and play,\\nA sparkling symphony, washing worries away.\\n\\n(Bridge)\\nIn the morning, you awaken my senses,\\nWith your crisp and lively presence.\\nAt lunch, you refresh my weary mind,\\nA sparkling pick-me-up, so divine.\\n\\n(Verse 3)\\nAt dinner, you complement the finest fare,\\nEnhancing flavors, beyond compare.' response_metadata={'finish_reason': 'STOP', 'safety_ratings': [{'category': 'HARM_CATEGORY_SEXUALLY_EXPLICIT', 'probability': 'NEGLIGIBLE', 'blocked': False}, {'category': 'HARM_CATEGORY_HATE_SPEECH', 'probability': 'NEGLIGIBLE', 'blocked': False}, {'category': 'HARM_CATEGORY_HARASSMENT', 'probability': 'NEGLIGIBLE', 'blocked': False}, {'category': 'HARM_CATEGORY_DANGEROUS_CONTENT', 'probability': 'NEGLIGIBLE', 'blocked': False}]} id='run-6b8fef9a-f330-4bdc-be93-2ee012a3b4c8' usage_metadata={'input_tokens': 9, 'output_tokens': 238, 'total_tokens': 247}\n",
      "content='\\nAnd before bed, you lull me to sleep,\\nWith your gentle effervescence, soft and deep.\\n\\n(Chorus)\\nSparkling water, sparkling water,\\nYour effervescence sets my heart aflutter.\\nWith every sip, you dance and play,\\nA sparkling symphony, washing worries away.\\n\\n(Outro)\\nOh, sparkling water, my constant friend,\\nYour bubbly embrace, my cares transcend.\\nMay your effervescence forever flow,\\nQuenching my thirst, making my spirit glow.' response_metadata={'finish_reason': 'STOP', 'safety_ratings': [{'category': 'HARM_CATEGORY_SEXUALLY_EXPLICIT', 'probability': 'NEGLIGIBLE', 'blocked': False}, {'category': 'HARM_CATEGORY_HATE_SPEECH', 'probability': 'NEGLIGIBLE', 'blocked': False}, {'category': 'HARM_CATEGORY_HARASSMENT', 'probability': 'NEGLIGIBLE', 'blocked': False}, {'category': 'HARM_CATEGORY_DANGEROUS_CONTENT', 'probability': 'NEGLIGIBLE', 'blocked': False}]} id='run-6b8fef9a-f330-4bdc-be93-2ee012a3b4c8' usage_metadata={'input_tokens': 9, 'output_tokens': 343, 'total_tokens': 352}\n"
     ]
    }
   ],
   "source": [
    "for chunk in gemini.stream(\"Write me a song about sparkling water.\"):\n",
    "    print(chunk, flush=True)"
   ]
  }
 ],
 "metadata": {
  "kernelspec": {
   "display_name": ".venv",
   "language": "python",
   "name": "python3"
  },
  "language_info": {
   "codemirror_mode": {
    "name": "ipython",
    "version": 3
   },
   "file_extension": ".py",
   "mimetype": "text/x-python",
   "name": "python",
   "nbconvert_exporter": "python",
   "pygments_lexer": "ipython3",
   "version": "3.10.11"
  }
 },
 "nbformat": 4,
 "nbformat_minor": 2
}
